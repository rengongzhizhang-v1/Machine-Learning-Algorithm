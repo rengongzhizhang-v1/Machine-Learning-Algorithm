{
 "cells": [
  {
   "cell_type": "code",
   "execution_count": 1,
   "metadata": {
    "ExecuteTime": {
     "end_time": "2020-12-13T15:08:40.012883Z",
     "start_time": "2020-12-13T15:08:39.805439Z"
    }
   },
   "outputs": [],
   "source": [
    "# 导入基本包\n",
    "import numpy as np\n",
    "import matplotlib.pyplot as plt\n",
    "from ipywidgets import *\n",
    "from mpl_toolkits import mplot3d #用于绘制3D图形\n",
    "\n",
    "# 显示所有过程结果\n",
    "from IPython.core.interactiveshell import InteractiveShell\n",
    "InteractiveShell.ast_node_interactivity = 'all'\n",
    "\n",
    "plt.rcParams['font.sans-serif']=['SimHei']  # 用来正常显示中文标签\n",
    "plt.rcParams['axes.unicode_minus']=False  # 用来正常显示负号"
   ]
  },
  {
   "cell_type": "markdown",
   "metadata": {},
   "source": [
    "## 一、基本原理"
   ]
  },
  {
   "cell_type": "markdown",
   "metadata": {
    "ExecuteTime": {
     "end_time": "2020-12-08T13:57:58.012461Z",
     "start_time": "2020-12-08T13:57:57.986555Z"
    },
    "heading_collapsed": true
   },
   "source": [
    "### （一）什么是梯度？\n",
    "\n",
    "#### 1、从偏导数说起\n",
    "\n",
    "（1）一元函数情况\n",
    "\n",
    "对于一元函数 $y = f(x)$ 来说，偏导数实际上就是指的导数，其定义如下：\n",
    "\n",
    "$$\n",
    "\\lim_{\\Delta{x}\\to 0}\\frac{\\Delta{y}}{\\Delta{x}} = \\lim_{\\Delta{x} \\to 0}\\frac{f(x_0 + \\Delta{x}) - f(x_0)}{\\Delta{x}}\n",
    "$$\n",
    "\n",
    "几何意义：在点 $（x_0, y_0）$ 处的切线（ $y$ 关于 $x$ 的变化率），如下图：\n",
    "\n",
    "<img src='.\\pic1.png' width=400>\n",
    "\n",
    "（2）多元函数情况（以二元函数为例，二元以上可类推）\n",
    "\n",
    "对于二元函数 $Z = f(x, y)$，我们同样也可以定义：\n",
    "\n",
    "① $Z$ 关于 $x$ 的偏导数可以定义如下：\n",
    "\n",
    "$$\n",
    "Z_x^{'} = f_x^{'}(x_0, y_0) = \\lim_{\\Delta{x}\\to 0}\\frac{\\Delta{Z_x}}{\\Delta{x}} = \\lim_{\\Delta{x} \\to 0}\\frac{f(x_0 + \\Delta{x},\\  y_0) - f(x_0,\\  y_0)}{\\Delta{x}}\n",
    "$$\n",
    "\n",
    "几何意义： $Z$ 关于 $x$ 的变化率，即： $y$ 不变， $x$ 变化， $Z$ 随之发生的变化量。\n",
    "\n",
    "② $Z$ 关于 $y$ 的偏导数可以定义如下：\n",
    "\n",
    "$$\n",
    "Z_y^{'} = f_y^{'}(x_0, y_0) = \\lim_{\\Delta{y}\\to 0}\\frac{\\Delta{Z_y}}{\\Delta{y}} = \\lim_{\\Delta{y} \\to 0}\\frac{f(x_0,\\  y_0 + \\Delta{y}) - f(x_0,\\  y_0)}{\\Delta{y}}\n",
    "$$\n",
    "\n",
    "几何意义：$Z$ 关于 $y$ 的变化率，即： $x$ 不变， $y$ 变化， $Z$ 随之发生的变化量。 \n",
    "\n",
    "#### 2、方向导数\n",
    "\n",
    "上述定义了多元函数的偏导数，但是偏导数只是描述了函数在**某一个变量方向上**的的变化率，但是对于多元函数来说，某一点上有无数个变化方向，那么我们如何衡量多元函数向**任意一个方向**变化的变化率呢？答案就是**方向导数**。\n",
    "\n",
    "还是以二元函数 $Z = f(x, y)$ 为例。如下图：\n",
    "\n",
    "<img src='.\\pic2.png' width=600>\n",
    "\n",
    "点 $（x_0, y_0）$ 沿着 $\\vec{l}$ 方向变化，变化量为向量 $(\\Delta x, \\Delta y)$ 的长度。 那么此时 $Z$ 的变化率就为：\n",
    "\n",
    "$$\n",
    "\\left. \\frac{\\partial Z^{'}}{\\partial \\vec{l}} \\right|_{(x_0,\\  y_0 \\ )}  = \\lim_{{\\Delta{x}\\to 0}\\\\{\\Delta{y}\\to 0}}\\frac{\\Delta{Z_{(x,y)}}}{\\sqrt{(\\Delta x)^2 + (\\Delta y)^2 }} = \\lim_{{\\Delta{x}\\to 0}\\\\{\\Delta{y}\\to 0}}\\frac{f(x_0 + \\Delta{x},\\  y_0 + \\Delta{y}) - f(x_0,\\  y_0)}{\\sqrt{(\\Delta x)^2 + (\\Delta y)^2 }} \\tag{1}\n",
    "$$\n",
    "\n",
    "令 $t = \\sqrt{(\\Delta x)^2 + (\\Delta y)^2 }$，则 ${\\Delta x} = tcos\\alpha$，${\\Delta y} = tcos\\beta$。因此定义式 $(1)$ 可以变换为：\n",
    "\n",
    "$$\n",
    "\\left. \\frac{\\partial Z^{'}}{\\partial \\vec{l}} \\right|_{(x_0,\\  y_0 \\ )} = \\lim_{t \\to 0}\\frac{f(x_0 + tcos\\alpha,\\  y_0 + tcos\\beta) - f(x_0,\\  y_0)}{t} \\tag{2}\n",
    "$$\n",
    "\n",
    "那么我们如何计算方向导数呢？首先函数在某一点 $P_0(x_0, y_0)$ 处方向导数存在的充分条件是函数 $Z = f(x,y)$ 在该点可微。根据可微的定义可知：\n",
    "\n",
    "$$\n",
    "\\Delta Z = f^{'}_x {\\Delta x} + f^{'}_y {\\Delta y} + \\omicron (\\sqrt{(\\Delta x)^2 + (\\Delta y)^2 }) \\tag{3}\n",
    "$$\n",
    "\n",
    "$$\n",
    "\\begin{align}\n",
    "(3)式 & \\Rightarrow f(x_0 + tcos\\alpha,\\  y_0 + tcos\\beta) - f(x_0,\\  y_0) = f^{'}_x{tcos \\alpha} + f^{'}_y{tcos \\beta} + \\omicron (t) \\\\\n",
    "\\\\\n",
    "& \\Rightarrow \\lim_{t \\to 0}\\frac{f(x_0 + tcos\\alpha,\\  y_0 + tcos\\beta) - f(x_0,\\  y_0)}{t} = \\lim_{t \\to 0}\\frac{f^{'}_x{tcos \\alpha}}{t} + \\lim_{t \\to 0}\\frac{f^{'}_y{tcos \\beta}}{t} + \\lim_{t \\to 0}\\frac{\\omicron (t)}{t} \\\\\n",
    "\\\\\n",
    "& \\Rightarrow \\left. \\frac{\\partial Z^{'}}{\\partial \\vec{l}} \\right|_{(x_0,\\  y_0 \\ )} = f^{'}_x{cos \\alpha} + f^{'}_y{cos \\beta} \\tag{4}\n",
    "\\end{align}\n",
    "$$\n",
    "\n",
    "#### 3、梯度\n",
    "\n",
    "进一步引入向量内积的概念。向量 $\\vec{\\alpha}(a_1, a_2)$ 与 $\\vec{\\beta}(b_1, b_2)$ 的内积，其基本定义为：\n",
    "\n",
    "$$\n",
    "\\vec{\\alpha} \\bullet \\vec{\\beta} = {a_1}{b_1} + {a_2}{b_2}\n",
    "$$\n",
    "\n",
    "几何定义为：\n",
    "\n",
    "$$\n",
    "\\vec{\\alpha} \\bullet \\vec{\\beta} = |{\\vec{\\alpha}}| |{\\vec{\\beta}}|{cos\\theta} \\ \\ （\\theta 为 \\vec{\\alpha} 与 \\vec{\\beta} 之间的夹角）\n",
    "$$\n",
    "\n",
    "因此，我们方向导数 $(4)$ 式可以写成向量内积的形式，如下：\n",
    "$$\n",
    "\\begin{align}\n",
    " \\left. \\frac{\\partial Z^{'}}{\\partial \\vec{l}} \\right|_{(x_0,\\  y_0 \\ )} & = f^{'}_x{cos \\alpha} + f^{'}_y{cos \\beta} \\\\\n",
    " \\\\\n",
    "& = \\color {#F00}{(f^{'}_x, \\ f^{'}_y)} \\bullet \\color {#08F}{({cos \\alpha}, \\ {cos \\beta})} \\tag{5}\n",
    "\\end{align}\n",
    "$$\n",
    "\n",
    "我们将上述 $(5)$ 式中 ${(f^{'}_x, \\ f^{'}_y)}$ 称为 **梯度向量** ，记作：$\\pmb{grad}f(x_0, y_0)$，或者 $\\pmb{\\nabla} f(x_0, y_0)$。这里切记，**梯度是个向量**。 向量 ${({cos \\alpha}, \\ {cos \\beta})}$ 其实就是变化方向$\\vec{l}$上的单位向量。\n",
    "\n",
    "### （二）为什么梯度方向（正、反）是函数值局部变化（上升、下降）最快的方向？\n",
    "\n",
    "根据上述定义，方向导数其实就是梯度向量和变化方向上的单位向量的内积。即：\n",
    "\n",
    "$$\n",
    "\\begin{align}\n",
    "& \\left. \\frac{\\partial Z^{'}}{\\partial \\vec{l}} \\right|_{(x_0,\\  y_0 \\ )} = \\pmb{\\nabla} f(x_0, y_0) \\bullet \\vec{e}\n",
    "\\\\\n",
    "\\\\\n",
    "& 其中， \\pmb{\\nabla} f(x_0, y_0) = (f^{'}_x, \\ f^{'}_y)； \\ \\vec{e} = (cos\\alpha, \\ cos\\beta)，为变化方向\\ \\vec{l}\\ 上的单位向量\n",
    "\\end{align}\n",
    "$$\n",
    "\n",
    "如下图：\n",
    "\n",
    "<img src='.\\pic3.png' width=500>\n",
    "\n",
    "根据内积几何定义可得：\n",
    "\n",
    "$$\n",
    "\\begin{align}\n",
    "& \\left. \\frac{\\partial Z^{'}}{\\partial \\vec{l}} \\right|_{(x_0,\\  y_0 \\ )} = |\\pmb{\\nabla} f(x_0, y_0)| |\\vec{e}| cos\\theta\n",
    "\\end{align}\n",
    "$$\n",
    "\n",
    "当 $cos\\theta = 1$，即： $\\theta=0$ 时，也就是说当变化方向与梯度**同向**时， 方向导数取**正数最大值**，因此，函数**上升最快**。\n",
    "\n",
    "当 $cos\\theta = -1$，即： $\\theta=\\pi$ 时，也就是说当变化方向与梯度**反向**时， 方向导数取**负数最小值**，因此，函数**下降最快**。\n",
    "\n",
    "### （三）梯度下降法\n",
    "\n",
    "#### 1、基本原理\n",
    "\n",
    "那么什么是梯度下降法呢？首先我们要明确，梯度下降法（Gradient Descent）并不是一个机器学习算法，而是一种基于搜索的最优化方法。通过梯度下降法，能够最小化一个损失函数。\n",
    "\n",
    "\n",
    "以线性回归为例，我们的损失函数为：\n",
    "\n",
    "$$ J(\\theta) = \\sum_{i=1}^{m}(y^{(i)} - \\widehat{y}^{(i)})^2 = \\sum_{i=1}^{m}(y^{(i)} - (\\theta_0{x_0^{(i)}} + \\theta_1{x_1^{(i)}} + \\theta_2{x_2^{(i)}} + ... + \\theta_n{x_n^{(i)}}))^2 $$\n",
    "\n",
    "我们的目标是最优化损失函数 $J(\\theta)$，即：找到一组参数 $\\theta(\\theta_0, \\theta_1, \\theta_2, ... \\theta_n)$ 使得 $J(\\theta)$ 最小。\n",
    "\n",
    "由于**损失函数 $J(\\theta)$ 是关于 $\\theta$ 的函数，所以我们只要控制 $\\theta$ 朝着 $J(\\theta)$ 下降最快（梯度负方向）的方向进行变化，就最终能找到 $J(\\theta)$ 的局部最小值。**\n",
    "\n",
    "如何控制参数向量 $\\theta$ 向着 $J(\\theta)$ 下降最快的方向进行变化呢？方法就是在梯度的负方向上进行逐步增量，用公式表示就是：\n",
    "\n",
    "$$\n",
    "\\theta_{new} = \\theta_{old} - \\eta\\pmb{\\nabla}J(\\theta_{old}) \\\\\n",
    "$$\n",
    "其中：\n",
    "\n",
    "（1）负号表示“负方向”； \n",
    "\n",
    "（2）$\\eta$ 为学习率，是控制 $\\theta$ 向着 $J(\\theta)$ 的局部最小值进行变化的步长，学习率 $\\eta$ 不宜过大（太大容易跑过局部最小值），也不宜太小（太小前进的速度太缓慢）； \n",
    "\n",
    "（3）$\\pmb{\\nabla}J(\\theta)$ 为梯度向量，梯度向量控制变化方向。\n",
    "\n",
    "**注意：** 一定要形成，$\\theta$ 和梯度$\\pmb{\\nabla}$都是向量的概念，向量是$\\pmb{\\color{#F00}{有方向的}}$。\n",
    "\n",
    "我们以单一参数的损失函数 $J(\\theta)$ 为例，以图形进行直观地展示，如下：\n",
    "\n",
    "<img src='.\\pic4.png' width=800>\n",
    "\n",
    "如上图，我们首先初始化一个参数向量 $\\theta_0$，由于这里只是单参数，所以向量 $\\theta_0$ 就是一个标量（为了使向量的概念深深引入脑海，这里也将其当作一个特殊向量），梯度 $\\pmb{\\nabla}{J(\\theta_0)} = \\frac{dJ}{d\\theta}$。我们将初始化的参数向量 $\\theta_0$ 向着梯度的负方向进行更新，得到新的参数向量。即： $\\theta_1 = \\theta_0 - \\eta \\frac{dJ}{d\\theta}$ ，继续更新$\\theta_2 = \\theta_1 - \\eta \\frac{dJ}{d\\theta}$，只到损失函数 $J(\\theta)$ 达到（局部）最小。\n",
    "\n",
    "那我们什么时候停止迭代呢？因为在沿着梯度的方向进行迭代时， $J(\\theta)$ 逐渐接近局部最小值，相应地，梯度也会逐渐趋向0，因此前进的步子也会越来越小。根据这一特性，我们可以设计参数迭代的收敛条件如下：\n",
    "\n",
    "(1) $\\pmb{\\color {#F00}{迭代的过程中\\theta的值变化很小时，迭代收敛。即： \\theta_{new} - \\theta_{old} 非常小（设定一个收敛阈值）；}}$\n",
    "\n",
    "(2) $\\pmb{\\color {#F00}{迭代的过程中 J(\\theta) 的值变化很小时，迭代收敛。即：J(\\theta_{new}) - J(\\theta_{old}) 非常小（设定一个收敛阈值）}}$\n",
    "\n",
    "#### 2、学习率的选择\n",
    "\n",
    "（1）学习率过小\n",
    "\n",
    "<img src='.\\pic5.png' width=600>\n",
    "\n",
    "如图，学习率太小，会导致收敛速度缓慢。\n",
    "\n",
    "（2）学习率过大\n",
    "\n",
    "<img src='.\\pic6.png' width=600>\n",
    "\n",
    "如图，学习率太大，可能会越过最小值点，导致最终无法收敛。\n",
    "\n",
    "在实践中，一般选择 $\\eta = 0.01$。\n",
    "\n",
    "#### 3、全局最小值与局部最小值的问题\n",
    "\n",
    "<img src='.\\pic7.png' width=600>\n",
    "\n",
    "如上图，损失函数 $J(\\theta)$ 是一个具有两个极值点的函数，当我们初始点设置在“初始点1”时，我们就会滑入一个局部最优解，而不能找到真正的全局最优解。如何解决这个问题呢？解决方法就是**多次随机化初始点**，以期望能找到类似“初始点2”这样的能够滑入全局最优解的点。\n",
    "\n",
    "### （四）补充：梯度上升法\n",
    "\n",
    "$$\n",
    "\\theta_{new} = \\theta_{old} + \\eta\\pmb{\\nabla}J(\\theta_{old}) \\\\\n",
    "$$"
   ]
  },
  {
   "cell_type": "markdown",
   "metadata": {},
   "source": [
    "## 二、模拟实现与原理可视化展示"
   ]
  },
  {
   "cell_type": "markdown",
   "metadata": {},
   "source": [
    "### （一）单一参数"
   ]
  },
  {
   "cell_type": "markdown",
   "metadata": {},
   "source": [
    "#### 1、分步验证"
   ]
  },
  {
   "cell_type": "code",
   "execution_count": 57,
   "metadata": {
    "ExecuteTime": {
     "end_time": "2020-12-13T15:17:16.034455Z",
     "start_time": "2020-12-13T15:17:15.896155Z"
    }
   },
   "outputs": [
    {
     "data": {
      "text/plain": [
       "array([-2.        , -1.83673469, -1.67346939, -1.51020408, -1.34693878,\n",
       "       -1.18367347, -1.02040816, -0.85714286, -0.69387755, -0.53061224,\n",
       "       -0.36734694, -0.20408163, -0.04081633,  0.12244898,  0.28571429,\n",
       "        0.44897959,  0.6122449 ,  0.7755102 ,  0.93877551,  1.10204082,\n",
       "        1.26530612,  1.42857143,  1.59183673,  1.75510204,  1.91836735,\n",
       "        2.08163265,  2.24489796,  2.40816327,  2.57142857,  2.73469388,\n",
       "        2.89795918,  3.06122449,  3.2244898 ,  3.3877551 ,  3.55102041,\n",
       "        3.71428571,  3.87755102,  4.04081633,  4.20408163,  4.36734694,\n",
       "        4.53061224,  4.69387755,  4.85714286,  5.02040816,  5.18367347,\n",
       "        5.34693878,  5.51020408,  5.67346939,  5.83673469,  6.        ])"
      ]
     },
     "execution_count": 57,
     "metadata": {},
     "output_type": "execute_result"
    },
    {
     "data": {
      "text/plain": [
       "array([21.        , 19.72053311, 18.49437734, 17.32153269, 16.20199917,\n",
       "       15.13577676, 14.12286547, 13.16326531, 12.25697626, 11.40399833,\n",
       "       10.60433153,  9.85797584,  9.16493128,  8.52519783,  7.93877551,\n",
       "        7.40566431,  6.92586422,  6.49937526,  6.12619742,  5.8063307 ,\n",
       "        5.53977509,  5.32653061,  5.16659725,  5.05997501,  5.00666389,\n",
       "        5.00666389,  5.05997501,  5.16659725,  5.32653061,  5.53977509,\n",
       "        5.8063307 ,  6.12619742,  6.49937526,  6.92586422,  7.40566431,\n",
       "        7.93877551,  8.52519783,  9.16493128,  9.85797584, 10.60433153,\n",
       "       11.40399833, 12.25697626, 13.16326531, 14.12286547, 15.13577676,\n",
       "       16.20199917, 17.32153269, 18.49437734, 19.72053311, 21.        ])"
      ]
     },
     "execution_count": 57,
     "metadata": {},
     "output_type": "execute_result"
    },
    {
     "data": {
      "text/plain": [
       "<Figure size 432x288 with 0 Axes>"
      ]
     },
     "execution_count": 57,
     "metadata": {},
     "output_type": "execute_result"
    },
    {
     "data": {
      "text/plain": [
       "[<matplotlib.lines.Line2D at 0x2b8ba6e0ba8>]"
      ]
     },
     "execution_count": 57,
     "metadata": {},
     "output_type": "execute_result"
    },
    {
     "data": {
      "image/png": "[encoded data removed]",
      "text/plain": [
       "<Figure size 432x288 with 1 Axes>"
      ]
     },
     "metadata": {
      "needs_background": "light"
     },
     "output_type": "display_data"
    }
   ],
   "source": [
    "# 生成模拟数据\n",
    "plot_theta = np.linspace(-2., 6., 50)\n",
    "plot_theta\n",
    "\n",
    "plot_J = (plot_theta - 2) ** 2 + 5\n",
    "plot_J\n",
    "\n",
    "# 绘图\n",
    "plt.figure()\n",
    "plt.plot(plot_theta, plot_J, color='steelblue')\n",
    "plt.show()"
   ]
  },
  {
   "cell_type": "code",
   "execution_count": 58,
   "metadata": {
    "ExecuteTime": {
     "end_time": "2020-12-13T15:17:16.683674Z",
     "start_time": "2020-12-13T15:17:16.674698Z"
    },
    "scrolled": false
   },
   "outputs": [
    {
     "name": "stdout",
     "output_type": "stream",
     "text": [
      "一共迭代了80次\n",
      "以theta变化极小作为收敛方式时得到的参数theta为：1.9999999646630588\n",
      "以theta变化极小作为收敛方式时得到的最小值为：5.000000000000001\n",
      "一共迭代了44次\n",
      "以J变化极小作为收敛方式时得到的参数theta为：1.999891109642585\n",
      "以J变化极小作为收敛方式时得到的最小值为：5.00000001185711\n"
     ]
    }
   ],
   "source": [
    "# 定义损失函数\n",
    "def Func_J(theta):\n",
    "    return (theta - 2) ** 2 + 5\n",
    "\n",
    "# 定义求导（求梯度）函数\n",
    "def grad(theta):\n",
    "    return 2 * (theta - 2)\n",
    "\n",
    "# 以theta变化极小作为收敛条件\n",
    "eta = 0.1  # 学习率\n",
    "epsilon = 1e-8  # 收敛阈值\n",
    "theta = 0.0  # 初始theta\n",
    "i = 0\n",
    "while True:\n",
    "    gradient = grad(theta)\n",
    "    theta_old = theta\n",
    "    theta = theta_old - eta * gradient\n",
    "    i += 1\n",
    "    \n",
    "    if abs(theta - theta_old) < epsilon:\n",
    "        break\n",
    "\n",
    "print('一共迭代了{}次'.format(i))\n",
    "print('以theta变化极小作为收敛方式时得到的参数theta为：{}'.format(theta))\n",
    "print('以theta变化极小作为收敛方式时得到的最小值为：{}'.format(Func_J(theta)))\n",
    "\n",
    "\n",
    "# 以J(theta)变化极小作为收敛条件\n",
    "eta = 0.1  # 学习率\n",
    "epsilon = 1e-8  # 收敛阈值\n",
    "theta = 0.0  # 初始theta\n",
    "i = 0\n",
    "while True:\n",
    "    gradient = grad(theta)\n",
    "    theta_old = theta\n",
    "    theta = theta_old - eta * gradient\n",
    "    i += 1\n",
    "    if abs(Func_J(theta) - Func_J(theta_old)) < epsilon:\n",
    "        break\n",
    "        \n",
    "print('一共迭代了{}次'.format(i))\n",
    "print('以J变化极小作为收敛方式时得到的参数theta为：{}'.format(theta))\n",
    "print('以J变化极小作为收敛方式时得到的最小值为：{}'.format(Func_J(theta)))"
   ]
  },
  {
   "cell_type": "code",
   "execution_count": 59,
   "metadata": {
    "ExecuteTime": {
     "end_time": "2020-12-13T15:17:17.525465Z",
     "start_time": "2020-12-13T15:17:17.410729Z"
    }
   },
   "outputs": [
    {
     "data": {
      "text/plain": [
       "1.999891109642585"
      ]
     },
     "execution_count": 59,
     "metadata": {},
     "output_type": "execute_result"
    },
    {
     "data": {
      "text/plain": [
       "5.00000001185711"
      ]
     },
     "execution_count": 59,
     "metadata": {},
     "output_type": "execute_result"
    },
    {
     "data": {
      "text/plain": [
       "<Figure size 432x288 with 0 Axes>"
      ]
     },
     "execution_count": 59,
     "metadata": {},
     "output_type": "execute_result"
    },
    {
     "data": {
      "text/plain": [
       "[<matplotlib.lines.Line2D at 0x2b8ba7c7160>]"
      ]
     },
     "execution_count": 59,
     "metadata": {},
     "output_type": "execute_result"
    },
    {
     "data": {
      "text/plain": [
       "[<matplotlib.lines.Line2D at 0x2b8bb08b160>]"
      ]
     },
     "execution_count": 59,
     "metadata": {},
     "output_type": "execute_result"
    },
    {
     "data": {
      "image/png": "[encoded data removed]",
      "text/plain": [
       "<Figure size 432x288 with 1 Axes>"
      ]
     },
     "metadata": {
      "needs_background": "light"
     },
     "output_type": "display_data"
    },
    {
     "name": "stdout",
     "output_type": "stream",
     "text": [
      "一共迭代了45次\n"
     ]
    }
   ],
   "source": [
    "# 绘图展示梯度下降过程\n",
    "\n",
    "def Func_J(theta):\n",
    "    return (theta - 2) ** 2 + 5\n",
    "\n",
    "def grad(theta):\n",
    "    return 2 * (theta - 2)\n",
    "\n",
    "eta = 0.1\n",
    "epsilon = 1e-8\n",
    "theta = 0.0\n",
    "theta_list = [theta]\n",
    "while True:\n",
    "    gradint = grad(theta)\n",
    "    theta_old = theta\n",
    "    theta = theta_old - eta * gradint  \n",
    "    theta_list.append(theta)\n",
    "    \n",
    "    if abs(Func_J(theta) - Func_J(theta_old)) < epsilon:\n",
    "        break\n",
    "\n",
    "theta\n",
    "Func_J(theta)\n",
    "        \n",
    "plt.figure()\n",
    "plt.plot(plot_theta, plot_J, color='steelblue')\n",
    "plt.plot(np.array(theta_list), Func_J(np.array(theta_list)), color='indianred', marker='>')\n",
    "plt.show()\n",
    "print('一共迭代了{}次'.format(len(theta_list)))"
   ]
  },
  {
   "cell_type": "markdown",
   "metadata": {},
   "source": [
    "#### 2、简单封装"
   ]
  },
  {
   "cell_type": "code",
   "execution_count": 60,
   "metadata": {
    "ExecuteTime": {
     "end_time": "2020-12-13T15:17:18.783564Z",
     "start_time": "2020-12-13T15:17:18.772593Z"
    }
   },
   "outputs": [],
   "source": [
    "class GradientDescent(object):\n",
    "    \n",
    "    def __init__(self, eta=0.1, epsilon=1e-8, initial_theta=0.0, n_iters=1e4):\n",
    "        self.eta = eta\n",
    "        self.epsilon = epsilon\n",
    "        self.theta = initial_theta\n",
    "        self.theta_list = [initial_theta]\n",
    "        \n",
    "        self.n_iters = n_iters\n",
    "        self.i_iter = 0\n",
    "        self.i_iter_list =  []\n",
    "        \n",
    "    def Func_J(self, theta):\n",
    "        return (theta - 2) ** 2 + 5\n",
    "    \n",
    "    def grad(self, theta):\n",
    "        return 2 * (theta - 2)\n",
    "    \n",
    "    def gradient_descent(self):\n",
    "\n",
    "        while self.i_iter < self.n_iters:\n",
    "            theta_old = self.theta\n",
    "            self.theta = self.theta - self.eta * self.grad(theta_old)\n",
    "            self.theta_list.append(self.theta)\n",
    "            self.i_iter_list.append(self.i_iter)\n",
    "            \n",
    "            if abs(self.Func_J(self.theta) - self.Func_J(theta_old)) < self.epsilon:\n",
    "                break\n",
    "                \n",
    "            self.i_iter += 1\n",
    "                \n",
    "        return self\n",
    "                \n",
    "    def plot_theta_history(self):\n",
    "        plot_theta = np.linspace(-2., 6., 50)\n",
    "        plot_J = (plot_theta - 2) ** 2 + 5\n",
    "        \n",
    "        plt.figure()\n",
    "        plt.title('梯度下降过程图')\n",
    "        plt.plot(plot_theta, plot_J, color='steelblue')\n",
    "        plt.plot(np.array(self.theta_list), Func_J(np.array(self.theta_list)), color='indianred', marker='>')\n",
    "        plt.show()\n",
    "        \n",
    "        print('一共迭代了{}次'.format(len(self.theta_list) - 1))\n",
    "        \n",
    "    def plot_J_history(self):\n",
    "        plt.figure()\n",
    "        plt.title('损失函数变化图')\n",
    "        plt.plot(np.array(self.i_iter_list), Func_J(np.array(self.theta_list[1:])), color='steelblue')\n",
    "        plt.show()\n",
    "        \n",
    "    def __repr__(self):\n",
    "        return 'GradientDescent()'"
   ]
  },
  {
   "cell_type": "code",
   "execution_count": 62,
   "metadata": {
    "ExecuteTime": {
     "end_time": "2020-12-13T15:18:18.033684Z",
     "start_time": "2020-12-13T15:18:17.813273Z"
    }
   },
   "outputs": [
    {
     "data": {
      "application/vnd.jupyter.widget-view+json": {
       "model_id": "aa8d0f2f7ff64849a0be7318a5b5117c",
       "version_major": 2,
       "version_minor": 0
      },
      "text/plain": [
       "interactive(children=(FloatSlider(value=0.1, description='eta', max=2.0, step=0.0001), FloatSlider(value=1e-08…"
      ]
     },
     "metadata": {},
     "output_type": "display_data"
    }
   ],
   "source": [
    "%matplotlib inline\n",
    "@interact(eta=(0.0, 2.0, 0.0001), epsilon=(1e-8,1,1e-9), n_iters=(1,1e4,1), initial_theta=(-2,6,0.01), continuous_update=False)\n",
    "# eta为学习率（步长）； n_iters为最大迭代次数； init_theta为初始参数\n",
    "def visualize(eta=0.1, epsilon=1e-8, initial_theta=0.0, n_iters=1e4):\n",
    "    try:\n",
    "        GD = GradientDescent(eta, epsilon, initial_theta, n_iters)\n",
    "        GD.gradient_descent()\n",
    "        GD.plot_theta_history()\n",
    "        \n",
    "        print('最终参数为：{}'.format(GD.theta))\n",
    "        print('学习率为：{}'.format(eta))\n",
    "        print('收敛阈值为：{}'.format(epsilon))\n",
    "        print('初始参数为：{}'.format(initial_theta))\n",
    "        print('可迭代最大次数为：{}'.format(n_iters))\n",
    "        \n",
    "        GD.plot_J_history()\n",
    "        \n",
    "    except OverflowError:\n",
    "        print('(34, \\'Result too large\\')')"
   ]
  },
  {
   "cell_type": "markdown",
   "metadata": {},
   "source": [
    "#### 3、学习率的选择"
   ]
  },
  {
   "cell_type": "code",
   "execution_count": 7,
   "metadata": {
    "ExecuteTime": {
     "end_time": "2020-12-13T15:08:40.738940Z",
     "start_time": "2020-12-13T15:08:40.547452Z"
    }
   },
   "outputs": [
    {
     "data": {
      "text/plain": [
       "GradientDescent()"
      ]
     },
     "execution_count": 7,
     "metadata": {},
     "output_type": "execute_result"
    },
    {
     "data": {
      "image/png": "[encoded data removed]",
      "text/plain": [
       "<Figure size 432x288 with 1 Axes>"
      ]
     },
     "metadata": {
      "needs_background": "light"
     },
     "output_type": "display_data"
    },
    {
     "name": "stdout",
     "output_type": "stream",
     "text": [
      "一共迭代了44次\n"
     ]
    },
    {
     "data": {
      "text/plain": [
       "1.999891109642585"
      ]
     },
     "execution_count": 7,
     "metadata": {},
     "output_type": "execute_result"
    },
    {
     "data": {
      "image/png": "[encoded data removed]",
      "text/plain": [
       "<Figure size 432x288 with 1 Axes>"
      ]
     },
     "metadata": {
      "needs_background": "light"
     },
     "output_type": "display_data"
    }
   ],
   "source": [
    "# 学习率为0.1 （合适）\n",
    "GD_1 = GradientDescent(eta=0.1, epsilon=1e-8, initial_theta=0.0)\n",
    "GD_1.gradient_descent()\n",
    "GD_1.plot_theta_history()\n",
    "GD_1.theta\n",
    "GD_1.plot_J_history()"
   ]
  },
  {
   "cell_type": "code",
   "execution_count": 8,
   "metadata": {
    "ExecuteTime": {
     "end_time": "2020-12-13T15:08:40.978300Z",
     "start_time": "2020-12-13T15:08:40.739937Z"
    }
   },
   "outputs": [
    {
     "data": {
      "text/plain": [
       "GradientDescent()"
      ]
     },
     "execution_count": 8,
     "metadata": {},
     "output_type": "execute_result"
    },
    {
     "data": {
      "image/png": "[encoded data removed]",
      "text/plain": [
       "<Figure size 432x288 with 1 Axes>"
      ]
     },
     "metadata": {
      "needs_background": "light"
     },
     "output_type": "display_data"
    },
    {
     "name": "stdout",
     "output_type": "stream",
     "text": [
      "一共迭代了3569次\n"
     ]
    },
    {
     "data": {
      "text/plain": [
       "2.0015773637295693"
      ]
     },
     "execution_count": 8,
     "metadata": {},
     "output_type": "execute_result"
    },
    {
     "data": {
      "image/png": "[encoded data removed]",
      "text/plain": [
       "<Figure size 432x288 with 1 Axes>"
      ]
     },
     "metadata": {
      "needs_background": "light"
     },
     "output_type": "display_data"
    }
   ],
   "source": [
    "# 学习率为0.001 （太小，收敛缓慢）\n",
    "GD_2 = GradientDescent(eta=0.001, epsilon=1e-8, initial_theta=4.0)\n",
    "GD_2.gradient_descent()\n",
    "GD_2.plot_theta_history()\n",
    "GD_2.theta\n",
    "GD_2.plot_J_history()"
   ]
  },
  {
   "cell_type": "code",
   "execution_count": 9,
   "metadata": {
    "ExecuteTime": {
     "end_time": "2020-12-13T15:08:41.200772Z",
     "start_time": "2020-12-13T15:08:40.980296Z"
    }
   },
   "outputs": [
    {
     "data": {
      "text/plain": [
       "GradientDescent()"
      ]
     },
     "execution_count": 9,
     "metadata": {},
     "output_type": "execute_result"
    },
    {
     "data": {
      "image/png": "[encoded data removed]",
      "text/plain": [
       "<Figure size 432x288 with 1 Axes>"
      ]
     },
     "metadata": {
      "needs_background": "light"
     },
     "output_type": "display_data"
    },
    {
     "name": "stdout",
     "output_type": "stream",
     "text": [
      "一共迭代了8次\n"
     ]
    },
    {
     "data": {
      "text/plain": [
       "-6.599633920000013"
      ]
     },
     "execution_count": 9,
     "metadata": {},
     "output_type": "execute_result"
    },
    {
     "data": {
      "image/png": "[encoded data removed]",
      "text/plain": [
       "<Figure size 432x288 with 1 Axes>"
      ]
     },
     "metadata": {
      "needs_background": "light"
     },
     "output_type": "display_data"
    }
   ],
   "source": [
    "# 学习率为1.1 （过大，不收敛）\n",
    "GD_3 = GradientDescent(eta=1.1, epsilon=1e-8, initial_theta=0.0, n_iters=8)\n",
    "GD_3.gradient_descent()\n",
    "GD_3.plot_theta_history()\n",
    "GD_3.theta\n",
    "GD_3.plot_J_history()"
   ]
  },
  {
   "cell_type": "markdown",
   "metadata": {},
   "source": [
    "### （二）双参数"
   ]
  },
  {
   "cell_type": "code",
   "execution_count": 63,
   "metadata": {
    "ExecuteTime": {
     "end_time": "2020-12-13T15:19:02.333933Z",
     "start_time": "2020-12-13T15:19:02.062659Z"
    }
   },
   "outputs": [
    {
     "data": {
      "application/vnd.jupyter.widget-view+json": {
       "model_id": "7edf7f69441c4f01bda5c02fbd5bb056",
       "version_major": 2,
       "version_minor": 0
      },
      "text/plain": [
       "interactive(children=(FloatSlider(value=0.05, description='eta', max=2.0, step=0.0002), IntSlider(value=10, de…"
      ]
     },
     "metadata": {},
     "output_type": "display_data"
    }
   ],
   "source": [
    "#梯度函数\n",
    "def Func_J(x, y):\n",
    "    return 2 * np.power(x, 2) + np.power(y, 2)\n",
    "\n",
    "#梯度函数的导数\n",
    "def grad_theta_1(theta):\n",
    "    return 4 * theta\n",
    "def grad_theta_2(theta):\n",
    "    return 2 * theta\n",
    "\n",
    "def gradient_descent(eta, n_iters, theta1, theta2, up, dirc):\n",
    "    t1 = [theta1]\n",
    "    t2 = [theta2]\n",
    "    for i in range(n_iters):\n",
    "        gradient = grad_theta_1(theta1)\n",
    "        theta1 = theta1 - eta * gradient\n",
    "        t1.append(theta1)\n",
    "        gradient = grad_theta_2(theta2)\n",
    "        theta2 = theta2 - eta * gradient\n",
    "        t2.append(theta2)\n",
    "        \n",
    "    plt.figure(figsize=(10,10))  #设置画布大小\n",
    "    # 生成虚拟数据\n",
    "    x = np.linspace(-3,3,30)\n",
    "    y = np.linspace(-3,3,30)\n",
    "    \n",
    "    # 转换成网格数据\n",
    "    X, Y = np.meshgrid(x, y)\n",
    "    Z = Func_J(X, Y)    \n",
    "    ax = plt.axes(projection='3d')\n",
    "    fig =plt.figure()\n",
    "    ax.contour3D(X, Y, Func_J(X,Y), 50, cmap='binary') #等高线图\n",
    "    \n",
    "    ax.scatter3D(t1, t2, Func_J(t1,t2), c='r',marker = 'o')\n",
    "\n",
    "    ax.view_init(up, dirc)\n",
    "    \n",
    "    return t1, t2\n",
    "\n",
    "%matplotlib inline\n",
    "@interact(eta=(0, 2, 0.0002),n_iters=(1,100,1),initial_theta1=(-3,3,0.1),initial_theta2=(-3,3,0.1),up=(-180,180,1),dirc=(-180,180,1),continuous_update=False)\n",
    "#lr为学习率（步长） epoch为迭代次数   init_theta为初始参数的设置 up调整图片上下视角 dirc调整左右视角\n",
    "def visualize_gradient_descent(eta=0.05,n_iters=10,initial_theta1=-2,initial_theta2=-3,up=45,dirc=100):\n",
    "    gradient_descent(eta,n_iters,initial_theta1,initial_theta2,up,dirc)"
   ]
  },
  {
   "cell_type": "markdown",
   "metadata": {},
   "source": [
    "## 三、线性回归中的梯度下降法"
   ]
  },
  {
   "cell_type": "markdown",
   "metadata": {},
   "source": [
    "### （一）基本原理"
   ]
  },
  {
   "cell_type": "markdown",
   "metadata": {},
   "source": [
    "对于一元线性回归，其损失函数如下：\n",
    "\n",
    "$$ \n",
    "J(\\theta) = \\sum_{i=1}^{m}(y^{(i)} - \\widehat{y}^{(i)})^2 = \\sum_{i=1}^{m}(y^{(i)} - (\\theta_0{x_0^{(i)}} + \\theta_1{x_1^{(i)}} + \\theta_2{x_2^{(i)}} + ... + \\theta_n{x_n^{(i)}}))^2 \n",
    "$$\n",
    "\n",
    "令 $\\theta = (\\theta_0, \\theta_1, \\theta_2,\\ ... \\,\\theta_n)^{T}, \\ x = (x_0, x_1, x_2, ..., x_n), \\ x_0 \\equiv 1$，则上式可以写成下面的形式\n",
    "\n",
    "$$\n",
    "J(\\theta) = \\sum_{i=1}^{m}(y^{(i)} - x^{(i)}\\theta)^2 \n",
    "$$\n",
    "\n",
    "进一步考虑到样本量的影响，将上式除以一个样本量 $m$，得到：\n",
    "\n",
    "$$\n",
    "J(\\theta) = \\frac{1}{m}\\sum_{i=1}^{m}(y^{(i)} - x^{(i)}\\theta)^2 \\tag{1}\n",
    "$$\n",
    "\n",
    "\n",
    "我们将 $(1)$ 式作为我们最终的损失函数。因此，我们的目标就是最优化 $(1)$ 式。\n",
    "\n",
    "对损失函数求关于 $\\theta(\\theta_0, \\theta_1, \\theta_2,\\ ... \\,\\theta_n)^{T}$ 的梯度：\n",
    "\n",
    "$$\n",
    "\\nabla J(\\theta) = (\\frac{\\partial J(\\theta)}{\\partial \\theta_0}, \\ \\frac{\\partial J(\\theta)}{\\partial \\theta_1}, \\ \\frac{\\partial J(\\theta)}{\\partial \\theta_2}, \\ ... \\ , \\ \\frac{\\partial J(\\theta)}{\\partial \\theta_n})^{T}\n",
    "$$\n",
    "\n",
    "\n",
    "$$\n",
    "\\begin{align}\n",
    "\\nabla J(\\theta) &=\n",
    "    \\begin{pmatrix}\n",
    "    \\frac {\\partial J(\\theta)}{\\partial \\theta_0}\n",
    "    \\\\ \\\\\n",
    "    \\frac {\\partial J(\\theta)}{\\partial \\theta_1}\n",
    "    \\\\ \\\\\n",
    "    \\frac {\\partial J(\\theta)}{\\partial \\theta_2} \n",
    "    \\\\ \\\\\n",
    "    ...\n",
    "    \\\\ \\\\\n",
    "    \\frac {\\partial J(\\theta)}{\\partial \\theta_n}\n",
    "    \\end{pmatrix}\n",
    "    _{(n+1) \\times 1}\n",
    "=\n",
    "    \\begin{pmatrix}\n",
    "    \\sum_{i=1}^{m}{\\frac{2}{m}}{[y^{(i)} - (\\theta_0{x_0^{(i)}} + \\theta_1{x_1^{(i)}} + \\theta_2{x_2^{(i)}} + ... + \\theta_n{x_n^{(i)}})]}(-x_0^{(i)}) \n",
    "    \\\\ \\\\\n",
    "    \\sum_{i=1}^{m}{\\frac{2}{m}}{[y^{(i)} - (\\theta_0{x_0^{(i)}} + \\theta_1{x_1^{(i)}} + \\theta_2{x_2^{(i)}} + ... + \\theta_n{x_n^{(i)}})]}(-x_1^{(i)}) \n",
    "    \\\\ \\\\\n",
    "    \\sum_{i=1}^{m}{\\frac{2}{m}}{[y^{(i)} - (\\theta_0{x_0^{(i)}} + \\theta_1{x_1^{(i)}} + \\theta_2{x_2^{(i)}} + ... + \\theta_n{x_n^{(i)}})]}(-x_2^{(i)}) \n",
    "    \\\\ \\\\\n",
    "    ...\n",
    "    \\\\ \\\\\n",
    "    \\sum_{i=1}^{m}{\\frac{2}{m}}{[y^{(i)} - (\\theta_0{x_0^{(i)}} + \\theta_1{x_1^{(i)}} + \\theta_2{x_2^{(i)}} + ... + \\theta_n{x_n^{(i)}})]}(-x_n^{(i)}) \n",
    "    \\end{pmatrix}\n",
    "    _{(n+1) \\times 1} \\\\ \\\\\n",
    "&=\\frac{2}{m}\n",
    "    \\begin{pmatrix}\n",
    "    \\sum_{i=1}^{m}(x_0^{(i)}) {[(\\theta_0{x_0^{(i)}} + \\theta_1{x_1^{(i)}} + \\theta_2{x_2^{(i)}} + ... + \\theta_n{x_n^{(i)}}) - (y^{(i)})]}\n",
    "    \\\\ \\\\\n",
    "    \\sum_{i=1}^{m}(x_1^{(i)}) {[(\\theta_0{x_0^{(i)}} + \\theta_1{x_1^{(i)}} + \\theta_2{x_2^{(i)}} + ... + \\theta_n{x_n^{(i)}}) - (y^{(i)})]}\n",
    "    \\\\ \\\\\n",
    "    \\sum_{i=1}^{m}(x_2^{(i)}){[(\\theta_0{x_0^{(i)}} + \\theta_1{x_1^{(i)}} + \\theta_2{x_2^{(i)}} + ... + \\theta_n{x_n^{(i)}}) - (y^{(i)})]}\n",
    "    \\\\ \\\\\n",
    "    ...\n",
    "    \\\\ \\\\\n",
    "    \\sum_{i=1}^{m}(x_n^{(i)}) {[(\\theta_0{x_0^{(i)}} + \\theta_1{x_1^{(i)}} + \\theta_2{x_2^{(i)}} + ... + \\theta_n{x_n^{(i)}}) - (y^{(i)})]}\n",
    "    \\end{pmatrix}\n",
    "    _{(n+1) \\times 1} \\\\ \\\\\n",
    "&=\\frac{2}{m}\n",
    "    \\begin{pmatrix}\n",
    "    x_0^{(1)} & x_0^{(2)} & x_0^{(3)} & \\cdots & x_0^{(m)} \n",
    "    \\\\ \\\\\n",
    "    x_1^{(1)} & x_1^{(2)} & x_1^{(3)} & \\cdots & x_1^{(m)} \n",
    "    \\\\ \\\\\n",
    "    x_2^{(1)} & x_2^{(2)} & x_2^{(3)} & \\cdots & x_2^{(m)} \n",
    "    \\\\ \\\\\n",
    "    \\vdots & \\vdots & \\vdots & \\ddots & \\vdots \n",
    "    \\\\ \\\\\n",
    "    x_n^{(1)} & x_n^{(2)} & x_n^{(3)} & \\cdots & x_n^{(m)}\n",
    "    \\end{pmatrix}\n",
    "    _{(n+1) \\times m}\n",
    "    \\times\n",
    "    \\begin{pmatrix}\n",
    "    (x_{0}^{(1)}\\theta_0 + x_{1}^{(1)}\\theta_1 + x_{2}^{(1)}\\theta_2 + ... + x_{n}^{(1)}\\theta_n) - y^{(1)}\n",
    "    \\\\ \\\\\n",
    "    (x_{0}^{(2)}\\theta_0 + x_{1}^{(2)}\\theta_1 + x_{2}^{(2)}\\theta_2 + ... + x_{n}^{(2)}\\theta_n) - y^{(2)}\n",
    "    \\\\ \\\\\n",
    "    (x_{0}^{(3)}\\theta_0 + x_{1}^{(3)}\\theta_1 + x_{2}^{(3)}\\theta_2 + ... + x_{n}^{(3)}\\theta_n) - y^{(3)}\n",
    "    \\\\ \\\\\n",
    "    ...\n",
    "    \\\\ \\\\\n",
    "    (x_{0}^{(m)}\\theta_0 + x_{1}^{(m)}\\theta_1 + x_{2}^{(m)}\\theta_2 + ... + x_{n}^{(m)}\\theta_n) -  y^{(m)}\n",
    "    \\end{pmatrix}\n",
    "    _{m \\times 1} \\\\ \\\\\n",
    "&=\\frac{2}{m}\n",
    "    \\begin{pmatrix}\n",
    "    x_0^{(1)} & x_0^{(2)} & x_0^{(3)} & \\cdots & x_0^{(m)} \n",
    "    \\\\ \\\\\n",
    "    x_1^{(1)} & x_1^{(2)} & x_1^{(3)} & \\cdots & x_1^{(m)} \n",
    "    \\\\ \\\\\n",
    "    x_2^{(1)} & x_2^{(2)} & x_2^{(3)} & \\cdots & x_2^{(m)} \n",
    "    \\\\ \\\\\n",
    "    \\vdots & \\vdots & \\vdots & \\ddots & \\vdots \n",
    "    \\\\ \\\\\n",
    "    x_n^{(1)} & x_n^{(2)} & x_n^{(3)} & \\cdots & x_n^{(m)}\n",
    "    \\end{pmatrix}\n",
    "    _{(n+1) \\times m}\n",
    "    \\times\n",
    "    \\left[\n",
    "    \\begin{pmatrix}\n",
    "    (x_{0}^{(1)}\\theta_0 + x_{1}^{(1)}\\theta_1 + x_{2}^{(1)}\\theta_2 + ... + x_{n}^{(1)}\\theta_n)\n",
    "    \\\\ \\\\\n",
    "    (x_{0}^{(2)}\\theta_0 + x_{1}^{(2)}\\theta_1 + x_{2}^{(2)}\\theta_2 + ... + x_{n}^{(2)}\\theta_n)\n",
    "    \\\\ \\\\\n",
    "    (x_{0}^{(3)}\\theta_0 + x_{1}^{(3)}\\theta_1 + x_{2}^{(3)}\\theta_2 + ... + x_{n}^{(3)}\\theta_n)\n",
    "    \\\\ \\\\\n",
    "    ...\n",
    "    \\\\ \\\\\n",
    "    (x_{0}^{(m)}\\theta_0 + x_{1}^{(m)}\\theta_1 + x_{2}^{(m)}\\theta_2 + ... + x_{n}^{(m)}\\theta_n)\n",
    "    \\end{pmatrix}\n",
    "    _{m \\times 1}\n",
    "    -\n",
    "    \\begin{pmatrix}\n",
    "    y^{(1)}\n",
    "    \\\\ \\\\\n",
    "    y^{(2)}\n",
    "    \\\\ \\\\\n",
    "    y^{(3)}\n",
    "    \\\\ \\\\\n",
    "    ...\n",
    "    \\\\ \\\\\n",
    "    y^{(m)}\n",
    "    \\end{pmatrix}\n",
    "    _{m \\times 1}\n",
    "    \\right] \\\\ \\\\\n",
    "&=\\frac{2}{m}\n",
    "    \\begin{pmatrix}\n",
    "    x_0^{(1)} & x_0^{(2)} & x_0^{(3)} & \\cdots & x_0^{(m)} \n",
    "    \\\\ \\\\\n",
    "    x_1^{(1)} & x_1^{(2)} & x_1^{(3)} & \\cdots & x_1^{(m)} \n",
    "    \\\\ \\\\\n",
    "    x_2^{(1)} & x_2^{(2)} & x_2^{(3)} & \\cdots & x_2^{(m)} \n",
    "    \\\\ \\\\\n",
    "    \\vdots & \\vdots & \\vdots & \\ddots & \\vdots \n",
    "    \\\\ \\\\\n",
    "    x_n^{(1)} & x_n^{(2)} & x_n^{(3)} & \\cdots & x_n^{(m)}\n",
    "    \\end{pmatrix}\n",
    "    _{(n+1) \\times m}\n",
    "    \\times\n",
    "    \\left[\n",
    "    \\begin{pmatrix}\n",
    "    x_0^{(1)} & x_1^{(1)} & x_2^{(1)} & \\cdots & x_n^{(1)} \n",
    "    \\\\ \\\\\n",
    "    x_0^{(2)} & x_1^{(2)} & x_2^{(2)} & \\cdots & x_n^{(2)} \n",
    "    \\\\ \\\\\n",
    "    x_0^{(3)} & x_1^{(3)} & x_2^{(3)} & \\cdots & x_n^{(3)} \n",
    "    \\\\ \\\\\n",
    "    \\vdots & \\vdots & \\vdots & \\ddots & \\vdots \n",
    "    \\\\ \\\\\n",
    "    x_0^{(m)} & x_1^{(m)} & x_2^{(m)} & \\cdots & x_n^{(m)} \n",
    "    \\end{pmatrix}\n",
    "    _{m \\times (n+1)}\n",
    "    \\times\n",
    "    \\begin{pmatrix}\n",
    "    \\theta_0\n",
    "    \\\\ \\\\\n",
    "    \\theta_1\n",
    "    \\\\ \\\\\n",
    "    \\theta_2\n",
    "    \\\\ \\\\\n",
    "    ...\n",
    "    \\\\ \\\\\n",
    "    \\theta_n\n",
    "    \\end{pmatrix}\n",
    "    _{(n+1) \\times 1}\n",
    "    -\n",
    "    \\begin{pmatrix}\n",
    "    y^{1}\n",
    "    \\\\ \\\\\n",
    "    y^{2}\n",
    "    \\\\ \\\\\n",
    "    y^{3}\n",
    "    \\\\ \\\\\n",
    "    ...\n",
    "    \\\\ \\\\\n",
    "    y^{m}\n",
    "    \\end{pmatrix}\n",
    "    _{m \\times 1}\n",
    "    \\right]\n",
    "\\end{align}\n",
    "$$\n",
    "\n",
    "令：\n",
    "\n",
    "$$\n",
    "X_b \\ = \\ \n",
    "    \\begin{matrix}\n",
    "        I_{m\\times 1}  \\ \\ \\ \\ \\ \\ \\ \\ \\ \\ \\ \\ \\ \\ \\ \\ \\ \\ \\ X_{m\\times n} \\ \\ \\ \\ \\ \\ \\ \\ \\ \\ \\ \\ \\ \\\\\n",
    "        \\left(\n",
    "        \\begin{array}{c|cc}\n",
    "        x_0^{(1)} & x_1^{(1)} & x_2^{(1)} & \\cdots & x_n^{(1)} \\\\\n",
    "        x_0^{(2)} & x_1^{(2)} & x_2^{(2)} & \\cdots & x_n^{(2)} \\\\\n",
    "        x_0^{(3)} & x_1^{(3)} & x_2^{(3)} & \\cdots & x_n^{(3)} \\\\\n",
    "        \\vdots & \\vdots & \\vdots & \\ddots & \\vdots \\\\\n",
    "        x_0^{(m)} & x_1^{(m)} & x_2^{(m)} & \\cdots & x_n^{(m)} \\\\\n",
    "        \\end{array}\n",
    "        \\right)\n",
    "    \\end{matrix}\n",
    "    _{m \\times (n+1)}\n",
    "\\ \\ \\ \n",
    "y \\ = \\ \n",
    "    \\begin{pmatrix}\n",
    "    y^{(1)} \\\\\n",
    "    y^{(2)} \\\\\n",
    "    y^{(3)} \\\\\n",
    "    \\vdots  \\\\\n",
    "    y^{(m)} \\\\\n",
    "    \\end{pmatrix}\n",
    "    _{m \\times 1}\n",
    "\\ \\ \\ \n",
    "\\theta \\ = \\ \n",
    "    \\begin{pmatrix}\n",
    "    {\\theta_0} \\\\\n",
    "    {\\theta_1} \\\\\n",
    "    {\\theta_2} \\\\\n",
    "    \\vdots  \\\\\n",
    "    {\\theta_n} \\\\\n",
    "    \\end{pmatrix}\n",
    "    _{(n+1) \\times 1}\n",
    "$$\n",
    "\n",
    "则：\n",
    "\n",
    "$$\n",
    "J(\\theta) = \\frac{1}{m}({y} - {X_b}{\\theta})^{T}({y} - {X_b}{\\theta})\n",
    "$$\n",
    "\n",
    "$$\n",
    "\\nabla J(\\theta) = \\frac{2}{m}{X_b}^{T}({X_b}{\\theta} - {y})\n",
    "$$\n",
    "\n",
    "求出梯度之后，我们开始进行迭代，过程如下：\n",
    "\n",
    "**step1：** 初始化一组参数 $\\theta = (\\theta_0, \\theta_1, \\theta_2, ... , \\theta_n)^{T}$\n",
    "\n",
    "**Step2：** \n",
    "\n",
    "开始迭代\n",
    "\n",
    "$\\theta_{new} = \\theta_{old} - \\eta \\nabla J(\\theta_{old}) = \\theta_{old} - \\eta \\frac{2}{m}{X_b}^{T}({X_b}{\\theta_{old}} - {y})$\n",
    "\n",
    "只到：\n",
    "\n",
    "$J(\\theta_{new}) - J(\\theta_{old}) < \\epsilon$\n",
    "\n",
    "则停止，并返回 $\\theta$"
   ]
  },
  {
   "cell_type": "markdown",
   "metadata": {},
   "source": [
    "### （二）分步实现"
   ]
  },
  {
   "cell_type": "markdown",
   "metadata": {},
   "source": [
    "#### 1、使用 for 循环方式实现梯度下降"
   ]
  },
  {
   "cell_type": "code",
   "execution_count": 11,
   "metadata": {
    "ExecuteTime": {
     "end_time": "2020-12-13T15:08:41.603693Z",
     "start_time": "2020-12-13T15:08:41.494918Z"
    }
   },
   "outputs": [
    {
     "data": {
      "text/plain": [
       "<Figure size 432x288 with 0 Axes>"
      ]
     },
     "execution_count": 11,
     "metadata": {},
     "output_type": "execute_result"
    },
    {
     "data": {
      "text/plain": [
       "<matplotlib.collections.PathCollection at 0x2b8b6d5f438>"
      ]
     },
     "execution_count": 11,
     "metadata": {},
     "output_type": "execute_result"
    },
    {
     "data": {
      "image/png": "[encoded data removed]",
      "text/plain": [
       "<Figure size 432x288 with 1 Axes>"
      ]
     },
     "metadata": {
      "needs_background": "light"
     },
     "output_type": "display_data"
    }
   ],
   "source": [
    "# 生成数据\n",
    "np.random.seed(666)\n",
    "x_1 = 2 * np.random.random(size=100)\n",
    "y = x_1 * 3. + 4. + np.random.normal(size=100)\n",
    "\n",
    "# 绘图\n",
    "plt.figure()\n",
    "plt.scatter(x_1, y, color='steelblue')\n",
    "plt.show()"
   ]
  },
  {
   "cell_type": "code",
   "execution_count": 12,
   "metadata": {
    "ExecuteTime": {
     "end_time": "2020-12-13T15:08:41.608615Z",
     "start_time": "2020-12-13T15:08:41.604684Z"
    }
   },
   "outputs": [],
   "source": [
    "# 定义损失函数\n",
    "def Func_J1(theta, X_b, y):\n",
    "    try:\n",
    "        return np.sum((y - X_b.dot(theta))**2) / len(X_b)\n",
    "    except:\n",
    "        return float('inf')"
   ]
  },
  {
   "cell_type": "code",
   "execution_count": 13,
   "metadata": {
    "ExecuteTime": {
     "end_time": "2020-12-13T15:08:41.616591Z",
     "start_time": "2020-12-13T15:08:41.609610Z"
    }
   },
   "outputs": [],
   "source": [
    "# 定义求梯度函数（用for的方法）\n",
    "def grad1(theta, X_b, y):\n",
    "    grad_j = np.empty(len(theta))\n",
    "    grad_j[0] = np.sum(X_b.dot(theta) - y)\n",
    "    for i in range(1, len(theta)):\n",
    "        grad_j[i] = (X_b.dot(theta) - y).dot(X_b[:,i])\n",
    "    return grad_j * 2 / len(X_b)"
   ]
  },
  {
   "cell_type": "code",
   "execution_count": 14,
   "metadata": {
    "ExecuteTime": {
     "end_time": "2020-12-13T15:08:41.625568Z",
     "start_time": "2020-12-13T15:08:41.619584Z"
    }
   },
   "outputs": [],
   "source": [
    "# 定义梯度下降迭代函数\n",
    "def gradient_descent1(X_b, y, initial_theta, eta=0.1, n_iters=1e4, epsilon=1e-8):\n",
    "    \n",
    "    theta = initial_theta\n",
    "    theta_list = [initial_theta]\n",
    "    i_iter = 0\n",
    "    \n",
    "    while i_iter < n_iters:\n",
    "        theta_old = theta\n",
    "        theta = theta - eta * grad1(theta_old, X_b, y)\n",
    "        theta_list.append(theta)\n",
    "\n",
    "        if abs(Func_J1(theta, X_b, y) - Func_J1(theta_old, X_b, y)) < epsilon:\n",
    "            break\n",
    "\n",
    "        i_iter += 1\n",
    "        \n",
    "    return theta, np.array(theta_list)"
   ]
  },
  {
   "cell_type": "code",
   "execution_count": 15,
   "metadata": {
    "ExecuteTime": {
     "end_time": "2020-12-13T15:08:41.707349Z",
     "start_time": "2020-12-13T15:08:41.627562Z"
    },
    "scrolled": false
   },
   "outputs": [
    {
     "data": {
      "text/plain": [
       "array([4.02145786, 3.00706277])"
      ]
     },
     "execution_count": 15,
     "metadata": {},
     "output_type": "execute_result"
    }
   ],
   "source": [
    "x_0 = np.ones((len(x_1), 1))\n",
    "X_b = np.hstack([x_0, x_1.reshape(-1,1)])\n",
    "initial_theta = np.zeros(X_b.shape[1])\n",
    "\n",
    "theta, theta_list = gradient_descent1(X_b, y, initial_theta, eta=0.01, n_iters=1e4, epsilon=1e-8)\n",
    "theta"
   ]
  },
  {
   "cell_type": "markdown",
   "metadata": {},
   "source": [
    "#### 2、使用向量方式实现梯度下降"
   ]
  },
  {
   "cell_type": "code",
   "execution_count": 16,
   "metadata": {
    "ExecuteTime": {
     "end_time": "2020-12-13T15:08:41.814064Z",
     "start_time": "2020-12-13T15:08:41.708346Z"
    }
   },
   "outputs": [
    {
     "data": {
      "text/plain": [
       "<Figure size 432x288 with 0 Axes>"
      ]
     },
     "execution_count": 16,
     "metadata": {},
     "output_type": "execute_result"
    },
    {
     "data": {
      "text/plain": [
       "<matplotlib.collections.PathCollection at 0x2b8b6e54438>"
      ]
     },
     "execution_count": 16,
     "metadata": {},
     "output_type": "execute_result"
    },
    {
     "data": {
      "image/png": "[encoded data removed]",
      "text/plain": [
       "<Figure size 432x288 with 1 Axes>"
      ]
     },
     "metadata": {
      "needs_background": "light"
     },
     "output_type": "display_data"
    }
   ],
   "source": [
    "# 生成数据\n",
    "np.random.seed(666)\n",
    "x_1 = 2 * np.random.random(size=100)\n",
    "y = x_1 * 3. + 4. + np.random.normal(size=100)\n",
    "\n",
    "# 绘图\n",
    "plt.figure()\n",
    "plt.scatter(x_1, y, color='steelblue')\n",
    "plt.show()"
   ]
  },
  {
   "cell_type": "code",
   "execution_count": 17,
   "metadata": {
    "ExecuteTime": {
     "end_time": "2020-12-13T15:08:41.819050Z",
     "start_time": "2020-12-13T15:08:41.815107Z"
    }
   },
   "outputs": [],
   "source": [
    "def Func_J2(theta, X_b, y):\n",
    "    try:\n",
    "        return (y - X_b.dot(theta)).T.dot(y - X_b.dot(theta))/ len(X_b)\n",
    "    except:\n",
    "        return float('inf')"
   ]
  },
  {
   "cell_type": "code",
   "execution_count": 18,
   "metadata": {
    "ExecuteTime": {
     "end_time": "2020-12-13T15:08:41.825034Z",
     "start_time": "2020-12-13T15:08:41.820047Z"
    }
   },
   "outputs": [],
   "source": [
    "# 用向量方法\n",
    "def grad2(theta, X_b, y):\n",
    "    return (X_b).T.dot(X_b.dot(theta) - y) * 2 / len(X_b)"
   ]
  },
  {
   "cell_type": "code",
   "execution_count": 19,
   "metadata": {
    "ExecuteTime": {
     "end_time": "2020-12-13T15:08:41.832015Z",
     "start_time": "2020-12-13T15:08:41.826033Z"
    }
   },
   "outputs": [],
   "source": [
    "# 定义梯度下降迭代函数\n",
    "def gradient_descent2(X_b, y, initial_theta, eta=0.1, n_iters=1e4, epsilon=1e-8):\n",
    "    \n",
    "    theta = initial_theta\n",
    "    theta_list = [initial_theta]\n",
    "    i_iter = 0\n",
    "    \n",
    "    while i_iter < n_iters:\n",
    "        theta_old = theta\n",
    "        theta = theta - eta * grad2(theta_old, X_b, y)\n",
    "        theta_list.append(theta)\n",
    "\n",
    "        if abs(Func_J2(theta, X_b, y) - Func_J2(theta_old, X_b, y)) < epsilon:\n",
    "            break\n",
    "\n",
    "        i_iter += 1\n",
    "        \n",
    "    return theta, np.array(theta_list)"
   ]
  },
  {
   "cell_type": "code",
   "execution_count": 20,
   "metadata": {
    "ExecuteTime": {
     "end_time": "2020-12-13T15:08:41.862934Z",
     "start_time": "2020-12-13T15:08:41.833012Z"
    }
   },
   "outputs": [
    {
     "data": {
      "text/plain": [
       "array([4.02145786, 3.00706277])"
      ]
     },
     "execution_count": 20,
     "metadata": {},
     "output_type": "execute_result"
    }
   ],
   "source": [
    "x_0 = np.ones((len(x_1), 1))\n",
    "X_b = np.hstack([x_0, x_1.reshape(-1,1)])\n",
    "initial_theta = np.zeros(X_b.shape[1])\n",
    "\n",
    "theta, theta_list = gradient_descent2(X_b, y, initial_theta, eta=0.01, n_iters=1e4, epsilon=1e-8)\n",
    "theta"
   ]
  },
  {
   "cell_type": "markdown",
   "metadata": {},
   "source": [
    "### （三）封装"
   ]
  },
  {
   "cell_type": "code",
   "execution_count": 21,
   "metadata": {
    "ExecuteTime": {
     "end_time": "2020-12-13T15:08:41.881924Z",
     "start_time": "2020-12-13T15:08:41.863932Z"
    }
   },
   "outputs": [],
   "source": [
    "import numpy as np\n",
    "\n",
    "# 使用for循环\n",
    "class MY_LinearRegression:\n",
    "    \n",
    "    def __init__(self):\n",
    "        '''初始化'''\n",
    "        self.intercept_ = None\n",
    "        self.coef_ = None\n",
    "        self._theta =None\n",
    "        \n",
    "    def fit_normal(self, X_train, y_train):\n",
    "        '''使用正规方程方法训练'''\n",
    "        assert X_train.shape[0] == y_train.shape[0], 'X_train 和 y_train 的行数要一致'\n",
    "        \n",
    "        X_0 = np.ones(shape=(len(X_train), 1))\n",
    "        X_b = np.hstack([X_0, X_train])\n",
    "        \n",
    "        self._theta = np.linalg.inv(X_b.T.dot(X_b)).dot(X_b.T).dot(y_train)\n",
    "        \n",
    "        self.intercept_ = self._theta[0]\n",
    "        self.coef_ = self._theta[1:]\n",
    "        \n",
    "        return self\n",
    "    \n",
    "    def fit_gd(self, X_train, y_train, eta=0.01, n_iters=1e4, epsilon=1e-8, method='f'):\n",
    "        '使用梯度下降法进行训练'\n",
    "        assert X_train.shape[0] == y_train.shape[0], 'X_train 和 y_train 的行数要一致'\n",
    "        \n",
    "        def Func_J(theta, X_b, y):\n",
    "            try:\n",
    "                return np.sum((y - X_b.dot(theta))**2) / len(X_b)\n",
    "            except:\n",
    "                return float('inf')\n",
    "                \n",
    "        def grad(theta, X_b, y):\n",
    "            # for循环\n",
    "            if method == 'f':\n",
    "                grad_j = np.empty(len(theta))\n",
    "                grad_j[0] = np.sum(X_b.dot(theta) - y)\n",
    "                for i in range(1, len(theta)):\n",
    "                    grad_j[i] = (X_b.dot(theta) - y).dot(X_b[:,i])\n",
    "                return grad_j * 2 / len(X_b)\n",
    "            # 向量法\n",
    "            if method == 'm':\n",
    "                    return (X_b).T.dot(X_b.dot(theta) - y) * 2 / len(X_b)\n",
    "                \n",
    "        # 定义梯度下降迭代函数\n",
    "        def gradient_descent(X_b, y, initial_theta, eta, n_iters, epsilon):\n",
    "\n",
    "            theta = initial_theta\n",
    "            i_iter = 0\n",
    "\n",
    "            while i_iter < n_iters:\n",
    "                theta_old = theta\n",
    "                theta = theta - eta * grad(theta_old, X_b, y)\n",
    "\n",
    "                if abs(Func_J(theta, X_b, y) - Func_J(theta_old, X_b, y)) < epsilon:\n",
    "                    break\n",
    "\n",
    "                i_iter += 1\n",
    "\n",
    "            return theta\n",
    "        \n",
    "        x_0 = np.ones((len(X_train), 1))\n",
    "        \n",
    "        if len(X_train.shape) == 1:\n",
    "            X_train = X_train.reshape(-1,1)\n",
    "            \n",
    "        X_b = np.hstack([x_0, X_train])\n",
    "        initial_theta = np.zeros(X_b.shape[1])\n",
    "\n",
    "        self._theta = gradient_descent(X_b, y_train, initial_theta, eta, n_iters, epsilon)\n",
    "        self.intercept_ = self._theta[0]\n",
    "        self.coef_ = self._theta[1:]\n",
    "        \n",
    "        return self\n",
    "\n",
    "    def predict(self, X_predict):\n",
    "        '''预测'''\n",
    "        assert self.intercept_ is not None and self.coef_ is not None, '请先进行训练'\n",
    "        assert X_predict.shape[1] == len(self.coef_), '特证个数必须与参数（非截距）个数相等'\n",
    "        \n",
    "        X_0 = np.ones(shape=(len(X_predict), 1))\n",
    "        X_b = np.hstack([X_0, X_predict])\n",
    "        \n",
    "        return X_b.dot(self._theta) # y = X_b.dot(𝜃)\n",
    "    \n",
    "    def r2_score(self, X_test, y_test):\n",
    "        '''模型评价R2'''\n",
    "        y_test_predict = self.predict(X_test)\n",
    "        mean_squared_error = np.sum((y_test - y_test_predict) ** 2) / len(y_test)\n",
    "        return 1 - mean_squared_error / np.var(y_test)\n",
    "    \n",
    "    def __repr__(self):\n",
    "        return 'MY_LinearRegression()'"
   ]
  },
  {
   "cell_type": "code",
   "execution_count": 22,
   "metadata": {
    "ExecuteTime": {
     "end_time": "2020-12-13T15:08:42.144228Z",
     "start_time": "2020-12-13T15:08:41.883911Z"
    }
   },
   "outputs": [
    {
     "data": {
      "text/plain": [
       "(490, 13)"
      ]
     },
     "execution_count": 22,
     "metadata": {},
     "output_type": "execute_result"
    },
    {
     "data": {
      "text/plain": [
       "(490,)"
      ]
     },
     "execution_count": 22,
     "metadata": {},
     "output_type": "execute_result"
    }
   ],
   "source": [
    "# 导入波士顿房价数据\n",
    "from sklearn import datasets\n",
    "\n",
    "boston = datasets.load_boston()\n",
    "\n",
    "# print(boston.DESCR)\n",
    "# boston.feature_names\n",
    "\n",
    "X = boston.data\n",
    "y = boston.target\n",
    "\n",
    "# 去除天花板值\n",
    "X = X[y < 50.0]\n",
    "y = y[y < 50.0]\n",
    "\n",
    "X.shape\n",
    "y.shape"
   ]
  },
  {
   "cell_type": "code",
   "execution_count": 23,
   "metadata": {
    "ExecuteTime": {
     "end_time": "2020-12-13T15:08:42.171113Z",
     "start_time": "2020-12-13T15:08:42.145184Z"
    }
   },
   "outputs": [
    {
     "data": {
      "text/plain": [
       "(392, 13)"
      ]
     },
     "execution_count": 23,
     "metadata": {},
     "output_type": "execute_result"
    },
    {
     "data": {
      "text/plain": [
       "(98, 13)"
      ]
     },
     "execution_count": 23,
     "metadata": {},
     "output_type": "execute_result"
    },
    {
     "data": {
      "text/plain": [
       "(392,)"
      ]
     },
     "execution_count": 23,
     "metadata": {},
     "output_type": "execute_result"
    },
    {
     "data": {
      "text/plain": [
       "(98,)"
      ]
     },
     "execution_count": 23,
     "metadata": {},
     "output_type": "execute_result"
    }
   ],
   "source": [
    "# 切分数据集\n",
    "from sklearn.model_selection import train_test_split\n",
    "\n",
    "X_train, X_test, y_train, y_test = train_test_split(X, y, test_size=0.2, random_state=666)\n",
    "\n",
    "X_train.shape\n",
    "X_test.shape\n",
    "y_train.shape\n",
    "y_test.shape"
   ]
  },
  {
   "cell_type": "markdown",
   "metadata": {},
   "source": [
    "#### 1、正规方程训练"
   ]
  },
  {
   "cell_type": "code",
   "execution_count": 24,
   "metadata": {
    "ExecuteTime": {
     "end_time": "2020-12-13T15:08:42.184080Z",
     "start_time": "2020-12-13T15:08:42.172110Z"
    }
   },
   "outputs": [
    {
     "data": {
      "text/plain": [
       "MY_LinearRegression()"
      ]
     },
     "execution_count": 24,
     "metadata": {},
     "output_type": "execute_result"
    },
    {
     "data": {
      "text/plain": [
       "array([ 3.41173997e+01, -1.20354261e-01,  3.64423279e-02, -3.61493155e-02,\n",
       "        5.12978140e-02, -1.15775825e+01,  3.42740062e+00, -2.32311760e-02,\n",
       "       -1.19487594e+00,  2.60101728e-01, -1.40219119e-02, -8.35430488e-01,\n",
       "        7.80472852e-03, -3.80923751e-01])"
      ]
     },
     "execution_count": 24,
     "metadata": {},
     "output_type": "execute_result"
    },
    {
     "data": {
      "text/plain": [
       "0.8129794056212823"
      ]
     },
     "execution_count": 24,
     "metadata": {},
     "output_type": "execute_result"
    }
   ],
   "source": [
    "reg_n = MY_LinearRegression()\n",
    "reg_n.fit_normal(X_train, y_train)\n",
    "reg_n._theta \n",
    "reg_n.r2_score(X_test, y_test)"
   ]
  },
  {
   "cell_type": "markdown",
   "metadata": {},
   "source": [
    "#### 2、梯度下降法（for循环方法训练）"
   ]
  },
  {
   "cell_type": "code",
   "execution_count": 25,
   "metadata": {
    "ExecuteTime": {
     "end_time": "2020-12-13T15:10:07.817069Z",
     "start_time": "2020-12-13T15:08:42.186084Z"
    }
   },
   "outputs": [
    {
     "data": {
      "text/plain": [
       "MY_LinearRegression()"
      ]
     },
     "execution_count": 25,
     "metadata": {},
     "output_type": "execute_result"
    }
   ],
   "source": [
    "reg_gd1 = MY_LinearRegression()\n",
    "reg_gd1.fit_gd(X_train, y_train, eta=0.000001, method='f', n_iters=1e6)"
   ]
  },
  {
   "cell_type": "code",
   "execution_count": 26,
   "metadata": {
    "ExecuteTime": {
     "end_time": "2020-12-13T15:10:07.825053Z",
     "start_time": "2020-12-13T15:10:07.818067Z"
    }
   },
   "outputs": [
    {
     "data": {
      "text/plain": [
       "array([ 4.35221240e-01, -1.07889200e-01,  5.91494760e-02, -5.72920411e-02,\n",
       "        1.19334353e-01,  2.07223623e-01,  3.91254775e+00,  1.50564949e-03,\n",
       "       -5.36511902e-01,  1.13424276e-01, -9.76209406e-03,  5.35544815e-02,\n",
       "        1.58440412e-02, -3.78786162e-01])"
      ]
     },
     "execution_count": 26,
     "metadata": {},
     "output_type": "execute_result"
    },
    {
     "data": {
      "text/plain": [
       "0.7542932581943915"
      ]
     },
     "execution_count": 26,
     "metadata": {},
     "output_type": "execute_result"
    }
   ],
   "source": [
    "reg_gd1._theta\n",
    "reg_gd1.r2_score(X_test, y_test)"
   ]
  },
  {
   "cell_type": "markdown",
   "metadata": {},
   "source": [
    "#### 3、梯度下降法（向量法训练）"
   ]
  },
  {
   "cell_type": "code",
   "execution_count": 27,
   "metadata": {
    "ExecuteTime": {
     "end_time": "2020-12-13T15:10:56.381566Z",
     "start_time": "2020-12-13T15:10:07.826049Z"
    }
   },
   "outputs": [
    {
     "data": {
      "text/plain": [
       "MY_LinearRegression()"
      ]
     },
     "execution_count": 27,
     "metadata": {},
     "output_type": "execute_result"
    }
   ],
   "source": [
    "reg_gd2 = MY_LinearRegression()\n",
    "reg_gd2.fit_gd(X_train, y_train, eta=0.000001, method='m', n_iters=1e6)"
   ]
  },
  {
   "cell_type": "code",
   "execution_count": 28,
   "metadata": {
    "ExecuteTime": {
     "end_time": "2020-12-13T15:10:56.390542Z",
     "start_time": "2020-12-13T15:10:56.383561Z"
    }
   },
   "outputs": [
    {
     "data": {
      "text/plain": [
       "array([ 4.35221240e-01, -1.07889200e-01,  5.91494760e-02, -5.72920411e-02,\n",
       "        1.19334353e-01,  2.07223623e-01,  3.91254775e+00,  1.50564949e-03,\n",
       "       -5.36511902e-01,  1.13424276e-01, -9.76209406e-03,  5.35544815e-02,\n",
       "        1.58440412e-02, -3.78786162e-01])"
      ]
     },
     "execution_count": 28,
     "metadata": {},
     "output_type": "execute_result"
    },
    {
     "data": {
      "text/plain": [
       "0.7542932581943915"
      ]
     },
     "execution_count": 28,
     "metadata": {},
     "output_type": "execute_result"
    }
   ],
   "source": [
    "reg_gd2._theta\n",
    "reg_gd2.r2_score(X_test, y_test)"
   ]
  },
  {
   "cell_type": "markdown",
   "metadata": {},
   "source": [
    "## 四、梯度下降法中数据归一化的必要性"
   ]
  },
  {
   "cell_type": "markdown",
   "metadata": {},
   "source": [
    "通过上面的实际训练可以看出，梯度下降法相对于正规方程法，模型训练时间较长，原因之一就是因为我们在训练之前没有进行数据归一化。\n",
    "\n",
    "为什么不进行数据归一化会导致梯度下降法的训练时间时间较长呢？我们以两参数模型的损失函数 $Cost = J(\\theta_1, \\theta_2)$ 为例。\n",
    "\n",
    "首先我们必须知道，梯度下降的方向是与损失函数的等高线 $J(\\theta_1, \\theta_2) = C$（$C$ 为常数）的切线垂直的。为什么垂直？我们做如下证明：\n",
    "\n",
    "已知曲面 $Cost = J(\\theta_1, \\theta_2)$，其等高线方程可以表示为：$J(\\theta_1, \\theta_2) = C$（$C$ 为常数）。我们对 $J(\\theta_1, \\theta_2) = C$ 两边同时进行微分，得：\n",
    "\n",
    "$$\n",
    "d J(\\theta_1, \\theta_2) = d{C} \\Rightarrow \\frac{\\partial J}{\\partial \\theta_1}{d\\theta_1} + \\frac{\\partial J}{\\partial \\theta_2}{d\\theta_2} = 0 \\Rightarrow (\\frac{\\partial J}{\\partial \\theta_1}, \\frac{\\partial J}{\\partial \\theta_2}) \\bullet ({d\\theta_1}, {d\\theta_2}) = 0 \\Rightarrow \\pmb{\\nabla Cost}({d\\theta_1}, {d\\theta_2}) = 0\n",
    "$$\n",
    "\n",
    "如上推导，我们可以看出梯度向量 $(\\frac{\\partial J}{\\partial \\theta_1}, \\frac{\\partial J}{\\partial \\theta_2})$ 与切向量 $({d\\theta_1}, {d\\theta_2})$ 的内积为0，因此两个向量垂直。又由于梯度下降的方向是梯度的反方向，因此梯度下降的方向也是与等高线切线垂直的。\n",
    "\n",
    "知道梯度下降的方向与等高线切线垂直后，我们可以绘制两种情况下的损失函数等高线图，如下：\n",
    "\n",
    "图一：\n",
    "<img src='.\\pic8.png' width='500'>\n",
    "\n",
    "图二：\n",
    "<img src='.\\pic9.png' width='500'>\n",
    "\n",
    "图一表示的是特征 $X_1$ 与特征 $X_2$ 的取值范围相近的情况，在这种情况下，等高线比较接近正圆。因此梯度下降的时候直奔最小值点去，因此迭代次数较少。\n",
    "\n",
    "图二表示的是特征 $X_1$ 与特征 $X_2$ 的取值范围量级相差较大的情况，在这种情况下，等高线比较“消瘦”。梯度下降的时候会在下降过程中反复横跳，因此导致迭代次数较多。\n",
    "\n",
    "由此上述可见，我们使用梯度下降法进行寻找最优解的时候，进行数据归一化是很有必要的！"
   ]
  },
  {
   "cell_type": "code",
   "execution_count": 29,
   "metadata": {
    "ExecuteTime": {
     "end_time": "2020-12-13T15:10:56.400515Z",
     "start_time": "2020-12-13T15:10:56.392537Z"
    }
   },
   "outputs": [
    {
     "data": {
      "text/plain": [
       "StandardScaler()"
      ]
     },
     "execution_count": 29,
     "metadata": {},
     "output_type": "execute_result"
    }
   ],
   "source": [
    "# 对特征数据进行标准化\n",
    "from sklearn.preprocessing import StandardScaler\n",
    "\n",
    "StandardScaler = StandardScaler()\n",
    "StandardScaler.fit(X_train)\n",
    "X_train_standard = StandardScaler.transform(X_train)"
   ]
  },
  {
   "cell_type": "code",
   "execution_count": 30,
   "metadata": {
    "ExecuteTime": {
     "end_time": "2020-12-13T15:10:56.680765Z",
     "start_time": "2020-12-13T15:10:56.402510Z"
    }
   },
   "outputs": [
    {
     "data": {
      "text/plain": [
       "MY_LinearRegression()"
      ]
     },
     "execution_count": 30,
     "metadata": {},
     "output_type": "execute_result"
    }
   ],
   "source": [
    "reg_gd3 = MY_LinearRegression()\n",
    "reg_gd3.fit_gd(X_train_standard, y_train, method='m')"
   ]
  },
  {
   "cell_type": "code",
   "execution_count": 31,
   "metadata": {
    "ExecuteTime": {
     "end_time": "2020-12-13T15:10:56.691736Z",
     "start_time": "2020-12-13T15:10:56.682760Z"
    }
   },
   "outputs": [
    {
     "data": {
      "text/plain": [
       "array([ 2.15007653e+01, -1.04042202e+00,  8.30933509e-01, -2.47943557e-01,\n",
       "        1.17945567e-02, -1.35034756e+00,  2.25074000e+00, -6.63843534e-01,\n",
       "       -2.53568774e+00,  2.25572406e+00, -2.34011572e+00, -1.76565394e+00,\n",
       "        7.09233973e-01, -2.72677064e+00])"
      ]
     },
     "execution_count": 31,
     "metadata": {},
     "output_type": "execute_result"
    },
    {
     "data": {
      "text/plain": [
       "0.8129873310487505"
      ]
     },
     "execution_count": 31,
     "metadata": {},
     "output_type": "execute_result"
    }
   ],
   "source": [
    "X_test_standard = StandardScaler.transform(X_test)\n",
    "reg_gd3._theta\n",
    "reg_gd3.r2_score(X_test_standard, y_test)"
   ]
  },
  {
   "cell_type": "markdown",
   "metadata": {},
   "source": [
    "通过运行时间和 $R^2$ 来看，在进行数据归一化后，整个训练时间缩短了很多（没进行数据归于化之前需要48s，归一化之后直用了238ms），并且从 $R^2$ 来看，模型的训练效果也有一定的提升。"
   ]
  },
  {
   "cell_type": "markdown",
   "metadata": {},
   "source": [
    "## 五、梯度下降法相对于正规方程法的优势"
   ]
  },
  {
   "cell_type": "markdown",
   "metadata": {},
   "source": [
    "当特征维度 $n$ 比较大时，正规方程的时间复杂度较大，但是梯度下降法训练速度就很快。以下以一个虚拟数据进行二者的比较："
   ]
  },
  {
   "cell_type": "code",
   "execution_count": 32,
   "metadata": {
    "ExecuteTime": {
     "end_time": "2020-12-13T15:10:57.035308Z",
     "start_time": "2020-12-13T15:10:56.693731Z"
    }
   },
   "outputs": [],
   "source": [
    "# 生成虚拟数据\n",
    "n = 10000\n",
    "m = 1000\n",
    "\n",
    "X = np.random.normal(size=(m, n))\n",
    "true_theta = np.random.uniform(0.0, 50.0, size=n+1)\n",
    "y = X.dot(true_theta[1:]) + true_theta[0] + np.random.normal(0.0, 10.0,size=m)"
   ]
  },
  {
   "cell_type": "code",
   "execution_count": 33,
   "metadata": {
    "ExecuteTime": {
     "end_time": "2020-12-13T15:11:17.741866Z",
     "start_time": "2020-12-13T15:10:57.036305Z"
    }
   },
   "outputs": [
    {
     "data": {
      "text/plain": [
       "MY_LinearRegression()"
      ]
     },
     "execution_count": 33,
     "metadata": {},
     "output_type": "execute_result"
    }
   ],
   "source": [
    "# 正规方程方法训练\n",
    "reg_n = MY_LinearRegression()\n",
    "reg_n.fit_normal(X, y)"
   ]
  },
  {
   "cell_type": "code",
   "execution_count": 34,
   "metadata": {
    "ExecuteTime": {
     "end_time": "2020-12-13T15:11:19.581941Z",
     "start_time": "2020-12-13T15:11:17.744850Z"
    }
   },
   "outputs": [
    {
     "data": {
      "text/plain": [
       "MY_LinearRegression()"
      ]
     },
     "execution_count": 34,
     "metadata": {},
     "output_type": "execute_result"
    }
   ],
   "source": [
    "# 梯度下降法训练\n",
    "reg_gd = MY_LinearRegression()\n",
    "reg_gd.fit_gd(X, y, method='m')"
   ]
  },
  {
   "cell_type": "markdown",
   "metadata": {},
   "source": [
    "通过以上测试，梯度下降法的训练速度明显快于正规方程"
   ]
  },
  {
   "cell_type": "markdown",
   "metadata": {},
   "source": [
    "## 六、随机“梯度”下降法"
   ]
  },
  {
   "cell_type": "markdown",
   "metadata": {},
   "source": [
    "### （一）基本原理"
   ]
  },
  {
   "cell_type": "markdown",
   "metadata": {},
   "source": [
    "####  1、“梯度”的计算\n",
    "\n",
    "前述梯度下降法中，我们的梯度表示为：\n",
    "\n",
    "$$\n",
    "\\pmb{\\nabla}J(\\theta)=\\frac{2}{m}\n",
    "\\begin{pmatrix}\n",
    "\\sum_{i=1}^{m}(x_0^{(i)}) {[(\\theta_0{x_0^{(i)}} + \\theta_1{x_1^{(i)}} + \\theta_2{x_2^{(i)}} + ... + \\theta_n{x_n^{(i)}}) - (y^{(i)})]}\n",
    "\\\\ \\\\\n",
    "\\sum_{i=1}^{m}(x_1^{(i)}) {[(\\theta_0{x_0^{(i)}} + \\theta_1{x_1^{(i)}} + \\theta_2{x_2^{(i)}} + ... + \\theta_n{x_n^{(i)}}) - (y^{(i)})]}\n",
    "\\\\ \\\\\n",
    "\\sum_{i=1}^{m}(x_2^{(i)}){[(\\theta_0{x_0^{(i)}} + \\theta_1{x_1^{(i)}} + \\theta_2{x_2^{(i)}} + ... + \\theta_n{x_n^{(i)}}) - (y^{(i)})]}\n",
    "\\\\ \\\\\n",
    "...\n",
    "\\\\ \\\\\n",
    "\\sum_{i=1}^{m}(x_n^{(i)}) {[(\\theta_0{x_0^{(i)}} + \\theta_1{x_1^{(i)}} + \\theta_2{x_2^{(i)}} + ... + \\theta_n{x_n^{(i)}}) - (y^{(i)})]}\n",
    "\\end{pmatrix}\n",
    "_{(n+1) \\times 1}\n",
    "$$\n",
    "\n",
    "这种梯度下降法在每次计算梯度时间，将所有的样本都进行了使用，我们称之为**批量梯度下降法**。**批量梯度下降法**在样本量很大时，使用矩阵计算梯度时十分耗时，因此我们考虑在每次计算梯度时，只考虑其中一个样本进行计算。即：\n",
    "\n",
    "$$\n",
    "\\pmb{\\nabla}J(\\theta)=\n",
    "\\begin{pmatrix}\n",
    "(x_0^{(i)}) {[(\\theta_0{x_0^{(i)}} + \\theta_1{x_1^{(i)}} + \\theta_2{x_2^{(i)}} + ... + \\theta_n{x_n^{(i)}}) - (y^{(i)})]}\n",
    "\\\\ \\\\\n",
    "(x_1^{(i)}) {[(\\theta_0{x_0^{(i)}} + \\theta_1{x_1^{(i)}} + \\theta_2{x_2^{(i)}} + ... + \\theta_n{x_n^{(i)}}) - (y^{(i)})]}\n",
    "\\\\ \\\\\n",
    "(x_2^{(i)}){[(\\theta_0{x_0^{(i)}} + \\theta_1{x_1^{(i)}} + \\theta_2{x_2^{(i)}} + ... + \\theta_n{x_n^{(i)}}) - (y^{(i)})]}\n",
    "\\\\ \\\\\n",
    "...\n",
    "\\\\ \\\\\n",
    "(x_n^{(i)}) {[(\\theta_0{x_0^{(i)}} + \\theta_1{x_1^{(i)}} + \\theta_2{x_2^{(i)}} + ... + \\theta_n{x_n^{(i)}}) - (y^{(i)})]}\n",
    "\\end{pmatrix}\n",
    "_{(n+1) \\times 1}\n",
    "$$\n",
    "\n",
    "$$\n",
    "\\Downarrow\n",
    "$$\n",
    "\n",
    "$$\n",
    "\\pmb{\\nabla} J(\\theta) = 2({X_b^{(i)}})^{T}({X_b^{(i)}}{\\theta} - {y^{(i)}})\n",
    "$$\n",
    "\n",
    "迭代式为：\n",
    "\n",
    "$$\\theta_{new} = \\theta_{old} - \\eta \\nabla J(\\theta_{old}) = \\theta_{old} - \\eta 2({X_b^{(i)}})^{T}({X_b^{(i)}}{\\theta_{old}} - {y^{(i)}}))$$\n",
    "\n",
    "这种方法我们称之为**随机梯度下降法**。标题之所以打上引号，其实是因为这里的计算方式，使得我们参数迭代的方向并不是沿着梯度的反方向，而是随机方向，因此并不能称为严格意义的“梯度下降”。\n",
    "\n",
    "#### 2、学习率的计算\n",
    "\n",
    "正如以上讨论，随机梯度下降法下，我们参数迭代的方向并不是严格的梯度反方向，因此并不能保证每次迭代都能使 $\\pmb{\\nabla} J(\\theta)$ 减小，也不能保证每次迭代都能使损失函数 $J(\\theta)$ 减小。因此可能存在当我们迭代到损失函数局部最小值附近时，由于迭代步长太大了，结果慢慢地又远离了最优解。因此我们需要人为地定义一个递减的的学习率，使得迭代量逐渐递减（批量梯度下降法下，每次的迭代量是天然递减的）。\n",
    "\n",
    "因此我们定义学习率为：\n",
    "\n",
    "$$\n",
    "\\eta = \\frac{a}{i_iters + b}\\\\\n",
    "其中：a \\ 和\\ b \\ 均为常数（两个超参数）；i_{iters}为当前迭代的次数\n",
    "$$"
   ]
  },
  {
   "cell_type": "markdown",
   "metadata": {},
   "source": [
    "### （二）分步实现"
   ]
  },
  {
   "cell_type": "code",
   "execution_count": 35,
   "metadata": {
    "ExecuteTime": {
     "end_time": "2020-12-13T15:11:19.626821Z",
     "start_time": "2020-12-13T15:11:19.583936Z"
    }
   },
   "outputs": [],
   "source": [
    "# 生成模拟数据\n",
    "m = 100000\n",
    "np.random.seed(666)\n",
    "x_1 = np.random.normal(size=m)\n",
    "y = 4.*x_1 + 3. + np.random.normal(0, 3, size=m)"
   ]
  },
  {
   "cell_type": "markdown",
   "metadata": {},
   "source": [
    "#### 1、使用批量梯度下降法训练"
   ]
  },
  {
   "cell_type": "code",
   "execution_count": 36,
   "metadata": {
    "ExecuteTime": {
     "end_time": "2020-12-13T15:11:19.637791Z",
     "start_time": "2020-12-13T15:11:19.627818Z"
    }
   },
   "outputs": [],
   "source": [
    "def Func_J(theta, X_b, y):\n",
    "    try:\n",
    "        return np.sum((y - X_b.dot(theta))**2) / len(X_b)\n",
    "    except:\n",
    "        return float('inf')\n",
    "\n",
    "def Bgrad(theta, X_b, y):\n",
    "    return (X_b).T.dot(X_b.dot(theta) - y) * 2 / len(X_b)\n",
    "\n",
    "# 定义梯度下降迭代函数\n",
    "def B_gradient_descent(X_b, y, initial_theta, eta=0.01, n_iters=1e4, epsilon=1e-8):\n",
    "\n",
    "    theta = initial_theta\n",
    "    i_iter = 0\n",
    "    i_iter_list = []\n",
    "    J_list = []\n",
    "\n",
    "    while i_iter < n_iters:\n",
    "        theta_old = theta\n",
    "        theta = theta - eta * Bgrad(theta_old, X_b, y)\n",
    "        i_iter_list.append(i_iter)\n",
    "        J = Func_J(theta, X_b, y)\n",
    "        J_list.append(J)\n",
    "        if abs(Func_J(theta, X_b, y) - Func_J(theta_old, X_b, y)) < epsilon:\n",
    "            break\n",
    "\n",
    "        i_iter += 1\n",
    "\n",
    "    return theta, i_iter_list, J_list\n"
   ]
  },
  {
   "cell_type": "code",
   "execution_count": 37,
   "metadata": {
    "ExecuteTime": {
     "end_time": "2020-12-13T15:11:20.222229Z",
     "start_time": "2020-12-13T15:11:19.639786Z"
    }
   },
   "outputs": [
    {
     "data": {
      "text/plain": [
       "array([3.00545329, 4.00684163])"
      ]
     },
     "execution_count": 37,
     "metadata": {},
     "output_type": "execute_result"
    }
   ],
   "source": [
    "x_0 = np.ones((len(x_1), 1))\n",
    "x_1 = x_1.reshape(-1,1)\n",
    "X_b = np.hstack([x_0, x_1])\n",
    "initial_theta = np.zeros(X_b.shape[1])\n",
    "theta, i_iter_list, J_list = B_gradient_descent(X_b, y, initial_theta)\n",
    "theta"
   ]
  },
  {
   "cell_type": "code",
   "execution_count": 38,
   "metadata": {
    "ExecuteTime": {
     "end_time": "2020-12-13T15:11:20.341908Z",
     "start_time": "2020-12-13T15:11:20.224223Z"
    }
   },
   "outputs": [
    {
     "data": {
      "text/plain": [
       "<Figure size 432x288 with 0 Axes>"
      ]
     },
     "execution_count": 38,
     "metadata": {},
     "output_type": "execute_result"
    },
    {
     "data": {
      "text/plain": [
       "Text(0.5, 1.0, '批量梯度下降法损失函数变化图示')"
      ]
     },
     "execution_count": 38,
     "metadata": {},
     "output_type": "execute_result"
    },
    {
     "data": {
      "text/plain": [
       "[<matplotlib.lines.Line2D at 0x2b8b8c73160>]"
      ]
     },
     "execution_count": 38,
     "metadata": {},
     "output_type": "execute_result"
    },
    {
     "data": {
      "image/png": "[encoded data removed]",
      "text/plain": [
       "<Figure size 432x288 with 1 Axes>"
      ]
     },
     "metadata": {
      "needs_background": "light"
     },
     "output_type": "display_data"
    }
   ],
   "source": [
    "plt.figure()\n",
    "plt.title('批量梯度下降法损失函数变化图示')\n",
    "plt.plot(i_iter_list, J_list, color='steelblue')\n",
    "plt.show()"
   ]
  },
  {
   "cell_type": "markdown",
   "metadata": {},
   "source": [
    "#### 2、使用随机梯度下降法训练"
   ]
  },
  {
   "cell_type": "code",
   "execution_count": 39,
   "metadata": {
    "ExecuteTime": {
     "end_time": "2020-12-13T15:11:20.352879Z",
     "start_time": "2020-12-13T15:11:20.342905Z"
    }
   },
   "outputs": [],
   "source": [
    "def Func_J(theta, X_b, y):\n",
    "    try:\n",
    "        return np.sum((y - X_b.dot(theta))**2) / len(X_b)\n",
    "    except:\n",
    "        return float('inf')\n",
    "\n",
    "def Sgrad(theta, X_b_i, y_i):\n",
    "    return (X_b_i).T.dot(X_b_i.dot(theta) - y_i) * 2\n",
    "\n",
    "def S_gradient_descent(X_b, y, initial_theta, n_iters=100, t0=5, t1=50):\n",
    "    \n",
    "    theta = initial_theta\n",
    "    i_iter_list = []\n",
    "    J_list = []\n",
    "    \n",
    "    # 定义学习率函数\n",
    "    def learning_rate(i_iter):\n",
    "        return t0 / (i_iter + t1)\n",
    "    \n",
    "    for i_iter in range(n_iters):\n",
    "        theta_old = theta\n",
    "        eta = learning_rate(i_iter)\n",
    "        rand_i = np.random.randint(len(X_b))  # 建立一个随机索引\n",
    "        grad = Sgrad(theta_old, X_b[rand_i], y[rand_i])\n",
    "        theta = theta - eta * grad\n",
    "        \n",
    "        i_iter_list.append(i_iter)\n",
    "        J = Func_J(theta, X_b, y)\n",
    "        J_list.append(J)\n",
    "        \n",
    "    return theta, i_iter_list, J_list"
   ]
  },
  {
   "cell_type": "code",
   "execution_count": 40,
   "metadata": {
    "ExecuteTime": {
     "end_time": "2020-12-13T15:11:30.727819Z",
     "start_time": "2020-12-13T15:11:20.354873Z"
    }
   },
   "outputs": [
    {
     "data": {
      "text/plain": [
       "array([2.91924481, 4.0059984 ])"
      ]
     },
     "execution_count": 40,
     "metadata": {},
     "output_type": "execute_result"
    }
   ],
   "source": [
    "x_0 = np.ones((len(x_1), 1))\n",
    "x_1 = x_1.reshape(-1,1)\n",
    "X_b = np.hstack([x_0, x_1])\n",
    "initial_theta = np.zeros(X_b.shape[1])\n",
    "n_iters = len(X_b)//3  # // 取整\n",
    "\n",
    "theta, i_iter_list, J_list = S_gradient_descent(X_b, y, initial_theta, n_iters)\n",
    "theta"
   ]
  },
  {
   "cell_type": "code",
   "execution_count": 41,
   "metadata": {
    "ExecuteTime": {
     "end_time": "2020-12-13T15:11:30.962193Z",
     "start_time": "2020-12-13T15:11:30.734801Z"
    }
   },
   "outputs": [
    {
     "data": {
      "text/plain": [
       "<Figure size 432x288 with 0 Axes>"
      ]
     },
     "execution_count": 41,
     "metadata": {},
     "output_type": "execute_result"
    },
    {
     "data": {
      "text/plain": [
       "Text(0.5, 1.0, '随机梯度下降法损失函数变化图示')"
      ]
     },
     "execution_count": 41,
     "metadata": {},
     "output_type": "execute_result"
    },
    {
     "data": {
      "text/plain": [
       "[<matplotlib.lines.Line2D at 0x2b8b6c70eb8>]"
      ]
     },
     "execution_count": 41,
     "metadata": {},
     "output_type": "execute_result"
    },
    {
     "data": {
      "image/png": "[encoded data removed]",
      "text/plain": [
       "<Figure size 432x288 with 1 Axes>"
      ]
     },
     "metadata": {
      "needs_background": "light"
     },
     "output_type": "display_data"
    }
   ],
   "source": [
    "plt.figure()\n",
    "plt.title('随机梯度下降法损失函数变化图示')\n",
    "plt.plot(i_iter_list, J_list, color='steelblue')\n",
    "plt.show()"
   ]
  },
  {
   "cell_type": "markdown",
   "metadata": {},
   "source": [
    "比较“批量梯度下降”和“随机梯度下降”的损失函数变化曲线可以看出，“随机梯度下降”的损失函数会出现反复横跳的现象，这也是我们要人为定义一个递减的学习率的重要原因。"
   ]
  },
  {
   "cell_type": "markdown",
   "metadata": {},
   "source": [
    "### （三）封装"
   ]
  },
  {
   "cell_type": "code",
   "execution_count": 42,
   "metadata": {
    "ExecuteTime": {
     "end_time": "2020-12-13T15:11:31.003083Z",
     "start_time": "2020-12-13T15:11:30.965185Z"
    }
   },
   "outputs": [],
   "source": [
    "import numpy as np\n",
    "\n",
    "# 使用for循环\n",
    "class MY_LinearRegression:\n",
    "    \n",
    "    def __init__(self):\n",
    "        '''初始化'''\n",
    "        self.intercept_ = None\n",
    "        self.coef_ = None\n",
    "        self._theta =None\n",
    "     \n",
    "    \n",
    "    # 正规方程法    \n",
    "    def fit_normal(self, X_train, y_train):\n",
    "        '''使用正规方程方法训练'''\n",
    "        assert X_train.shape[0] == y_train.shape[0], 'X_train 和 y_train 的行数要一致'\n",
    "        \n",
    "        X_0 = np.ones(shape=(len(X_train), 1))\n",
    "        X_b = np.hstack([X_0, X_train])\n",
    "        \n",
    "        self._theta = np.linalg.inv(X_b.T.dot(X_b)).dot(X_b.T).dot(y_train)\n",
    "        \n",
    "        self.intercept_ = self._theta[0]\n",
    "        self.coef_ = self._theta[1:]\n",
    "        \n",
    "        return self\n",
    "    \n",
    "    \n",
    "    # 批量梯度下降法\n",
    "    def fit_bgd(self, X_train, y_train, eta=0.01, n_iters=1e4, epsilon=1e-8, method='f'):\n",
    "        '使用批量梯度下降法进行训练'\n",
    "        assert X_train.shape[0] == y_train.shape[0], 'X_train 和 y_train 的行数要一致'\n",
    "        \n",
    "        def Func_J(theta, X_b, y):\n",
    "            try:\n",
    "                return np.sum((y - X_b.dot(theta))**2) / len(X_b)\n",
    "            except:\n",
    "                return float('inf')\n",
    "                \n",
    "        def b_grad(theta, X_b, y):\n",
    "            # for循环\n",
    "            if method == 'f':\n",
    "                grad_j = np.empty(len(theta))\n",
    "                grad_j[0] = np.sum(X_b.dot(theta) - y)\n",
    "                for i in range(1, len(theta)):\n",
    "                    grad_j[i] = (X_b.dot(theta) - y).dot(X_b[:,i])\n",
    "                return grad_j * 2 / len(X_b)\n",
    "            # 向量法\n",
    "            if method == 'm':\n",
    "                    return (X_b).T.dot(X_b.dot(theta) - y) * 2 / len(X_b)\n",
    "                \n",
    "        # 定义梯度下降迭代函数\n",
    "        def b_gradient_descent(X_b, y, initial_theta, eta, n_iters, epsilon):\n",
    "\n",
    "            theta = initial_theta\n",
    "            i_iter = 0\n",
    "\n",
    "            while i_iter < n_iters:\n",
    "                theta_old = theta\n",
    "                theta = theta - eta * b_grad(theta_old, X_b, y)\n",
    "\n",
    "                if abs(Func_J(theta, X_b, y) - Func_J(theta_old, X_b, y)) < epsilon:\n",
    "                    break\n",
    "\n",
    "                i_iter += 1\n",
    "\n",
    "            return theta\n",
    "        \n",
    "        x_0 = np.ones((len(X_train), 1))\n",
    "        \n",
    "        if len(X_train.shape) == 1:\n",
    "            X_train = X_train.reshape(-1,1)\n",
    "            \n",
    "        X_b = np.hstack([x_0, X_train])\n",
    "        initial_theta = np.zeros(X_b.shape[1])\n",
    "\n",
    "        self._theta = b_gradient_descent(X_b, y_train, initial_theta, eta, n_iters, epsilon)\n",
    "        self.intercept_ = self._theta[0]\n",
    "        self.coef_ = self._theta[1:]\n",
    "        \n",
    "        return self\n",
    "    \n",
    "    \n",
    "    # 随机梯度下降法\n",
    "    def fit_sgd(self, X_train, y_train, n_iters=5, epsilon=1e-8, t0=5, t1=50):\n",
    "        '使用随机梯度下降法进行训练'\n",
    "        assert X_train.shape[0] == y_train.shape[0], 'X_train 和 y_train 的行数要一致'\n",
    "        \n",
    "        def Func_J(theta, X_b, y):\n",
    "            try:\n",
    "                return np.sum((y - X_b.dot(theta))**2) / len(X_b)\n",
    "            except:\n",
    "                return float('inf')\n",
    "                \n",
    "        def s_grad(theta, X_b_i, y_i):\n",
    "            return (X_b_i).T.dot(X_b_i.dot(theta) - y_i) * 2\n",
    "                \n",
    "        # 定义梯度下降迭代函数\n",
    "        def s_gradient_descent(X_b, y, initial_theta, n_iters, t0, t1):\n",
    "\n",
    "            theta = initial_theta\n",
    "\n",
    "            # 定义学习率函数\n",
    "            def learning_rate(i_iter):\n",
    "                return t0 / (i_iter + t1)\n",
    "            \n",
    "            m = len(X_b)\n",
    "            \n",
    "            for i in range(n_iters):  # n_iters表示看几遍样本\n",
    "                # 将样本打乱顺序\n",
    "                indexs = np.random.permutation(m) \n",
    "                X_b_new = X_b[indexs,:]\n",
    "                y_new = y[indexs]\n",
    "                \n",
    "                # 遍历当前样本集\n",
    "                for i_iter in range(m):\n",
    "                    theta_old = theta\n",
    "                    eta = learning_rate(i * m + i_iter)\n",
    "                    grad = s_grad(theta_old, X_b[i_iter], y[i_iter])\n",
    "                    theta = theta - eta * grad\n",
    "\n",
    "            return theta\n",
    "        \n",
    "        x_0 = np.ones((len(X_train), 1))\n",
    "        \n",
    "        if len(X_train.shape) == 1:\n",
    "            X_train = X_train.reshape(-1,1)\n",
    "            \n",
    "        X_b = np.hstack([x_0, X_train])\n",
    "        initial_theta = np.zeros(X_b.shape[1])\n",
    "\n",
    "        self._theta = s_gradient_descent(X_b, y_train, initial_theta, n_iters, t0, t1)\n",
    "        self.intercept_ = self._theta[0]\n",
    "        self.coef_ = self._theta[1:]\n",
    "        \n",
    "        return self\n",
    "    \n",
    "\n",
    "    def predict(self, X_predict):\n",
    "        '''预测'''\n",
    "        assert self.intercept_ is not None and self.coef_ is not None, '请先进行训练'\n",
    "        assert X_predict.shape[1] == len(self.coef_), '特证个数必须与参数（非截距）个数相等'\n",
    "        \n",
    "        X_0 = np.ones(shape=(len(X_predict), 1))\n",
    "        X_b = np.hstack([X_0, X_predict])\n",
    "        \n",
    "        return X_b.dot(self._theta) # y = X_b.dot(𝜃)\n",
    "    \n",
    "    def r2_score(self, X_test, y_test):\n",
    "        '''模型评价R2'''\n",
    "        y_test_predict = self.predict(X_test)\n",
    "        mean_squared_error = np.sum((y_test - y_test_predict) ** 2) / len(y_test)\n",
    "        return 1 - mean_squared_error / np.var(y_test)\n",
    "    \n",
    "    def __repr__(self):\n",
    "        return 'MY_LinearRegression()'"
   ]
  },
  {
   "cell_type": "markdown",
   "metadata": {},
   "source": [
    "#### 1、模拟数据验证"
   ]
  },
  {
   "cell_type": "code",
   "execution_count": 43,
   "metadata": {
    "ExecuteTime": {
     "end_time": "2020-12-13T15:11:31.018042Z",
     "start_time": "2020-12-13T15:11:31.005077Z"
    }
   },
   "outputs": [],
   "source": [
    "# 生成模拟数据\n",
    "m = 100000\n",
    "np.random.seed(666)\n",
    "X_train = np.random.normal(size=m)\n",
    "y_train = 4.*X_train + 3. + np.random.normal(0, 3, size=m)"
   ]
  },
  {
   "cell_type": "code",
   "execution_count": 44,
   "metadata": {
    "ExecuteTime": {
     "end_time": "2020-12-13T15:11:31.636389Z",
     "start_time": "2020-12-13T15:11:31.020038Z"
    }
   },
   "outputs": [
    {
     "data": {
      "text/plain": [
       "MY_LinearRegression()"
      ]
     },
     "execution_count": 44,
     "metadata": {},
     "output_type": "execute_result"
    },
    {
     "data": {
      "text/plain": [
       "array([3.00545329, 4.00684163])"
      ]
     },
     "execution_count": 44,
     "metadata": {},
     "output_type": "execute_result"
    }
   ],
   "source": [
    "# 批量梯度下降\n",
    "reg_bgd = MY_LinearRegression()\n",
    "reg_bgd.fit_bgd(X_train, y_train, method='m')\n",
    "reg_bgd._theta"
   ]
  },
  {
   "cell_type": "code",
   "execution_count": 45,
   "metadata": {
    "ExecuteTime": {
     "end_time": "2020-12-13T15:11:32.371057Z",
     "start_time": "2020-12-13T15:11:31.638383Z"
    }
   },
   "outputs": [
    {
     "data": {
      "text/plain": [
       "MY_LinearRegression()"
      ]
     },
     "execution_count": 45,
     "metadata": {},
     "output_type": "execute_result"
    },
    {
     "data": {
      "text/plain": [
       "array([3.01080423, 4.02101668])"
      ]
     },
     "execution_count": 45,
     "metadata": {},
     "output_type": "execute_result"
    }
   ],
   "source": [
    "# 随机梯度下降\n",
    "reg_sgd = MY_LinearRegression()\n",
    "reg_sgd.fit_sgd(X_train, y_train, n_iters=1)\n",
    "reg_sgd._theta"
   ]
  },
  {
   "cell_type": "markdown",
   "metadata": {},
   "source": [
    "#### 2、波士顿房价数据"
   ]
  },
  {
   "cell_type": "code",
   "execution_count": 46,
   "metadata": {
    "ExecuteTime": {
     "end_time": "2020-12-13T15:11:32.432400Z",
     "start_time": "2020-12-13T15:11:32.376043Z"
    }
   },
   "outputs": [
    {
     "data": {
      "text/plain": [
       "(490, 13)"
      ]
     },
     "execution_count": 46,
     "metadata": {},
     "output_type": "execute_result"
    },
    {
     "data": {
      "text/plain": [
       "(490,)"
      ]
     },
     "execution_count": 46,
     "metadata": {},
     "output_type": "execute_result"
    },
    {
     "data": {
      "text/plain": [
       "(392, 13)"
      ]
     },
     "execution_count": 46,
     "metadata": {},
     "output_type": "execute_result"
    },
    {
     "data": {
      "text/plain": [
       "(98, 13)"
      ]
     },
     "execution_count": 46,
     "metadata": {},
     "output_type": "execute_result"
    },
    {
     "data": {
      "text/plain": [
       "(392,)"
      ]
     },
     "execution_count": 46,
     "metadata": {},
     "output_type": "execute_result"
    },
    {
     "data": {
      "text/plain": [
       "(98,)"
      ]
     },
     "execution_count": 46,
     "metadata": {},
     "output_type": "execute_result"
    },
    {
     "data": {
      "text/plain": [
       "StandardScaler()"
      ]
     },
     "execution_count": 46,
     "metadata": {},
     "output_type": "execute_result"
    }
   ],
   "source": [
    "# 导入波士顿房价数据\n",
    "from sklearn import datasets\n",
    "\n",
    "boston = datasets.load_boston()\n",
    "\n",
    "# print(boston.DESCR)\n",
    "# boston.feature_names\n",
    "\n",
    "X = boston.data\n",
    "y = boston.target\n",
    "\n",
    "# 去除天花板值\n",
    "X = X[y < 50.0]\n",
    "y = y[y < 50.0]\n",
    "\n",
    "X.shape\n",
    "y.shape\n",
    "\n",
    "# 切分数据集\n",
    "from sklearn.model_selection import train_test_split\n",
    "\n",
    "X_train, X_test, y_train, y_test = train_test_split(X, y, test_size=0.2, random_state=666)\n",
    "\n",
    "X_train.shape\n",
    "X_test.shape\n",
    "y_train.shape\n",
    "y_test.shape\n",
    "\n",
    "# 数据归一化\n",
    "from sklearn.preprocessing import StandardScaler\n",
    "\n",
    "StandardScaler = StandardScaler()\n",
    "StandardScaler.fit(X_train)\n",
    "X_train_standard = StandardScaler.transform(X_train)\n",
    "X_test_standard = StandardScaler.transform(X_test)"
   ]
  },
  {
   "cell_type": "code",
   "execution_count": 47,
   "metadata": {
    "ExecuteTime": {
     "end_time": "2020-12-13T15:12:22.570818Z",
     "start_time": "2020-12-13T15:11:32.434395Z"
    }
   },
   "outputs": [
    {
     "data": {
      "text/plain": [
       "MY_LinearRegression()"
      ]
     },
     "execution_count": 47,
     "metadata": {},
     "output_type": "execute_result"
    },
    {
     "data": {
      "text/plain": [
       "array([18.59095896, -0.69059003,  0.32247362, -0.68061665,  0.14204186,\n",
       "       -0.42918046,  2.47620423, -0.52540328, -0.96823448,  0.12960676,\n",
       "       -0.65355466, -1.4568469 ,  0.62647243, -2.23934191])"
      ]
     },
     "execution_count": 47,
     "metadata": {},
     "output_type": "execute_result"
    },
    {
     "data": {
      "text/plain": [
       "0.6656195606376432"
      ]
     },
     "execution_count": 47,
     "metadata": {},
     "output_type": "execute_result"
    }
   ],
   "source": [
    "# 批量梯度下降\n",
    "reg_bgd = MY_LinearRegression()\n",
    "reg_bgd.fit_bgd(X_train_standard, y_train, eta=0.000001, method='m', n_iters=1e6)\n",
    "reg_bgd._theta\n",
    "reg_bgd.r2_score(X_test_standard, y_test)"
   ]
  },
  {
   "cell_type": "code",
   "execution_count": 48,
   "metadata": {
    "ExecuteTime": {
     "end_time": "2020-12-13T15:12:22.844087Z",
     "start_time": "2020-12-13T15:12:22.571815Z"
    }
   },
   "outputs": [
    {
     "data": {
      "text/plain": [
       "MY_LinearRegression()"
      ]
     },
     "execution_count": 48,
     "metadata": {},
     "output_type": "execute_result"
    },
    {
     "data": {
      "text/plain": [
       "array([21.49809059, -0.99358571,  0.76910655, -0.41665018,  0.03181092,\n",
       "       -1.32359445,  2.2806571 , -0.68096115, -2.54630425,  1.79711344,\n",
       "       -1.83313117, -1.75496499,  0.70834094, -2.72458642])"
      ]
     },
     "execution_count": 48,
     "metadata": {},
     "output_type": "execute_result"
    },
    {
     "data": {
      "text/plain": [
       "0.8132950633639209"
      ]
     },
     "execution_count": 48,
     "metadata": {},
     "output_type": "execute_result"
    }
   ],
   "source": [
    "# 随机梯度下降\n",
    "reg_sgd = MY_LinearRegression()\n",
    "reg_sgd.fit_sgd(X_train_standard, y_train, n_iters=100)\n",
    "reg_sgd._theta\n",
    "reg_sgd.r2_score(X_test_standard, y_test)"
   ]
  },
  {
   "cell_type": "markdown",
   "metadata": {},
   "source": [
    "### （四）scikit - learn 中的随机梯度下降法"
   ]
  },
  {
   "cell_type": "code",
   "execution_count": 49,
   "metadata": {
    "ExecuteTime": {
     "end_time": "2020-12-13T15:12:22.877997Z",
     "start_time": "2020-12-13T15:12:22.846082Z"
    }
   },
   "outputs": [
    {
     "data": {
      "text/plain": [
       "SGDRegressor()"
      ]
     },
     "execution_count": 49,
     "metadata": {},
     "output_type": "execute_result"
    },
    {
     "data": {
      "text/plain": [
       "0.8129254242161922"
      ]
     },
     "execution_count": 49,
     "metadata": {},
     "output_type": "execute_result"
    }
   ],
   "source": [
    "from sklearn.linear_model import SGDRegressor\n",
    "\n",
    "# sklearn中的随机梯度下降 浏览样本遍数 n_iter_no_change 选择默认\n",
    "s_reg_sgd = SGDRegressor()\n",
    "s_reg_sgd.fit(X_train_standard, y_train)\n",
    "s_reg_sgd.score(X_test_standard, y_test)"
   ]
  },
  {
   "cell_type": "code",
   "execution_count": 50,
   "metadata": {
    "ExecuteTime": {
     "end_time": "2020-12-13T15:12:22.896945Z",
     "start_time": "2020-12-13T15:12:22.878993Z"
    }
   },
   "outputs": [
    {
     "data": {
      "text/plain": [
       "SGDRegressor(n_iter_no_change=100)"
      ]
     },
     "execution_count": 50,
     "metadata": {},
     "output_type": "execute_result"
    },
    {
     "data": {
      "text/plain": [
       "0.8129364925974142"
      ]
     },
     "execution_count": 50,
     "metadata": {},
     "output_type": "execute_result"
    }
   ],
   "source": [
    "# sklearn中的随机梯度下降 浏览样本遍数 n_iter_no_change=100\n",
    "s_reg_sgd_100 = SGDRegressor(n_iter_no_change=100)\n",
    "s_reg_sgd_100.fit(X_train_standard, y_train)\n",
    "s_reg_sgd_100.score(X_test_standard, y_test)"
   ]
  },
  {
   "cell_type": "markdown",
   "metadata": {},
   "source": [
    "## 七、梯度的调试"
   ]
  },
  {
   "cell_type": "markdown",
   "metadata": {},
   "source": [
    "前述我们都是通过数学推导的方式得出计算梯度的公式，但是对于一些复杂的损失函数来说，推导梯度计算公式并不是那么容易的事情，很可能会出现推导错误的情况。那么我们怎样验证推导的计算方法的准确性呢？\n",
    "\n",
    "首先，我们引入一个近似表示函数在某点的导数的方法，如图：\n",
    "\n",
    "<img src='.\\pic10.png' width=500>\n",
    "\n",
    "如图，我们可以使用 $\\frac{dJ}{d\\theta} = \\frac{J(\\theta + \\varepsilon) - J(\\theta - \\varepsilon)}{2\\varepsilon} (\\varepsilon \\rightarrow 0)$ 近似表示损失函数 $J(\\theta)$ 在点 $(\\theta, J(\\theta)$ 处的导数。\n",
    "\n",
    "上述方法对于高维同样适用。\n",
    "\n",
    "如下\n",
    "\n",
    "$$\n",
    "\\begin{align}\n",
    "& \\theta = (\\theta_0, \\theta_1, \\theta_2, ..., \\theta_n)\n",
    "\\\\ \\\\\n",
    "& \\nabla J(\\theta) =(\n",
    "\\frac {\\partial J(\\theta)}{\\partial \\theta_0}\n",
    ",\\frac {\\partial J(\\theta)}{\\partial \\theta_1}\n",
    ",\\frac {\\partial J(\\theta)}{\\partial \\theta_2} \n",
    ",...\n",
    ",\\frac {\\partial J(\\theta)}{\\partial \\theta_n})\n",
    "\\end{align}\n",
    "$$\n",
    "\n",
    "令：\n",
    "\n",
    "$$\n",
    "\\begin{align}\n",
    "& \\theta_0^{+} = (\\theta_0 + \\varepsilon, \\theta_1, \\theta_2, ..., \\theta_n)\\\\\n",
    "& \\theta_0^{-} = (\\theta_0 - \\varepsilon, \\theta_1, \\theta_2, ..., \\theta_n)\n",
    "\\end{align}\n",
    "$$\n",
    "\n",
    "则：\n",
    "\n",
    "$$\n",
    "\\frac {\\partial J(\\theta)}{\\partial \\theta_0} = \\frac{J(\\theta_0^{+} - J(\\theta_0^{-})}{2\\varepsilon}\n",
    "$$\n",
    "\n",
    "同理可以推出 $J(\\theta)$ 关于其他参数的偏导数。因此梯度可以表示为：\n",
    "\n",
    "$$\n",
    "\\nabla J(\\theta) =\n",
    "\\begin{pmatrix}\n",
    "\\frac {\\partial J(\\theta)}{\\partial \\theta_0}\n",
    "\\\\ \\frac {\\partial J(\\theta)}{\\partial \\theta_1}\n",
    "\\\\ \\frac {\\partial J(\\theta)}{\\partial \\theta_2} \n",
    "\\\\ ...\n",
    "\\\\ \\frac {\\partial J(\\theta)}{\\partial \\theta_n}\n",
    "\\end{pmatrix}\n",
    "=\n",
    "\\begin{pmatrix}\n",
    "\\frac{J(\\theta_0^{+} - J(\\theta_0^{-})}{2\\varepsilon}\n",
    "\\\\ \\\\ \\frac{J(\\theta_1^{+} - J(\\theta_1^{-})}{2\\varepsilon}\n",
    "\\\\ \\\\ \\frac{J(\\theta_2^{+} - J(\\theta_2^{-})}{2\\varepsilon}\n",
    "\\\\ \\\\ ...\n",
    "\\\\ \\\\ \\frac{J(\\theta_n^{+} - J(\\theta_n^{-})}{2\\varepsilon}\n",
    "\\end{pmatrix}\n",
    "$$\n"
   ]
  },
  {
   "cell_type": "code",
   "execution_count": 51,
   "metadata": {
    "ExecuteTime": {
     "end_time": "2020-12-13T15:12:22.909910Z",
     "start_time": "2020-12-13T15:12:22.898940Z"
    }
   },
   "outputs": [],
   "source": [
    "def Func_J(theta, X_b, y):\n",
    "    try:\n",
    "        return np.sum((y - X_b.dot(theta))**2) / len(X_b)\n",
    "    except:\n",
    "        return float('inf')\n",
    "\n",
    "def b_grad_math(theta, X_b, y):\n",
    "    return (X_b).T.dot(X_b.dot(theta) - y) * 2 / len(X_b)\n",
    "\n",
    "def b_grad_debug(theta, X_b, y, epsilon=0.001):\n",
    "    grad = np.empty(len(theta))\n",
    "    for i in range(len(theta)):\n",
    "        theta_1 = theta.copy()\n",
    "        theta_1[i] += epsilon\n",
    "        theta_2 = theta.copy()\n",
    "        theta_2[i] -= epsilon\n",
    "        grad[i] = (Func_J(theta_1, X_b, y) - Func_J(theta_2, X_b, y)) / (2 * epsilon)\n",
    "        \n",
    "    return grad\n",
    "    \n",
    "\n",
    "# 定义梯度下降迭代函数\n",
    "def b_gradient_descent(grad_method, X_b, y, initial_theta, eta=0.01, n_iters=1e4, epsilon=1e-8):\n",
    "\n",
    "    theta = initial_theta\n",
    "    i_iter = 0\n",
    "\n",
    "    while i_iter < n_iters:\n",
    "        theta_old = theta\n",
    "        theta = theta - eta * grad_method(theta_old, X_b, y)\n",
    "\n",
    "        if abs(Func_J(theta, X_b, y) - Func_J(theta_old, X_b, y)) < epsilon:\n",
    "            break\n",
    "\n",
    "        i_iter += 1\n",
    "\n",
    "    return theta"
   ]
  },
  {
   "cell_type": "code",
   "execution_count": 52,
   "metadata": {
    "ExecuteTime": {
     "end_time": "2020-12-13T15:12:22.917889Z",
     "start_time": "2020-12-13T15:12:22.911905Z"
    }
   },
   "outputs": [],
   "source": [
    "# 生成虚拟数据\n",
    "np.random.seed(666)\n",
    "X = np.random.random(size=(1000, 10))\n",
    "\n",
    "true_theta = np.arange(1, 12, dtype=float)\n",
    "X_b = np.hstack([np.ones((len(X), 1)), X])\n",
    "y = X_b.dot(true_theta) + np.random.normal(size=1000)"
   ]
  },
  {
   "cell_type": "code",
   "execution_count": 53,
   "metadata": {
    "ExecuteTime": {
     "end_time": "2020-12-13T15:12:23.563163Z",
     "start_time": "2020-12-13T15:12:22.918886Z"
    }
   },
   "outputs": [
    {
     "data": {
      "text/plain": [
       "array([ 1.1251597 ,  2.05312521,  2.91522497,  4.11895968,  5.05002117,\n",
       "        5.90494046,  6.97383745,  8.00088367,  8.86213468,  9.98608331,\n",
       "       10.90529198])"
      ]
     },
     "execution_count": 53,
     "metadata": {},
     "output_type": "execute_result"
    }
   ],
   "source": [
    "# 使用推导方式计算的梯度\n",
    "initial_theta = np.zeros(X_b.shape[1])\n",
    "theta = b_gradient_descent(b_grad_math, X_b, y, initial_theta)\n",
    "theta"
   ]
  },
  {
   "cell_type": "code",
   "execution_count": 54,
   "metadata": {
    "ExecuteTime": {
     "end_time": "2020-12-13T15:12:26.711068Z",
     "start_time": "2020-12-13T15:12:23.565158Z"
    }
   },
   "outputs": [
    {
     "data": {
      "text/plain": [
       "array([ 1.1251597 ,  2.05312521,  2.91522497,  4.11895968,  5.05002117,\n",
       "        5.90494046,  6.97383745,  8.00088367,  8.86213468,  9.98608331,\n",
       "       10.90529198])"
      ]
     },
     "execution_count": 54,
     "metadata": {},
     "output_type": "execute_result"
    }
   ],
   "source": [
    "# 使用近似的方式计算梯度\n",
    "initial_theta = np.zeros(X_b.shape[1])\n",
    "theta = b_gradient_descent(b_grad_debug, X_b, y, initial_theta)\n",
    "theta"
   ]
  },
  {
   "cell_type": "markdown",
   "metadata": {},
   "source": [
    "如上所示，近似方式计算的梯度训练效果也比较好，但是其时间复杂度较高，一次一般不采用这种方法。但是我们可以将其应用到梯度验证上。我们在处理一些比较复杂的损失函数的时候，可以先用近似的方法计算梯度，然后进行训练。再对我们推导出的梯度计算方法进行验证。"
   ]
  },
  {
   "cell_type": "markdown",
   "metadata": {},
   "source": [
    "## 八、总结"
   ]
  },
  {
   "cell_type": "markdown",
   "metadata": {
    "ExecuteTime": {
     "end_time": "2020-12-13T14:36:23.269246Z",
     "start_time": "2020-12-13T14:36:23.264260Z"
    }
   },
   "source": [
    "### （一）梯度下降法分类\n",
    "\n",
    "梯度下降法主要包括：\n",
    "\n",
    "#### 1、批量梯度下降法 （Batch Gradient Descent）\n",
    "- 该种梯度下降法比较稳定，一定能够走向局部最小值，但是时间复杂度较大。\n",
    "    \n",
    "#### 2、随机梯度下降法 （Stochastic Gradient Descent）\n",
    "- 该种梯度下降法由于每次并不是朝着梯度的反方向进行前进，所以不一定能够走到局部最小值，因此不是很稳定，但是时间复杂度较小。\n",
    "    \n",
    "#### 3、小批量梯度下降法 （Mini-Batch Gradient Descent）\n",
    "- 该种梯度下降法是结合了以上两种方法，每次计算“梯度”时考虑k个样本。降低了两者单独呈现的缺点。\n",
    "\n",
    "### （二）随机的力量\n",
    "\n",
    "1、跳出局部最优解\n",
    "\n",
    "2、更快的运行速度\n",
    "\n",
    "3、随机搜索；随机森林"
   ]
  }
 ],
 "metadata": {
  "kernelspec": {
   "display_name": "Python 3",
   "language": "python",
   "name": "python3"
  },
  "language_info": {
   "codemirror_mode": {
    "name": "ipython",
    "version": 3
   },
   "file_extension": ".py",
   "mimetype": "text/x-python",
   "name": "python",
   "nbconvert_exporter": "python",
   "pygments_lexer": "ipython3",
   "version": "3.7.3"
  }
 },
 "nbformat": 4,
 "nbformat_minor": 2
}
