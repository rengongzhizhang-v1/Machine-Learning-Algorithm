{
 "cells": [
  {
   "cell_type": "code",
   "execution_count": 1,
   "metadata": {
    "ExecuteTime": {
     "end_time": "2020-12-05T09:12:07.597097Z",
     "start_time": "2020-12-05T09:12:07.242473Z"
    }
   },
   "outputs": [],
   "source": [
    "import numpy as np\n",
    "import matplotlib.pyplot as plt\n",
    "\n",
    "from IPython.core.interactiveshell import InteractiveShell\n",
    "InteractiveShell.ast_node_interactivity = 'all'\n",
    "\n",
    "plt.rcParams['font.sans-serif']=['SimHei']  # 用来正常显示中文标签\n",
    "plt.rcParams['axes.unicode_minus']=False  # 用来正常显示负号"
   ]
  },
  {
   "cell_type": "markdown",
   "metadata": {},
   "source": [
    "## 一、一元线性回归"
   ]
  },
  {
   "cell_type": "markdown",
   "metadata": {},
   "source": [
    "### （一）基本原理"
   ]
  },
  {
   "cell_type": "code",
   "execution_count": 2,
   "metadata": {
    "ExecuteTime": {
     "end_time": "2020-12-05T09:12:08.081082Z",
     "start_time": "2020-12-05T09:12:07.598087Z"
    },
    "scrolled": false
   },
   "outputs": [
    {
     "data": {
      "text/plain": [
       "<Figure size 576x432 with 0 Axes>"
      ]
     },
     "execution_count": 2,
     "metadata": {},
     "output_type": "execute_result"
    },
    {
     "data": {
      "text/plain": [
       "<matplotlib.collections.PathCollection at 0x1606b04b390>"
      ]
     },
     "execution_count": 2,
     "metadata": {},
     "output_type": "execute_result"
    },
    {
     "data": {
      "text/plain": [
       "[<matplotlib.lines.Line2D at 0x1606adb30b8>]"
      ]
     },
     "execution_count": 2,
     "metadata": {},
     "output_type": "execute_result"
    },
    {
     "data": {
      "text/plain": [
       "<matplotlib.collections.PathCollection at 0x1606b04bb00>"
      ]
     },
     "execution_count": 2,
     "metadata": {},
     "output_type": "execute_result"
    },
    {
     "data": {
      "text/plain": [
       "<matplotlib.collections.PathCollection at 0x1606b04b828>"
      ]
     },
     "execution_count": 2,
     "metadata": {},
     "output_type": "execute_result"
    },
    {
     "data": {
      "text/plain": [
       "[<matplotlib.lines.Line2D at 0x1606abe6550>]"
      ]
     },
     "execution_count": 2,
     "metadata": {},
     "output_type": "execute_result"
    },
    {
     "data": {
      "text/plain": [
       "[<matplotlib.lines.Line2D at 0x1606b04be80>]"
      ]
     },
     "execution_count": 2,
     "metadata": {},
     "output_type": "execute_result"
    },
    {
     "data": {
      "text/plain": [
       "[<matplotlib.lines.Line2D at 0x1606b04bef0>]"
      ]
     },
     "execution_count": 2,
     "metadata": {},
     "output_type": "execute_result"
    },
    {
     "data": {
      "text/plain": [
       "[<matplotlib.lines.Line2D at 0x1606b06a860>]"
      ]
     },
     "execution_count": 2,
     "metadata": {},
     "output_type": "execute_result"
    },
    {
     "data": {
      "text/plain": [
       "(0, 55)"
      ]
     },
     "execution_count": 2,
     "metadata": {},
     "output_type": "execute_result"
    },
    {
     "data": {
      "text/plain": [
       "(0, 110)"
      ]
     },
     "execution_count": 2,
     "metadata": {},
     "output_type": "execute_result"
    },
    {
     "data": {
      "text/plain": [
       "Text(0.5, 0, 'x')"
      ]
     },
     "execution_count": 2,
     "metadata": {},
     "output_type": "execute_result"
    },
    {
     "data": {
      "text/plain": [
       "Text(0, 0.5, 'y')"
      ]
     },
     "execution_count": 2,
     "metadata": {},
     "output_type": "execute_result"
    },
    {
     "data": {
      "text/plain": [
       "Text(-30, 30, '$ y^{(i)} $')"
      ]
     },
     "execution_count": 2,
     "metadata": {},
     "output_type": "execute_result"
    },
    {
     "data": {
      "text/plain": [
       "'\\nmore about plt.annotate: \\nhttps://matplotlib.org/3.3.2/api/_as_gen/matplotlib.pyplot.annotate.html\\nhttps://matplotlib.org/3.1.0/gallery/userdemo/connectionstyle_demo.html\\n'"
      ]
     },
     "execution_count": 2,
     "metadata": {},
     "output_type": "execute_result"
    },
    {
     "data": {
      "text/plain": [
       "Text(-10, -30, '$ \\\\widehat{y}^{(i)}{= ax^{(i)} + b} $')"
      ]
     },
     "execution_count": 2,
     "metadata": {},
     "output_type": "execute_result"
    },
    {
     "data": {
      "image/png": "[encoded data removed]",
      "text/plain": [
       "<Figure size 576x432 with 1 Axes>"
      ]
     },
     "metadata": {
      "needs_background": "light"
     },
     "output_type": "display_data"
    }
   ],
   "source": [
    "# 绘制一元线性回归示意图\n",
    "np.random.seed(400)\n",
    "x = np.random.randint(0,50,100)\n",
    "y_real = 5.0 + 1.5 * x + np.random.normal(loc=0, scale=10, size=100)\n",
    "y_predict = 5.0 + 1.5 * x\n",
    "\n",
    "x_i = x[30]\n",
    "y_i_real = y_real[30]\n",
    "y_i_predict = y_predict[30]\n",
    "\n",
    "plt.figure(figsize=(8,6))\n",
    "\n",
    "plt.scatter(x, y_real, color='steelblue', alpha=0.5) \n",
    "plt.plot(x, y_predict, color='indianred')  \n",
    "\n",
    "plt.scatter(x_i, y_i_real, color='lime', s=100)\n",
    "plt.scatter(x_i, y_i_predict, color='lime', s=100)\n",
    "\n",
    "plt.plot([x_i,x_i], [y_i_real, y_i_predict], color='red', linestyle ='--')\n",
    "plt.plot([x_i,x_i], [y_i_real, 0], color='grey', linestyle =':')\n",
    "plt.plot([0,x_i], [y_i_real, y_i_real], color='grey', linestyle =':')\n",
    "plt.plot([0,x_i], [y_i_predict, y_i_predict], color='grey', linestyle =':')\n",
    "\n",
    "plt.xlim(0,55)\n",
    "plt.ylim(0,110)\n",
    "plt.xlabel('x', size=24)\n",
    "plt.ylabel('y', size=24)\n",
    "\n",
    "# plt.text(x_i+1, y_i_real, r'$ y^{(i)} $',fontsize=16, color='r')\n",
    "# plt.text(x_i+1, y_i_predict-4, r'$ \\widehat{y}^{(i)}{= ax^{(i)} + b} $',fontsize=16, color='r')\n",
    "\n",
    "# 绘制图上的公式与箭头\n",
    "plt.annotate(r'$ y^{(i)} $', xy=(x_i, y_i_real), xycoords='data', xytext=(-30, +30),\n",
    "             textcoords='offset points', fontsize=16,\n",
    "             arrowprops=dict(arrowstyle='->', connectionstyle='arc3, rad=.0'), color='r')\n",
    "\n",
    "'''\n",
    "more about plt.annotate: \n",
    "https://matplotlib.org/3.3.2/api/_as_gen/matplotlib.pyplot.annotate.html\n",
    "https://matplotlib.org/3.1.0/gallery/userdemo/connectionstyle_demo.html\n",
    "'''\n",
    "\n",
    "# 绘制图上的公式与箭头\n",
    "plt.annotate(r'$ \\widehat{y}^{(i)}{= ax^{(i)} + b} $', xy=(x_i, y_i_predict), xycoords='data', xytext=(-10, -30),\n",
    "             textcoords='offset points', fontsize=16,\n",
    "             arrowprops=dict(arrowstyle='->', connectionstyle='arc3, rad=.0'), color='r')\n",
    "\n",
    "# 隐藏上部和右部的坐标轴\n",
    "ax = plt.gca()  # get current axes\n",
    "ax.spines['right'].set_color('none')\n",
    "ax.spines['top'].set_color('none')\n",
    "# ax.spines['bottom'].set_position(('data',0)) \n",
    "# ax.spines['left'].set_position(('data',0)) \n",
    "\n",
    "plt.show()"
   ]
  },
  {
   "cell_type": "markdown",
   "metadata": {},
   "source": [
    "如上图所示，以一元线性回归为例。我们的目的就是寻找一条直线来最大程度地拟合$x$与$y$之间的关系。\n",
    "\n",
    "如何度量我们拟合程度的好坏呢？首先我们从单个样本点A$(x^{(i)}, y^{(i)})$来看。假设我们找到了一条直线$y = ax + b$，那么对于点A，其预测值为\n",
    "\n",
    "$\\widehat{y}^{(i)} = ax^{(i)} + b$，其真值为$y^{(i)}$，则真值与预测值之间的差距可以有以下几种方式表示：\n",
    "\n",
    "（1） $ y^{(i)} - \\widehat{y}^{(i)} $；这种衡量方式，可能会因为正负相互抵消的问题，使得在更多的样本点加入时，总体的差距被相互中和。\n",
    "\n",
    "（2） $ \\mid y^{(i)} - \\widehat{y}^{(i)} \\mid $；这种衡量方式，由于绝对值并不是处处可导，不便于求解最优解。\n",
    "\n",
    "（3） $ (y^{(i)} - \\widehat{y}^{(i)})^2 $；（√）\n",
    "\n",
    "考虑所有样本后，拟合直线和真实样本之间的差距可以表示为：\n",
    "\n",
    "$$ \\sum_{i=1}^{m}(y^{(i)} - \\widehat{y}^{(i)})^2 $$\n",
    "\n",
    "由于$\\widehat{y}^{(i)} = ax^{(i)} + b$，因此上式可以变形为：\n",
    "\n",
    "$$ \\sum_{i=1}^{m}(y^{(i)} - ax^{(i)} - b)^2 $$\n",
    "\n",
    "因此我们的目标就是找到$a$和$b$，使得$ \\sum_{i=1}^{m}(y^{(i)} - ax^{(i)} - b)^2 $尽可能小。令：\n",
    "\n",
    "$$ J(a,b) = \\sum_{i=1}^{m}(y^{(i)} - ax^{(i)} - b)^2 $$\n",
    "\n",
    "我们称$ J(a,b) $ 为损失函数（在有的地方也用$ cost$表示损失函数）。我们的目的就是最优化损失函数（或效用函数），近乎所有参数学习算法都是\n",
    "\n",
    "这样的套路，包括：线性回归、逻辑回归、SVM、神经网络等。\n",
    "\n",
    "最优化$ J(a,b) $，即求解：\n",
    "$$ ①\\ \\ \\frac{\\partial J(a,b)}{\\partial b} = 0 $$\n",
    "\n",
    "$$ ②\\ \\ \\frac{\\partial J(a,b)}{\\partial a} = 0 $$\n",
    "\n",
    "（1）对 $ b $ 求导：\n",
    "\n",
    "$$\n",
    "\\frac{\\partial J(a,b)}{\\partial b} = \\frac{\\partial \\sum_{i=1}^{m}(y^{(i)} - ax^{(i)} - b)^2}{\\partial b} = \\sum_{i=1}^{m}2(y^{(i)} - ax^{(i)} - b)(-1) \\tag{1}\n",
    "$$\n",
    "\n",
    "令 $ (1)式 = 0 $，得：\n",
    "$$\n",
    "\\begin{align}\n",
    "& \\sum_{i=1}^{m}2(y^{(i)} - ax^{(i)} - b)(-1) = 0 \\\\ \n",
    "& \\Longrightarrow \\sum_{i=1}^{m}y^{(i)} - \\sum_{i=1}^{m}ax^{(i)} - \\sum_{i=1}^{m}b = 0 \\\\\n",
    "& \\Longrightarrow \\sum_{i=1}^{m}b = \\sum_{i=1}^{m}y^{(i)} - \\sum_{i=1}^{m}ax^{(i)} \\\\\n",
    "& \\Longrightarrow {m}{b} = (m\\frac{1}{m})\\sum_{i=1}^{m}y^{(i)} - a(m\\frac{1}{m})\\sum_{i=1}^{m}x^{(i)} \\\\\n",
    "& \\Longrightarrow {m}{b} = m(\\frac{1}{m}\\sum_{i=1}^{m}y^{(i)}) - am(\\frac{1}{m}\\sum_{i=1}^{m}x^{(i)}) \\\\\n",
    "& \\Longrightarrow b = \\bar{y} - a\\bar{x}\n",
    "\\end{align}\n",
    "$$\n",
    "\n",
    "（2）对 $ a $ 求导：\n",
    "\n",
    "$$\n",
    "\\frac{\\partial J(a,b)}{\\partial a} = \\frac{\\partial \\sum_{i=1}^{m}(y^{(i)} - ax^{(i)} - b)^2}{\\partial a} = \\sum_{i=1}^{m}2(y^{(i)} - ax^{(i)} - b)(-x^{(i)}) \\tag{2}\n",
    "$$\n",
    "\n",
    "令 $ (2)式 = 0 $，得：\n",
    "$$\n",
    "\\begin{align}\n",
    "& \\sum_{i=1}^{m}2(y^{(i)} - ax^{(i)} - b)(-x^{(i)}) = 0 \\\\\n",
    "& \\Longrightarrow \\sum_{i=1}^{m}(y^{(i)} - ax^{(i)} - b)x^{(i)} = 0 \\\\\n",
    "& \\Longrightarrow \\sum_{i=1}^{m}(x^{(i)}y^{(i)} - a({x^{(i)}})^2 - bx^{(i)}) = 0 \\\\\n",
    "& 由于：b = \\bar{y} - a\\bar{x} \\\\\n",
    "& \\Longrightarrow \\sum_{i=1}^{m}(x^{(i)}y^{(i)} - a({x^{(i)}})^2 - (\\bar{y} - a\\bar{x})x^{(i)}) = 0 \\\\\n",
    "& \\Longrightarrow \\sum_{i=1}^{m}(x^{(i)}y^{(i)} - a({x^{(i)}})^2 - \\bar{y}x^{(i)} + a\\bar{x}x^{(i)}) = 0 \\\\\n",
    "& \\Longrightarrow \\sum_{i=1}^{m}(x^{(i)}y^{(i)} - \\bar{y}x^{(i)}) - \\sum_{i=1}^{m}(a(x^{(i)})^2 - a\\bar{x}x^{(i)}) = 0 \\\\\n",
    "& \\Longrightarrow a\\sum_{i=1}^{m}((x^{(i)})^2 - \\bar{x}x^{(i)}) = \\sum_{i=1}^{m}(x^{(i)}y^{(i)} - \\bar{y}x^{(i)}) \\\\\n",
    "& \\Longrightarrow a = \\frac{①\\sum_{i=1}^{m}(x^{(i)}y^{(i)} - \\bar{y}x^{(i)})}{②\\sum_{i=1}^{m}((x^{(i)})^2 - \\bar{x}x^{(i)})} \\tag{3}  \\\\\n",
    "& 由于： \\\\\n",
    "& (1)\\ \\ \\sum_{i=1}^{m}\\bar{y}x^{(i)} = \\bar{y}\\sum_{i=1}^{m}x^{(i)} = \\frac{1}{m}\\sum_{i=1}^{m}y^{(i)}\\sum_{i=1}^{m}x^{(i)} = \\frac{1}{m}\\sum_{i=1}^{m}x^{(i)}\\sum_{i=1}^{m}y^{(i)} = \\bar{x}\\sum_{i=1}^{m}y^{(i)} = \\sum_{i=1}^{m}\\bar{x}y^{(i)} \\\\\n",
    "& (2)\\ \\ \\sum_{i=1}^{m}\\bar{y}x^{(i)} = \\bar{y}\\sum_{i=1}^{m}x^{(i)} = \\bar{y}m\\frac{1}{m}\\sum_{i=1}^{m}x^{(i)} = \\bar{y}m\\bar{x} = m\\bar{x}\\bar{y} = \\sum_{i=1}^{m}{\\bar{x}\\bar{y}} \\\\\n",
    "& 综上：\\\\\n",
    "& \\sum_{i=1}^{m}\\bar{y}x^{(i)} = \\sum_{i=1}^{m}\\bar{x}y^{(i)} = \\sum_{i=1}^{m}{\\bar{x}\\bar{y}} \\\\\n",
    "& 上式中将y换成x，只是换个符号表示，得：\\sum_{i=1}^{m}\\bar{x}x^{(i)} = \\sum_{i=1}^{m}\\bar{x}x^{(i)} = \\sum_{i=1}^{m}{\\bar{x}\\bar{x}} \\\\\n",
    "& 因此： \\\\\n",
    "& ① 式 = \\sum_{i=1}^{m}(x^{(i)}y^{(i)} - \\bar{y}x^{(i)}) = \\sum_{i=1}^{m}(x^{(i)}y^{(i)} - \\bar{y}x^{(i)} - \\bar{x}y^{(i)} + \\bar{x}\\bar{y}) = \\sum_{i=1}^{m}(x^{(i)} - \\bar{x})(y^{(i)} - \\bar{y}) \\\\\n",
    "& 同理： \\\\\n",
    "& ② 式 = \\sum_{i=1}^{m}((x^{(i)})^2 - \\bar{x}x^{(i)}) = \\sum_{i=1}^{m}(x^{(i)}x^{(i)} - \\bar{x}x^{(i)} - \\bar{x}x^{(i)} + \\bar{x}\\bar{x}) = \\sum_{i=1}^{m}(x^{(i)} - \\bar{x})(x^{(i)} - \\bar{x}) = \\sum_{i=1}^{m}(x^{(i)} - \\bar{x})^2 \\\\\n",
    "& 因此：\\\\\n",
    "& a = \\frac{①\\sum_{i=1}^{m}(x^{(i)}y^{(i)} - \\bar{y}x^{(i)})}{②\\sum_{i=1}^{m}((x^{(i)})^2 - \\bar{x}x^{(i)})} = \\frac{\\sum_{i=1}^{m}(x^{(i)} - \\bar{x})(y^{(i)} - \\bar{y})}{\\sum_{i=1}^{m}(x^{(i)} - \\bar{x})^2}\n",
    "\\end{align}\n",
    "$$\n",
    "\n",
    "（3）综上得，当：\n",
    "$$\n",
    "\\begin{cases}\n",
    "& a = \\frac{\\sum_{i=1}^{m}\\ (x^{(i)} \\ - \\ \\bar{x})(y^{(i)} \\ - \\ \\bar{y})}{\\sum_{i=1}^{m}\\ (x^{(i)} \\ - \\ \\bar{x})^2} \\\\\n",
    "& \\\\\n",
    "& b = \\bar{y} - a\\bar{x}\n",
    "\\end{cases}\n",
    "$$\n",
    "损失函数 $ J(a,b) $ 最优"
   ]
  },
  {
   "cell_type": "markdown",
   "metadata": {},
   "source": [
    "### （二）分步实现"
   ]
  },
  {
   "cell_type": "markdown",
   "metadata": {},
   "source": [
    "#### 1、一般运算方法（for 循环）"
   ]
  },
  {
   "cell_type": "code",
   "execution_count": 3,
   "metadata": {
    "ExecuteTime": {
     "end_time": "2020-12-05T09:12:08.091056Z",
     "start_time": "2020-12-05T09:12:08.082080Z"
    }
   },
   "outputs": [],
   "source": [
    "# 导入数据\n",
    "np.random.seed(400)\n",
    "x = np.random.randint(0,50,100000)\n",
    "y_real = 5.0 + 1.5 * x + np.random.normal(loc=0, scale=10, size=100000)"
   ]
  },
  {
   "cell_type": "code",
   "execution_count": 4,
   "metadata": {
    "ExecuteTime": {
     "end_time": "2020-12-05T09:12:08.099035Z",
     "start_time": "2020-12-05T09:12:08.092053Z"
    }
   },
   "outputs": [
    {
     "data": {
      "text/plain": [
       "24.52164"
      ]
     },
     "execution_count": 4,
     "metadata": {},
     "output_type": "execute_result"
    },
    {
     "data": {
      "text/plain": [
       "41.84596037915356"
      ]
     },
     "execution_count": 4,
     "metadata": {},
     "output_type": "execute_result"
    }
   ],
   "source": [
    "# 计算均值\n",
    "x_mean = np.mean(x)\n",
    "y_real_mean = np.mean(y_real)\n",
    "\n",
    "x_mean\n",
    "y_real_mean"
   ]
  },
  {
   "cell_type": "code",
   "execution_count": 5,
   "metadata": {
    "ExecuteTime": {
     "end_time": "2020-12-05T09:12:08.542411Z",
     "start_time": "2020-12-05T09:12:08.101029Z"
    }
   },
   "outputs": [
    {
     "data": {
      "text/plain": [
       "1.5001597609504345"
      ]
     },
     "execution_count": 5,
     "metadata": {},
     "output_type": "execute_result"
    },
    {
     "data": {
      "text/plain": [
       "5.059582778640944"
      ]
     },
     "execution_count": 5,
     "metadata": {},
     "output_type": "execute_result"
    }
   ],
   "source": [
    "# 计算a，b\n",
    "a_top = 0.0\n",
    "a_buttom = 0.0\n",
    "\n",
    "for x_i, y_real_i in zip(x, y_real):\n",
    "    a_top += (x_i - x_mean) * (y_real_i - y_real_mean)\n",
    "    a_buttom += (x_i - x_mean) ** 2\n",
    "    \n",
    "a = a_top/a_buttom\n",
    "b = y_real_mean - a * x_mean\n",
    "\n",
    "a\n",
    "b\n",
    "\n",
    "y_hat = a * x + b"
   ]
  },
  {
   "cell_type": "code",
   "execution_count": 6,
   "metadata": {
    "ExecuteTime": {
     "end_time": "2020-12-05T09:12:09.565336Z",
     "start_time": "2020-12-05T09:12:08.544406Z"
    }
   },
   "outputs": [
    {
     "data": {
      "text/plain": [
       "<Figure size 432x288 with 0 Axes>"
      ]
     },
     "execution_count": 6,
     "metadata": {},
     "output_type": "execute_result"
    },
    {
     "data": {
      "text/plain": [
       "<matplotlib.collections.PathCollection at 0x1606b1cc3c8>"
      ]
     },
     "execution_count": 6,
     "metadata": {},
     "output_type": "execute_result"
    },
    {
     "data": {
      "text/plain": [
       "[<matplotlib.lines.Line2D at 0x1606b1b4a58>]"
      ]
     },
     "execution_count": 6,
     "metadata": {},
     "output_type": "execute_result"
    },
    {
     "data": {
      "image/png": "[encoded data removed]",
      "text/plain": [
       "<Figure size 432x288 with 1 Axes>"
      ]
     },
     "metadata": {
      "needs_background": "light"
     },
     "output_type": "display_data"
    }
   ],
   "source": [
    "# 绘图\n",
    "plt.figure()\n",
    "\n",
    "plt.scatter(x, y_real, color='steelblue', alpha=0.4)\n",
    "plt.plot(x, y_hat, color='indianred')\n",
    "# plt.plot(x, y_predict, color='lime')\n",
    "\n",
    "plt.show()"
   ]
  },
  {
   "cell_type": "markdown",
   "metadata": {},
   "source": [
    "#### 2、向量化运算（计算更快）"
   ]
  },
  {
   "cell_type": "markdown",
   "metadata": {},
   "source": [
    "#### 知识补充：向量点乘\n",
    "\n",
    "$$\n",
    "向量：\\ \\alpha = [a_1, a_2, a_3, ..., a_n] \\ \\ \\ \\ \\beta = [b_1, b_2, b_3, ...,b_n]\n",
    "$$\n",
    "\n",
    "$$\n",
    "则：\\ \\alpha \\bullet \\beta = {a_1}{b_1} + a_2b_2 + {a_3}{b_3} + ... + {a_n}{b_n} = \\sum_{i=1}^{n}{a_i}{b_i}\n",
    "$$\n",
    "\n",
    "因此：\n",
    "$$\n",
    "\\begin{cases}\n",
    "& a = \\frac{\\sum_{i=1}^{m}\\ (x^{(i)} \\ - \\ \\bar{x})(y^{(i)} \\ - \\ \\bar{y})}{\\sum_{i=1}^{m}\\ (x^{(i)} \\ - \\ \\bar{x})^2} \\\\\n",
    "& \\\\\n",
    "& b = \\bar{y} - a\\bar{x}\n",
    "\\end{cases}\n",
    "$$\n",
    "\n",
    "可以转换成向量点乘运算：\n",
    "$$\n",
    "\\begin{cases}\n",
    "& a = \\frac{(x^{(i)} \\ - \\ \\bar{x}) \\ \\bullet \\ (y^{(i)} \\ - \\ \\bar{y})}{(x^{(i)} \\ - \\ \\bar{x}) \\ \\bullet \\ (x^{(i)} \\ - \\ \\bar{x})} \\\\\n",
    "& \\\\\n",
    "& b = \\bar{y} - a\\bar{x}\n",
    "\\end{cases}\n",
    "$$"
   ]
  },
  {
   "cell_type": "code",
   "execution_count": 7,
   "metadata": {
    "ExecuteTime": {
     "end_time": "2020-12-05T09:12:09.575332Z",
     "start_time": "2020-12-05T09:12:09.566333Z"
    }
   },
   "outputs": [
    {
     "data": {
      "text/plain": [
       "1.5001597609503752"
      ]
     },
     "execution_count": 7,
     "metadata": {},
     "output_type": "execute_result"
    },
    {
     "data": {
      "text/plain": [
       "5.059582778642401"
      ]
     },
     "execution_count": 7,
     "metadata": {},
     "output_type": "execute_result"
    }
   ],
   "source": [
    "a = (x - x_mean).dot(y_real - y_real_mean) / (x - x_mean).dot(x - x_mean)\n",
    "b = y_real_mean - a * x_mean\n",
    "a\n",
    "b"
   ]
  },
  {
   "cell_type": "markdown",
   "metadata": {},
   "source": [
    "### （三）封装"
   ]
  },
  {
   "cell_type": "code",
   "execution_count": 8,
   "metadata": {
    "ExecuteTime": {
     "end_time": "2020-12-05T09:12:09.593789Z",
     "start_time": "2020-12-05T09:12:09.577326Z"
    }
   },
   "outputs": [],
   "source": [
    "import numpy as np\n",
    "\n",
    "# 使用for循环\n",
    "class MY_SimpleLinearRegression_1:\n",
    "    \n",
    "    def __init__(self):\n",
    "        self.a_ = None\n",
    "        self.b_ = None\n",
    "        \n",
    "    def fit(self, x_train, y_train):\n",
    "        assert x_train.ndim == 1, '简单线性回归只拟合一个特征'\n",
    "        assert x_train.shape[0] == y_train.shape[0], 'x和y的长度必须一样'\n",
    "        \n",
    "        x_mean = np.mean(x_train)\n",
    "        y_mean = np.mean(y_train)\n",
    "        \n",
    "        a_top = 0.0\n",
    "        a_buttom = 0.0\n",
    "        for x_i, y_i in zip(x_train, y_train):\n",
    "            a_top += (x_i - x_mean) * (y_i - y_mean)\n",
    "            a_buttom += (x_i - x_mean) ** 2\n",
    "        \n",
    "        self.a_ = a_top / a_buttom\n",
    "        self.b_ = y_mean - self.a_ * x_mean\n",
    "        \n",
    "        return self\n",
    "    \n",
    "    def _predict(self, x_single):\n",
    "        return self.a_ * x_single + self.b_\n",
    "    \n",
    "    def predict(self, x_predict):\n",
    "        assert x_predict.ndim == 1, '简单线性回归只拟合一个特征'\n",
    "        assert self.a_ is not None and self.b_ is not None, '请确保已经进行训练'\n",
    "        \n",
    "        return np.array([self._predict(x) for x in x_predict])\n",
    "    \n",
    "    def __repr__(self):\n",
    "        return 'MY_SimpleLinearRegression_1()'\n",
    "    \n",
    "    \n",
    "# 使用向量点乘\n",
    "class MY_SimpleLinearRegression_2:\n",
    "    \n",
    "    def __init__(self):\n",
    "        self.a_ = None\n",
    "        self.b_ = None\n",
    "        \n",
    "    def fit(self, x_train, y_train):\n",
    "        assert x_train.ndim == 1, '简单线性回归只拟合一个特征'\n",
    "        assert x_train.shape[0] == y_train.shape[0], 'x和y的长度必须一样'\n",
    "        \n",
    "        x_mean = np.mean(x_train)\n",
    "        y_mean = np.mean(y_train)\n",
    "        \n",
    "        self.a_ = (x_train - x_mean).dot(y_train - y_mean) / (x_train - x_mean).dot(x_train - x_mean)\n",
    "        self.b_ = y_mean - self.a_ * x_mean\n",
    "        \n",
    "        return self\n",
    "    \n",
    "    def _predict(self, x_single):\n",
    "        return self.a_ * x_single + self.b_\n",
    "    \n",
    "    def predict(self, x_predict):\n",
    "        assert x_predict.ndim == 1, '简单线性回归只拟合一个特征'\n",
    "        assert self.a_ is not None and self.b_ is not None, '请确保已经进行训练'\n",
    "        \n",
    "        return np.array([self._predict(x) for x in x_predict])\n",
    "    \n",
    "    def __repr__(self):\n",
    "        return 'MY_SimpleLinearRegression_2()'"
   ]
  },
  {
   "cell_type": "code",
   "execution_count": 9,
   "metadata": {
    "ExecuteTime": {
     "end_time": "2020-12-05T09:12:10.084318Z",
     "start_time": "2020-12-05T09:12:09.595784Z"
    }
   },
   "outputs": [
    {
     "data": {
      "text/plain": [
       "MY_SimpleLinearRegression_1()"
      ]
     },
     "execution_count": 9,
     "metadata": {},
     "output_type": "execute_result"
    },
    {
     "data": {
      "text/plain": [
       "1.5001597609504345"
      ]
     },
     "execution_count": 9,
     "metadata": {},
     "output_type": "execute_result"
    },
    {
     "data": {
      "text/plain": [
       "5.059582778640944"
      ]
     },
     "execution_count": 9,
     "metadata": {},
     "output_type": "execute_result"
    }
   ],
   "source": [
    "# 用MY_SimpleLinearRegression_1()拟合\n",
    "my_SLR_1 = MY_SimpleLinearRegression_1()\n",
    "my_SLR_1.fit(x, y_real)\n",
    "\n",
    "my_SLR_1.a_\n",
    "my_SLR_1.b_"
   ]
  },
  {
   "cell_type": "code",
   "execution_count": 10,
   "metadata": {
    "ExecuteTime": {
     "end_time": "2020-12-05T09:12:11.108452Z",
     "start_time": "2020-12-05T09:12:10.085315Z"
    }
   },
   "outputs": [
    {
     "data": {
      "text/plain": [
       "<Figure size 432x288 with 0 Axes>"
      ]
     },
     "execution_count": 10,
     "metadata": {},
     "output_type": "execute_result"
    },
    {
     "data": {
      "text/plain": [
       "<matplotlib.collections.PathCollection at 0x1606c6bf828>"
      ]
     },
     "execution_count": 10,
     "metadata": {},
     "output_type": "execute_result"
    },
    {
     "data": {
      "text/plain": [
       "[<matplotlib.lines.Line2D at 0x1606b1f5d68>]"
      ]
     },
     "execution_count": 10,
     "metadata": {},
     "output_type": "execute_result"
    },
    {
     "data": {
      "image/png": "[encoded data removed]",
      "text/plain": [
       "<Figure size 432x288 with 1 Axes>"
      ]
     },
     "metadata": {
      "needs_background": "light"
     },
     "output_type": "display_data"
    }
   ],
   "source": [
    "# 预测并画图\n",
    "y_predict_1 = my_SLR_1.predict(x)\n",
    "\n",
    "plt.figure()\n",
    "\n",
    "plt.scatter(x, y_real, color='steelblue', alpha=0.4)\n",
    "plt.plot(x, y_predict_1, color='indianred')\n",
    "\n",
    "plt.show()"
   ]
  },
  {
   "cell_type": "code",
   "execution_count": 11,
   "metadata": {
    "ExecuteTime": {
     "end_time": "2020-12-05T09:12:11.120419Z",
     "start_time": "2020-12-05T09:12:11.109450Z"
    }
   },
   "outputs": [
    {
     "data": {
      "text/plain": [
       "MY_SimpleLinearRegression_2()"
      ]
     },
     "execution_count": 11,
     "metadata": {},
     "output_type": "execute_result"
    },
    {
     "data": {
      "text/plain": [
       "1.5001597609503752"
      ]
     },
     "execution_count": 11,
     "metadata": {},
     "output_type": "execute_result"
    },
    {
     "data": {
      "text/plain": [
       "5.059582778642401"
      ]
     },
     "execution_count": 11,
     "metadata": {},
     "output_type": "execute_result"
    }
   ],
   "source": [
    "# 用MY_SimpleLinearRegression_2()拟合\n",
    "my_SLR_2 = MY_SimpleLinearRegression_2()\n",
    "my_SLR_2.fit(x, y_real)\n",
    "\n",
    "my_SLR_2.a_\n",
    "my_SLR_2.b_"
   ]
  },
  {
   "cell_type": "code",
   "execution_count": 12,
   "metadata": {
    "ExecuteTime": {
     "end_time": "2020-12-05T09:12:12.180366Z",
     "start_time": "2020-12-05T09:12:11.122413Z"
    },
    "scrolled": true
   },
   "outputs": [
    {
     "data": {
      "text/plain": [
       "<Figure size 432x288 with 0 Axes>"
      ]
     },
     "execution_count": 12,
     "metadata": {},
     "output_type": "execute_result"
    },
    {
     "data": {
      "text/plain": [
       "<matplotlib.collections.PathCollection at 0x1606cbdd908>"
      ]
     },
     "execution_count": 12,
     "metadata": {},
     "output_type": "execute_result"
    },
    {
     "data": {
      "text/plain": [
       "[<matplotlib.lines.Line2D at 0x1606cbb06d8>]"
      ]
     },
     "execution_count": 12,
     "metadata": {},
     "output_type": "execute_result"
    },
    {
     "data": {
      "image/png": "[encoded data removed]",
      "text/plain": [
       "<Figure size 432x288 with 1 Axes>"
      ]
     },
     "metadata": {
      "needs_background": "light"
     },
     "output_type": "display_data"
    }
   ],
   "source": [
    "# 预测并画图\n",
    "y_predict_2 = my_SLR_2.predict(x)\n",
    "\n",
    "plt.figure()\n",
    "\n",
    "plt.scatter(x, y_real, color='steelblue', alpha=0.4)\n",
    "plt.plot(x, y_predict_2, color='lime')\n",
    "\n",
    "plt.show()"
   ]
  },
  {
   "cell_type": "markdown",
   "metadata": {},
   "source": [
    "### （四）scikit - learn 中的 LinearRegression"
   ]
  },
  {
   "cell_type": "code",
   "execution_count": 13,
   "metadata": {
    "ExecuteTime": {
     "end_time": "2020-12-05T09:12:12.719262Z",
     "start_time": "2020-12-05T09:12:12.181363Z"
    }
   },
   "outputs": [
    {
     "data": {
      "text/plain": [
       "LinearRegression()"
      ]
     },
     "execution_count": 13,
     "metadata": {},
     "output_type": "execute_result"
    },
    {
     "data": {
      "text/plain": [
       "array([[1.50015976]])"
      ]
     },
     "execution_count": 13,
     "metadata": {},
     "output_type": "execute_result"
    },
    {
     "data": {
      "text/plain": [
       "array([5.05958278])"
      ]
     },
     "execution_count": 13,
     "metadata": {},
     "output_type": "execute_result"
    }
   ],
   "source": [
    "from sklearn.linear_model import LinearRegression\n",
    "\n",
    "s_SLR = LinearRegression()\n",
    "s_SLR.fit(x.reshape(-1, 1), y_real.reshape(-1, 1))  # 对于一元线性回归，要记得将特征x转换成一列\n",
    "\n",
    "s_SLR.coef_\n",
    "s_SLR.intercept_"
   ]
  },
  {
   "cell_type": "markdown",
   "metadata": {},
   "source": [
    "## 二、回归算法的评价"
   ]
  },
  {
   "cell_type": "markdown",
   "metadata": {},
   "source": [
    "### （一）基本原理"
   ]
  },
  {
   "cell_type": "markdown",
   "metadata": {},
   "source": [
    "对于线性回归，我们仍然会将样本分为训练集（Train）和测试集（Test），因此我们可以用测试集上的相关指标评价模型的好坏。\n",
    "\n",
    "#### 1、均方误差（Mean Squared Error, MSE）\n",
    "\n",
    "$$\n",
    "MSE = \\frac{1}{m}\\sum_{i=1}^{m}(y_{test}^{(i)} - \\widehat y_{test}^{(i)})^2\n",
    "$$\n",
    "\n",
    "上式之所以要除以$m$，原因在于不同的模型依赖的样本数量可能不一样，导致$ \\sum_{i=1}^{m}(y_{test}^{(i)} - \\widehat y_{test}^{(i)})^2 $ 可能因为样本量的不同，使得不同模型之间差距较大，无法进行比较。例如：模型1测试集只有10个样本，但是$ \\sum_{i=1}^{m}(y_{test}^{(i)} - \\widehat y_{test}^{(i)})^2 $ 为1000，而模型2测试集有100个样本，$ \\sum_{i=1}^{m}(y_{test}^{(i)} - \\widehat y_{test}^{(i)})^2 $ 为3000，很难判断两个模型哪个更好。因此为了避免因为样本量不同导致的这种不可比性，需要将$ \\sum_{i=1}^{m}(y_{test}^{(i)} - \\widehat y_{test}^{(i)})^2 $除以测试集样本量$m$。\n",
    "\n",
    "#### 2、均方根误差（Root Mean Squared Error, RMSE）\n",
    "\n",
    "$MSE$ 公式有一个问题是会改变量纲。因为公式平方了，比如说 $y$ 值的单位是万元，$MSE$ 计算出来的是万元的平方，对于这个值难以解释它的含义。所以为了消除量纲的影响，我们可以对这个 $MSE$ 开方，从而得出 $RMSE$：\n",
    "\n",
    "$$\n",
    "RMSE = \\sqrt {\\frac{1}{m}\\sum_{i=1}^{m}(y_{test}^{(i)} - \\widehat y_{test}^{(i)})^2} = \\sqrt {MSE_{test}}\n",
    "$$\n",
    "\n",
    "#### 3、平均绝对误差（Mean Absolute Error, MAE）\n",
    "\n",
    "$$\n",
    "MAE = \\frac{1}{m}\\sum_{i=1}^{m} \\mid y_{test}^{(i)} - \\widehat y_{test}^{(i)} \\mid\n",
    "$$\n",
    "\n",
    "综上：① $RMSE$ 就是统一量纲后的 $MSE$ ；② 相较于 $MAE$ ，$RMSE$ 放大了差异中较大的部分（因为是先平方再开方），因此我们尽量使 $RMSE$ 较小为佳。\n",
    "\n",
    "#### 4、$R^2$ （R Squared）\n",
    "$MSE$、$RMSE$、$MAE$ 都难以在解决不同问题的模型中有一个统一的评判尺度。例如：对于预测房价的模型，上述指标可能为10000，但是对于预测成绩的模型，上述指标可能就只有10，对于这样的情况，上述指标就无能为力。因此我们引入$R^2（R\\ Squared）$，计算方法如下：\n",
    "\n",
    "$$\n",
    "\\begin{align}\n",
    "& R^2 = \\frac{\\sum_{i=1}^{m}(\\widehat y_{test}^{(i)} - \\bar y_{test})^2}{\\sum_{i=1}^{m}{(y_{test}^{(i)} - \\bar y_{test})^2}} = 1 - \\frac{① \\sum_{i=1}^{m}{(y_{test}^{(i)} - \\widehat y_{test}^{(i)})^2}}{② \\sum_{i=1}^{m}{(y_{test}^{(i)} - \\bar y_{test})^2}}\\\\\n",
    "\\\\\n",
    "其中： & \\\\\n",
    "& \\sum_{i=1}^{m}{(y_{test}^{(i)} - \\bar y_{test})^2} = TSS (总离差平方和：Total \\ Square \\ Sum)&\\\\\n",
    "& \\sum_{i=1}^{m}{(y_{test}^{(i)} - \\widehat y_{test}^{(i)})^2} = RSS (残差平方和：Residual \\ Square \\ Sum)\\\\\n",
    "& \\sum_{i=1}^{m}(\\widehat y_{test}^{(i)} - \\bar y_{test})^2 = ESS (解释平方和：Explain \\ Square \\ Sum) \\\\\n",
    "\\\\\n",
    "& TSS = RSS + ESS \n",
    "\\end{align}\n",
    "$$\n",
    "\n",
    "[证明：TSS = RSS + ESS](https://blog.csdn.net/weixin_43145361/article/details/103546382)\n",
    "\n",
    "上述式子中分子①表示使用我们训练的模型预测与真实值之间的误差，分母②表示使用$ y = \\bar y \\ (Baseline Model)$ 预测与真实值之间的误差。因此$ \\frac{①}{②} $ 就可以理解为：我们训练的模型相对于$ Baseline Model $的相对误差大小，$ 1 - \\frac{①}{②} $ 就表示我们的模型拟合的程度，因此$ R^2 $ 又被称为**拟合优度**。\n",
    "\n",
    "- $ R^2 <= 1 $；\n",
    "- $ R^2 $越大越好。当我们的预测模型不犯任何错时，$ R^2 $ 取最大值1；\n",
    "- 当我们的模型等于基准模型时，$ R^2 $ 为0；\n",
    "- 如果$ R^2 < 0 $ ，说明我们学习到的模型还不如基准模型。此时，很有可能我们的数据不存在任何线性关系。\n",
    "\n",
    "$$\n",
    "R^2 = 1 - \\frac{\\sum_{i=1}^{m}{(y_{test}^{(i)} - \\widehat y_{test}^{(i)})^2}}{\\sum_{i=1}^{m}{(y_{test}^{(i)} - \\bar y_{test})^2}} = 1 - \\frac{(\\sum_{i=1}^{m}{(y_{test}^{(i)} - \\widehat y_{test}^{(i)})^2})/{m}}{(\\sum_{i=1}^{m}{(y_{test}^{(i)} - \\bar y_{test})^2})/{m}} = 1 - \\frac{MSE}{Var} \n",
    "$$\n",
    "\n",
    "\n",
    "<img src = '.\\02_pic1.png' width=600 align='left'>"
   ]
  },
  {
   "cell_type": "code",
   "execution_count": 14,
   "metadata": {
    "ExecuteTime": {
     "end_time": "2020-12-05T09:12:12.728262Z",
     "start_time": "2020-12-05T09:12:12.722770Z"
    },
    "code_folding": [
     0
    ]
   },
   "outputs": [
    {
     "data": {
      "text/plain": [
       "\"\\nnp.random.seed(400)\\nx = np.random.randint(0,50,100)\\ny_real = 5.0 + 1.5 * x + np.random.normal(loc=0, scale=10, size=100)\\ny_predict = 5.0 + 1.5 * x\\n\\nx_i = x[30]\\ny_i_real = y_real[30]\\ny_i_predict = y_predict[30]\\n\\nplt.figure(figsize=(16,12))\\n\\nplt.scatter(x, y_real, color='steelblue', alpha=0.5) \\nplt.plot(x, y_predict, color='indianred')\\nplt.plot([0, 50], [np.mean(y_real), np.mean(y_real)], color='indianred')\\n\\nplt.plot([x_i,x_i], [y_i_real, y_i_predict], color='red', linestyle ='--')\\nplt.plot([x_i,x_i], [y_i_predict, np.mean(y_real)], color='steelblue', linestyle ='--')\\n\\nplt.scatter(x_i, y_i_real, color='lime', s=50)\\nplt.scatter(x_i, y_i_predict, color='lime', s=50)\\nplt.scatter(x_i, np.mean(y_real), color='lime', s=50)\\n\\nplt.xlim(0,51)\\nplt.ylim(0,102)\\n\\nax = plt.gca()  # get current axes\\nax.spines['right'].set_color('none')\\nax.spines['top'].set_color('none')\\n\\nplt.show()\\n\""
      ]
     },
     "execution_count": 14,
     "metadata": {},
     "output_type": "execute_result"
    }
   ],
   "source": [
    "# R2原理绘图\n",
    "'''\n",
    "np.random.seed(400)\n",
    "x = np.random.randint(0,50,100)\n",
    "y_real = 5.0 + 1.5 * x + np.random.normal(loc=0, scale=10, size=100)\n",
    "y_predict = 5.0 + 1.5 * x\n",
    "\n",
    "x_i = x[30]\n",
    "y_i_real = y_real[30]\n",
    "y_i_predict = y_predict[30]\n",
    "\n",
    "plt.figure(figsize=(16,12))\n",
    "\n",
    "plt.scatter(x, y_real, color='steelblue', alpha=0.5) \n",
    "plt.plot(x, y_predict, color='indianred')\n",
    "plt.plot([0, 50], [np.mean(y_real), np.mean(y_real)], color='indianred')\n",
    "\n",
    "plt.plot([x_i,x_i], [y_i_real, y_i_predict], color='red', linestyle ='--')\n",
    "plt.plot([x_i,x_i], [y_i_predict, np.mean(y_real)], color='steelblue', linestyle ='--')\n",
    "\n",
    "plt.scatter(x_i, y_i_real, color='lime', s=50)\n",
    "plt.scatter(x_i, y_i_predict, color='lime', s=50)\n",
    "plt.scatter(x_i, np.mean(y_real), color='lime', s=50)\n",
    "\n",
    "plt.xlim(0,51)\n",
    "plt.ylim(0,102)\n",
    "\n",
    "ax = plt.gca()  # get current axes\n",
    "ax.spines['right'].set_color('none')\n",
    "ax.spines['top'].set_color('none')\n",
    "\n",
    "plt.show()\n",
    "'''"
   ]
  },
  {
   "cell_type": "markdown",
   "metadata": {},
   "source": [
    "### （二）分步实现"
   ]
  },
  {
   "cell_type": "code",
   "execution_count": 15,
   "metadata": {
    "ExecuteTime": {
     "end_time": "2020-12-05T09:12:12.941210Z",
     "start_time": "2020-12-05T09:12:12.730257Z"
    }
   },
   "outputs": [
    {
     "data": {
      "text/plain": [
       "(506,)"
      ]
     },
     "execution_count": 15,
     "metadata": {},
     "output_type": "execute_result"
    },
    {
     "data": {
      "text/plain": [
       "(506,)"
      ]
     },
     "execution_count": 15,
     "metadata": {},
     "output_type": "execute_result"
    },
    {
     "data": {
      "text/plain": [
       "<Figure size 432x288 with 0 Axes>"
      ]
     },
     "execution_count": 15,
     "metadata": {},
     "output_type": "execute_result"
    },
    {
     "data": {
      "text/plain": [
       "<matplotlib.collections.PathCollection at 0x1606e37c3c8>"
      ]
     },
     "execution_count": 15,
     "metadata": {},
     "output_type": "execute_result"
    },
    {
     "data": {
      "image/png": "[encoded data removed]",
      "text/plain": [
       "<Figure size 432x288 with 1 Axes>"
      ]
     },
     "metadata": {
      "needs_background": "light"
     },
     "output_type": "display_data"
    }
   ],
   "source": [
    "# 导入案例数据并绘制图像\n",
    "from sklearn import datasets\n",
    "\n",
    "boston = datasets.load_boston()\n",
    "\n",
    "# print(boston.DESCR)\n",
    "# boston.feature_names\n",
    "\n",
    "x = boston.data[:,5]\n",
    "y = boston.target\n",
    "\n",
    "x.shape\n",
    "y.shape\n",
    "\n",
    "# 绘图\n",
    "plt.figure()\n",
    "plt.scatter(x, y, color='steelblue')\n",
    "plt.show()"
   ]
  },
  {
   "cell_type": "code",
   "execution_count": 16,
   "metadata": {
    "ExecuteTime": {
     "end_time": "2020-12-05T09:12:13.050857Z",
     "start_time": "2020-12-05T09:12:12.942724Z"
    }
   },
   "outputs": [
    {
     "data": {
      "text/plain": [
       "<Figure size 432x288 with 0 Axes>"
      ]
     },
     "execution_count": 16,
     "metadata": {},
     "output_type": "execute_result"
    },
    {
     "data": {
      "text/plain": [
       "<matplotlib.collections.PathCollection at 0x1606e3d2358>"
      ]
     },
     "execution_count": 16,
     "metadata": {},
     "output_type": "execute_result"
    },
    {
     "data": {
      "image/png": "[encoded data removed]",
      "text/plain": [
       "<Figure size 432x288 with 1 Axes>"
      ]
     },
     "metadata": {
      "needs_background": "light"
     },
     "output_type": "display_data"
    }
   ],
   "source": [
    "# 去除天花板值\n",
    "x = x[y < 50.0]\n",
    "y = y[y < 50.0]\n",
    "\n",
    "plt.figure()\n",
    "plt.scatter(x, y, color='steelblue')\n",
    "plt.show()"
   ]
  },
  {
   "cell_type": "code",
   "execution_count": 17,
   "metadata": {
    "ExecuteTime": {
     "end_time": "2020-12-05T09:12:13.061829Z",
     "start_time": "2020-12-05T09:12:13.051854Z"
    }
   },
   "outputs": [
    {
     "data": {
      "text/plain": [
       "(392,)"
      ]
     },
     "execution_count": 17,
     "metadata": {},
     "output_type": "execute_result"
    },
    {
     "data": {
      "text/plain": [
       "(98,)"
      ]
     },
     "execution_count": 17,
     "metadata": {},
     "output_type": "execute_result"
    },
    {
     "data": {
      "text/plain": [
       "(392,)"
      ]
     },
     "execution_count": 17,
     "metadata": {},
     "output_type": "execute_result"
    },
    {
     "data": {
      "text/plain": [
       "(98,)"
      ]
     },
     "execution_count": 17,
     "metadata": {},
     "output_type": "execute_result"
    }
   ],
   "source": [
    "# 切分训练集和测试集\n",
    "from sklearn.model_selection import train_test_split\n",
    "\n",
    "x_train, x_test, y_train, y_test = train_test_split(x, y, test_size = 0.2, random_state = 666)\n",
    "\n",
    "x_train.shape\n",
    "x_test.shape\n",
    "y_train.shape\n",
    "y_test.shape"
   ]
  },
  {
   "cell_type": "code",
   "execution_count": 18,
   "metadata": {
    "ExecuteTime": {
     "end_time": "2020-12-05T09:12:13.184778Z",
     "start_time": "2020-12-05T09:12:13.062910Z"
    },
    "scrolled": false
   },
   "outputs": [
    {
     "data": {
      "text/plain": [
       "MY_SimpleLinearRegression_2()"
      ]
     },
     "execution_count": 18,
     "metadata": {},
     "output_type": "execute_result"
    },
    {
     "data": {
      "text/plain": [
       "7.8608543562689555"
      ]
     },
     "execution_count": 18,
     "metadata": {},
     "output_type": "execute_result"
    },
    {
     "data": {
      "text/plain": [
       "-27.459342806705543"
      ]
     },
     "execution_count": 18,
     "metadata": {},
     "output_type": "execute_result"
    },
    {
     "data": {
      "text/plain": [
       "<Figure size 432x288 with 0 Axes>"
      ]
     },
     "execution_count": 18,
     "metadata": {},
     "output_type": "execute_result"
    },
    {
     "data": {
      "text/plain": [
       "[<matplotlib.lines.Line2D at 0x1606e4312b0>]"
      ]
     },
     "execution_count": 18,
     "metadata": {},
     "output_type": "execute_result"
    },
    {
     "data": {
      "text/plain": [
       "<matplotlib.collections.PathCollection at 0x1606cbb83c8>"
      ]
     },
     "execution_count": 18,
     "metadata": {},
     "output_type": "execute_result"
    },
    {
     "data": {
      "image/png": "[encoded data removed]",
      "text/plain": [
       "<Figure size 432x288 with 1 Axes>"
      ]
     },
     "metadata": {
      "needs_background": "light"
     },
     "output_type": "display_data"
    }
   ],
   "source": [
    "my_SLR_2 = MY_SimpleLinearRegression_2()\n",
    "my_SLR_2.fit(x_train, y_train)\n",
    "\n",
    "my_SLR_2.a_\n",
    "my_SLR_2.b_\n",
    "\n",
    "y_train_predict = my_SLR_2.predict(x_train)\n",
    "\n",
    "plt.figure()\n",
    "plt.plot(x_train, y_train_predict, color='indianred')\n",
    "plt.scatter(x_train, y_train, color='steelblue')\n",
    "plt.show()"
   ]
  },
  {
   "cell_type": "markdown",
   "metadata": {},
   "source": [
    "#### 1、MSE"
   ]
  },
  {
   "cell_type": "code",
   "execution_count": 19,
   "metadata": {
    "ExecuteTime": {
     "end_time": "2020-12-05T09:12:13.191759Z",
     "start_time": "2020-12-05T09:12:13.186772Z"
    }
   },
   "outputs": [
    {
     "data": {
      "text/plain": [
       "24.156602134387438"
      ]
     },
     "execution_count": 19,
     "metadata": {},
     "output_type": "execute_result"
    }
   ],
   "source": [
    "y_test_predict = my_SLR_2.predict(x_test)\n",
    "mse_test = np.sum((y_test - y_test_predict) ** 2) / len(y_test)\n",
    "mse_test"
   ]
  },
  {
   "cell_type": "markdown",
   "metadata": {},
   "source": [
    "#### 2、RMSE"
   ]
  },
  {
   "cell_type": "code",
   "execution_count": 20,
   "metadata": {
    "ExecuteTime": {
     "end_time": "2020-12-05T09:12:13.198740Z",
     "start_time": "2020-12-05T09:12:13.193754Z"
    }
   },
   "outputs": [
    {
     "data": {
      "text/plain": [
       "4.914936635846635"
      ]
     },
     "execution_count": 20,
     "metadata": {},
     "output_type": "execute_result"
    }
   ],
   "source": [
    "rmse_test = np.sqrt(np.sum((y_test - y_test_predict) ** 2) / len(y_test))\n",
    "rmse_test"
   ]
  },
  {
   "cell_type": "markdown",
   "metadata": {},
   "source": [
    "#### 3、MAE"
   ]
  },
  {
   "cell_type": "code",
   "execution_count": 21,
   "metadata": {
    "ExecuteTime": {
     "end_time": "2020-12-05T09:12:13.204216Z",
     "start_time": "2020-12-05T09:12:13.199737Z"
    }
   },
   "outputs": [
    {
     "data": {
      "text/plain": [
       "3.5430974409463873"
      ]
     },
     "execution_count": 21,
     "metadata": {},
     "output_type": "execute_result"
    }
   ],
   "source": [
    "mae_test = np.sum(np.abs(y_test - y_test_predict)) / len(y_test)\n",
    "mae_test"
   ]
  },
  {
   "cell_type": "markdown",
   "metadata": {},
   "source": [
    "#### 4、$R^2$"
   ]
  },
  {
   "cell_type": "code",
   "execution_count": 22,
   "metadata": {
    "ExecuteTime": {
     "end_time": "2020-12-05T09:12:13.214841Z",
     "start_time": "2020-12-05T09:12:13.206182Z"
    }
   },
   "outputs": [
    {
     "data": {
      "text/plain": [
       "0.6129316803937324"
      ]
     },
     "execution_count": 22,
     "metadata": {},
     "output_type": "execute_result"
    },
    {
     "data": {
      "text/plain": [
       "0.6129316803937322"
      ]
     },
     "execution_count": 22,
     "metadata": {},
     "output_type": "execute_result"
    }
   ],
   "source": [
    "R2_1 = 1 - np.sum((y_test - y_test_predict) ** 2) / (y_test - np.mean(y_test)).dot(y_test - np.mean(y_test))\n",
    "R2_1\n",
    "\n",
    "R2_2 = 1 - (np.sum((y_test - y_test_predict) ** 2)/len(y_test)) / np.var(y_test)\n",
    "R2_2"
   ]
  },
  {
   "cell_type": "markdown",
   "metadata": {},
   "source": [
    "### （三）封装"
   ]
  },
  {
   "cell_type": "code",
   "execution_count": 23,
   "metadata": {
    "ExecuteTime": {
     "end_time": "2020-12-05T09:12:13.222820Z",
     "start_time": "2020-12-05T09:12:13.215838Z"
    }
   },
   "outputs": [],
   "source": [
    "def mean_squared_error(y_true, y_predict):\n",
    "    '计算MSE'\n",
    "    assert len(y_true) == len(y_predict), 'y_true 和 y_predict要等长'\n",
    "    \n",
    "    return np.sum((y_true - y_predict) ** 2) / len(y_true)\n",
    "\n",
    "\n",
    "def root_mean_squared_error(y_true, y_predict):\n",
    "    '计算RMSE'\n",
    "    \n",
    "    return np.sqrt(mean_squared_error(y_true, y_predict))\n",
    "\n",
    "\n",
    "def mean_absolute_error(y_true, y_predict):\n",
    "    '计算MAE'\n",
    "    \n",
    "    return np.sum(np.abs(y_true - y_predict)) / len(y_true)\n",
    "\n",
    "def r2_score(y_true, y_predict):\n",
    "    '计算R2'\n",
    "    \n",
    "    return 1 - mean_squared_error(y_true, y_predict) / np.var(y_true)"
   ]
  },
  {
   "cell_type": "code",
   "execution_count": 24,
   "metadata": {
    "ExecuteTime": {
     "end_time": "2020-12-05T09:12:13.233790Z",
     "start_time": "2020-12-05T09:12:13.223817Z"
    }
   },
   "outputs": [
    {
     "data": {
      "text/plain": [
       "24.156602134387438"
      ]
     },
     "execution_count": 24,
     "metadata": {},
     "output_type": "execute_result"
    },
    {
     "data": {
      "text/plain": [
       "4.914936635846635"
      ]
     },
     "execution_count": 24,
     "metadata": {},
     "output_type": "execute_result"
    },
    {
     "data": {
      "text/plain": [
       "3.5430974409463873"
      ]
     },
     "execution_count": 24,
     "metadata": {},
     "output_type": "execute_result"
    },
    {
     "data": {
      "text/plain": [
       "0.6129316803937322"
      ]
     },
     "execution_count": 24,
     "metadata": {},
     "output_type": "execute_result"
    }
   ],
   "source": [
    "mean_squared_error(y_test, y_test_predict)\n",
    "root_mean_squared_error(y_test, y_test_predict)\n",
    "mean_absolute_error(y_test, y_test_predict)\n",
    "r2_score(y_test, y_test_predict)"
   ]
  },
  {
   "cell_type": "markdown",
   "metadata": {},
   "source": [
    "### （四）scikit - learn 中的 $MSE$、$MAE$、$R^2$"
   ]
  },
  {
   "cell_type": "code",
   "execution_count": 25,
   "metadata": {
    "ExecuteTime": {
     "end_time": "2020-12-05T09:12:13.243764Z",
     "start_time": "2020-12-05T09:12:13.234787Z"
    }
   },
   "outputs": [
    {
     "data": {
      "text/plain": [
       "24.156602134387438"
      ]
     },
     "execution_count": 25,
     "metadata": {},
     "output_type": "execute_result"
    },
    {
     "data": {
      "text/plain": [
       "3.5430974409463873"
      ]
     },
     "execution_count": 25,
     "metadata": {},
     "output_type": "execute_result"
    },
    {
     "data": {
      "text/plain": [
       "0.6129316803937324"
      ]
     },
     "execution_count": 25,
     "metadata": {},
     "output_type": "execute_result"
    }
   ],
   "source": [
    "from sklearn.metrics import mean_squared_error as s_mean_squared_error\n",
    "from sklearn.metrics import mean_absolute_error as s_mean_absolute_error\n",
    "from sklearn.metrics import r2_score as s_r2_score\n",
    "\n",
    "s_mean_squared_error(y_test, y_test_predict)\n",
    "s_mean_absolute_error(y_test, y_test_predict)\n",
    "s_r2_score(y_test, y_test_predict)"
   ]
  },
  {
   "cell_type": "markdown",
   "metadata": {},
   "source": [
    "## 三、多元线性回归"
   ]
  },
  {
   "cell_type": "markdown",
   "metadata": {},
   "source": [
    "### （一）基本原理"
   ]
  },
  {
   "cell_type": "markdown",
   "metadata": {},
   "source": [
    "类比一元线性回归，多元线性回归要解决的问题就是找到一条**高维**直线，尽量拟合高维度下的 $y$ 与 $x(x_1,x_2,...,x_n)$ 之间的关系。即找到一条高维直线：\n",
    "\n",
    "$$\n",
    "y = \\theta_0{x_0} + \\theta_1{x_1} + \\theta_2{x_2} + ... + \\theta_n{x_n}\\ ,\\color {#F00} {\\ x_0 \\equiv 1}\n",
    "$$\n",
    "\n",
    "现在假设我们已经找到这样一条直线，那么对于一个观测点 $A（x_1^{(i)}, x_2^{(i)}, ..., x_n^{(i)}, y^{(i)}）$，其预测值为：$ \\widehat{y}^{(i)} = \\theta_0{x_0^{(i)}} + \\theta_1{x_1^{(i)}} + \\theta_2{x_2^{(i)}} + ... + \\theta_n{x_n^{(i)}}$。真值 $y^{(i)}$ 与预测值 $\\widehat{y}^{(i)}$ 之间的差距我们可以表示为：$ (y^{(i)} - \\widehat{y}^{(i)})^2 $。考虑所有样本($m$个样本，$n$个特征，$m\\times n$)，则拟合直线与真实样本之间的差距可以表示为：\n",
    "\n",
    "$$ J(\\theta) = \\sum_{i=1}^{m}(y^{(i)} - \\widehat{y}^{(i)})^2 = \\sum_{i=1}^{m}(y^{(i)} - (\\theta_0{x_0^{(i)}} + \\theta_1{x_1^{(i)}} + \\theta_2{x_2^{(i)}} + ... + \\theta_n{x_n^{(i)}}))^2 $$\n",
    "\n",
    "因此我们的目标仍然是最优化损失函数 $J(\\theta)$，找到一组参数 $\\theta(\\theta_0, \\theta_1, \\theta_2, ... \\theta_n)$ 使得 $J(\\theta)$ 最小。\n",
    "\n",
    "我们分别对 $\\theta_0, \\theta_1, \\theta_2, ... \\theta_n$ 求导，并令其等于0，得：\n",
    "\n",
    "$$\n",
    "\\begin{cases}\n",
    "\\frac {\\partial J(\\theta)}{\\partial \\theta_0} = \\sum_{i=1}^{m}2{(y^{(i)} - (\\theta_0{x_0^{(i)}} + \\theta_1{x_1^{(i)}} + \\theta_2{x_2^{(i)}} + ... + \\theta_n{x_n^{(i)}}))}(-x_0^{(i)}) &= 0\n",
    "\\\\\n",
    "\\\\\n",
    "\\frac {\\partial J(\\theta)}{\\partial \\theta_1} = \\sum_{i=1}^{m}2{(y^{(i)} - (\\theta_0{x_0^{(i)}} + \\theta_1{x_1^{(i)}} + \\theta_2{x_2^{(i)}} + ... + \\theta_n{x_n^{(i)}}))}(-x_1^{(i)}) &= 0\n",
    "\\\\\n",
    "\\\\\n",
    "\\frac {\\partial J(\\theta)}{\\partial \\theta_2} = \\sum_{i=1}^{m}2{(y^{(i)} - (\\theta_0{x_0^{(i)}} + \\theta_1{x_1^{(i)}} + \\theta_2{x_2^{(i)}} + ... + \\theta_n{x_n^{(i)}}))}(-x_2^{(i)}) &= 0\n",
    "\\\\\n",
    "\\\\\n",
    "\\ \\ \\ \\ \\ \\ ...\n",
    "\\\\\n",
    "\\\\\n",
    "\\frac {\\partial J(\\theta)}{\\partial \\theta_n} = \\sum_{i=1}^{m}2{(y^{(i)} - (\\theta_0{x_0^{(i)}} + \\theta_1{x_1^{(i)}} + \\theta_2{x_2^{(i)}} + ... + \\theta_n{x_n^{(i)}}))}(-x_n^{(i)}) &= 0 \n",
    "\\end{cases}\n",
    "$$\n",
    "\n",
    "$$\n",
    "\\Downarrow\n",
    "$$\n",
    "\n",
    "$$\n",
    "\\begin{cases}\n",
    "\\sum_{i=1}^{m}{(y^{(i)} - (\\theta_0{x_0^{(i)}} + \\theta_1{x_1^{(i)}} + \\theta_2{x_2^{(i)}} + ... + \\theta_n{x_n^{(i)}}))}(x_0^{(i)}) &= 0\n",
    "\\\\\n",
    "\\\\\n",
    "\\sum_{i=1}^{m}{(y^{(i)} - (\\theta_0{x_0^{(i)}} + \\theta_1{x_1^{(i)}} + \\theta_2{x_2^{(i)}} + ... + \\theta_n{x_n^{(i)}}))}(x_1^{(i)}) &= 0\n",
    "\\\\\n",
    "\\\\\n",
    "\\sum_{i=1}^{m}{(y^{(i)} - (\\theta_0{x_0^{(i)}} + \\theta_1{x_1^{(i)}} + \\theta_2{x_2^{(i)}} + ... + \\theta_n{x_n^{(i)}}))}(x_2^{(i)}) &= 0\n",
    "\\\\\n",
    "\\\\\n",
    "\\ \\ \\ \\ \\ \\ ...\n",
    "\\\\\n",
    "\\\\\n",
    "\\sum_{i=1}^{m}{(y^{(i)} - (\\theta_0{x_0^{(i)}} + \\theta_1{x_1^{(i)}} + \\theta_2{x_2^{(i)}} + ... + \\theta_n{x_n^{(i)}}))}(x_n^{(i)}) &= 0 \n",
    "\\end{cases}\n",
    "$$\n",
    "\n",
    "$$\n",
    "\\Downarrow\n",
    "$$\n",
    "\n",
    "$$\n",
    "\\begin{cases}\n",
    "\\sum_{i=1}^{m}{x_0^{(i)}}{(y^{(i)})} &= \\sum_{i=1}^{m}{(\\theta_0{x_0^{(i)}} + \\theta_1{x_1^{(i)}} + \\theta_2{x_2^{(i)}} + ... + \\theta_n{x_n^{(i)}}))}(x_0^{(i)})\n",
    "\\\\\n",
    "\\\\\n",
    "\\sum_{i=1}^{m}{x_1^{(i)}}{(y^{(i)})} &= \\sum_{i=1}^{m}{(\\theta_0{x_0^{(i)}} + \\theta_1{x_1^{(i)}} + \\theta_2{x_2^{(i)}} + ... + \\theta_n{x_n^{(i)}}))}(x_1^{(i)})\n",
    "\\\\\n",
    "\\\\\n",
    "\\sum_{i=1}^{m}{x_2^{(i)}}{(y^{(i)})} &= \\sum_{i=1}^{m}{(\\theta_0{x_0^{(i)}} + \\theta_1{x_1^{(i)}} + \\theta_2{x_2^{(i)}} + ... + \\theta_n{x_n^{(i)}}))}(x_2^{(i)})\n",
    "\\\\\n",
    "\\\\\n",
    "\\ \\ \\ \\ \\ \\ ...\n",
    "\\\\\n",
    "\\\\\n",
    "\\sum_{i=1}^{m}{x_n^{(i)}}{(y^{(i)})} &= \\sum_{i=1}^{m}{(\\theta_0{x_0^{(i)}} + \\theta_1{x_1^{(i)}} + \\theta_2{x_2^{(i)}} + ... + \\theta_n{x_n^{(i)}}))}(x_n^{(i)}) \\tag{1}\n",
    "\\end{cases}\n",
    "$$\n",
    "\n",
    "\n",
    "因此，我们只需求解方程组 $(1)$ ，即可得出参数 $ \\theta(\\theta_0, \\theta_1, \\theta_2, ..., \\theta_n)$\n",
    "\n",
    "将方程组 $(1)$ 转换成矩阵，如下：\n",
    "\n",
    "$(1)$式**左侧**可以写成：\n",
    "\n",
    "$$\n",
    "\\begin{cases}\n",
    "y^{(1)}x_0^{(1)} + y^{(2)}x_0^{(2)} + ... + y^{(m)}x_0^{(m)} \n",
    "\\\\\n",
    "\\\\\n",
    "y^{(1)}x_1^{(1)} + y^{(2)}x_1^{(2)} + ... + y^{(m)}x_1^{(m)} \n",
    "\\\\\n",
    "\\\\\n",
    "y^{(1)}x_2^{(1)} + y^{(2)}x_2^{(2)} + ... + y^{(m)}x_2^{(m)} \n",
    "\\\\\n",
    "\\\\\n",
    "\\ \\ \\ \\ \\ \\ ...\n",
    "\\\\\n",
    "\\\\\n",
    "y^{(1)}x_n^{(1)} + y^{(2)}x_n^{(2)} + ... + y^{(m)}x_n^{(m)} \n",
    "\\end{cases}\n",
    "$$\n",
    "\n",
    "矩阵化：\n",
    "\n",
    "$$\n",
    "\\begin{pmatrix}\n",
    "x_0^{(1)} & x_0^{(2)} & x_0^{(3)} & \\cdots & x_0^{(m)} \\\\\n",
    "x_1^{(1)} & x_1^{(2)} & x_1^{(3)} & \\cdots & x_1^{(m)} \\\\\n",
    "x_2^{(1)} & x_2^{(2)} & x_2^{(3)} & \\cdots & x_2^{(m)} \\\\\n",
    "\\vdots & \\vdots & \\vdots & \\ddots & \\vdots \\\\\n",
    "x_n^{(1)} & x_n^{(2)} & x_n^{(3)} & \\cdots & x_n^{(m)} \\\\\n",
    "\\end{pmatrix}\n",
    "_{(n+1) \\times m}\n",
    "\\times\n",
    "\\begin{pmatrix}\n",
    "y^{(1)} \\\\\n",
    "y^{(2)} \\\\\n",
    "y^{(3)} \\\\\n",
    "\\vdots  \\\\\n",
    "y^{(m)} \\\\\n",
    "\\end{pmatrix}\n",
    "_{m \\times 1}\n",
    "\\tag{2}\n",
    "$$\n",
    "\n",
    "$(1)$式**右侧**可以写成：\n",
    "\n",
    "$$\n",
    "\\begin{cases}\n",
    "\\sum_{i=1}^{m}{\\color{#F00}{\\theta_0}{x_0^{(i)}x_0^{(i)}} + \\sum_{i=1}^{m}{\\color{#F00}{\\theta_1}x_0^{(i)}x_1^{(i)}} + \\sum_{i=1}^{m}{\\color{#F00}{\\theta_2}x_0^{(i)}x_2^{(i)}} + ... + \\sum_{i=1}^{m}{\\color{#F00}{\\theta_n}x_0^{(i)}x_n^{(i)}}}\n",
    "\\\\\n",
    "\\\\\n",
    "\\sum_{i=1}^{m}{\\color{#F00}{\\theta_0}{x_1^{(i)}x_0^{(i)}} + \\sum_{i=1}^{m}{\\color{#F00}{\\theta_1}x_1^{(i)}x_1^{(i)}} + \\sum_{i=1}^{m}{\\color{#F00}{\\theta_2}x_1^{(i)}x_2^{(i)}} + ... + \\sum_{i=1}^{m}{\\color{#F00}{\\theta_n}x_1^{(i)}x_n^{(i)}}}\n",
    "\\\\\n",
    "\\\\\n",
    "\\sum_{i=1}^{m}{\\color{#F00}{\\theta_0}{x_2^{(i)}x_0^{(i)}} + \\sum_{i=1}^{m}{\\color{#F00}{\\theta_1}x_2^{(i)}x_1^{(i)}} + \\sum_{i=1}^{m}{\\color{#F00}{\\theta_2}x_2^{(i)}x_2^{(i)}} + ... + \\sum_{i=1}^{m}{\\color{#F00}{\\theta_n}x_2^{(i)}x_n^{(i)}}}\n",
    "\\\\\n",
    "\\\\\n",
    "\\ \\ \\ \\ \\ \\ ...\n",
    "\\\\\n",
    "\\\\\n",
    "\\sum_{i=1}^{m}{\\color{#F00}{\\theta_0}{x_n^{(i)}x_0^{(i)}} + \\sum_{i=1}^{m}{\\color{#F00}{\\theta_1}x_n^{(i)}x_1^{(i)}} + \\sum_{i=1}^{m}{\\color{#F00}{\\theta_2}x_n^{(i)}x_2^{(i)}} + ... + \\sum_{i=1}^{m}{\\color{#F00}{\\theta_n}x_n^{(i)}x_n^{(i)}}}\n",
    "\\end{cases}\n",
    "$$\n",
    "\n",
    "矩阵化：\n",
    "\n",
    "$$\n",
    "\\begin{pmatrix}\n",
    "\\sum_{i=1}^{m}{x_0^{(i)}x_0^{(i)}} & \\sum_{i=1}^{m}{x_0^{(i)}x_1^{(i)}} & \\sum_{i=1}^{m}{x_0^{(i)}x_2^{(i)}}  & \\cdots & \\sum_{i=1}^{m}{x_0^{(i)}x_n^{(i)}} \\\\\n",
    "\\sum_{i=1}^{m}{x_1^{(i)}x_0^{(i)}} & \\sum_{i=1}^{m}{x_1^{(i)}x_1^{(i)}} & \\sum_{i=1}^{m}{x_1^{(i)}x_2^{(i)}}  & \\cdots & \\sum_{i=1}^{m}{x_1^{(i)}x_n^{(i)}}\\\\\n",
    "\\sum_{i=1}^{m}{x_2^{(i)}x_0^{(i)}} & \\sum_{i=1}^{m}{x_2^{(i)}x_1^{(i)}} & \\sum_{i=1}^{m}{x_2^{(i)}x_2^{(i)}}  & \\cdots & \\sum_{i=1}^{m}{x_2^{(i)}x_n^{(i)}}\\\\\n",
    "\\vdots & \\vdots & \\vdots & \\ddots & \\vdots \\\\\n",
    "\\sum_{i=1}^{m}{x_n^{(i)}x_0^{(i)}} & \\sum_{i=1}^{m}{x_n^{(i)}x_1^{(i)}} & \\sum_{i=1}^{m}{x_n^{(i)}x_2^{(i)}}  & \\cdots & \\sum_{i=1}^{m}{x_n^{(i)}x_n^{(i)}} \\\\\n",
    "\\end{pmatrix}\n",
    "_{(n+1) \\times (n+1)}\n",
    "\\times\n",
    "\\begin{pmatrix}\n",
    "\\color{#F00}{\\theta_0} \\\\\n",
    "\\color{#F00}{\\theta_1} \\\\\n",
    "\\color{#F00}{\\theta_2} \\\\\n",
    "\\vdots  \\\\\n",
    "\\color{#F00}{\\theta_n} \\\\\n",
    "\\end{pmatrix}\n",
    "_{(n+1) \\times 1}\n",
    "$$\n",
    "\n",
    "$$\n",
    "\\Downarrow\n",
    "$$\n",
    "\n",
    "$$\n",
    "\\begin{pmatrix}\n",
    "x_0^{(1)} & x_0^{(2)} & x_0^{(3)} & \\cdots & x_0^{(m)} \\\\\n",
    "x_1^{(1)} & x_1^{(2)} & x_1^{(3)} & \\cdots & x_1^{(m)} \\\\\n",
    "x_2^{(1)} & x_2^{(2)} & x_2^{(3)} & \\cdots & x_2^{(m)} \\\\\n",
    "\\vdots & \\vdots & \\vdots & \\ddots & \\vdots \\\\\n",
    "x_n^{(1)} & x_n^{(2)} & x_n^{(3)} & \\cdots & x_n^{(m)} \\\\\n",
    "\\end{pmatrix}\n",
    "_{(n+1) \\times m}\n",
    "\\times\n",
    "\\begin{pmatrix}\n",
    "x_0^{(1)} & x_1^{(1)} & x_2^{(1)} & \\cdots & x_n^{(1)} \\\\\n",
    "x_0^{(2)} & x_1^{(2)} & x_2^{(2)} & \\cdots & x_n^{(2)} \\\\\n",
    "x_0^{(3)} & x_1^{(3)} & x_2^{(3)} & \\cdots & x_n^{(3)} \\\\\n",
    "\\vdots & \\vdots & \\vdots & \\ddots & \\vdots \\\\\n",
    "x_0^{(m)} & x_1^{(m)} & x_2^{(m)} & \\cdots & x_n^{(m)} \\\\\n",
    "\\end{pmatrix}\n",
    "_{m \\times (n+1)}\n",
    "\\times\n",
    "\\begin{pmatrix}\n",
    "\\color{#F00}{\\theta_0} \\\\\n",
    "\\color{#F00}{\\theta_1} \\\\\n",
    "\\color{#F00}{\\theta_2} \\\\\n",
    "\\vdots  \\\\\n",
    "\\color{#F00}{\\theta_n} \\\\\n",
    "\\end{pmatrix}\n",
    "_{(n+1) \\times 1}\n",
    "\\tag{3}\n",
    "$$\n",
    "\n",
    "因此，方程组 $(1)$ 写成矩阵形式为 $(2) \\ = \\ (3)$，如下：\n",
    "\n",
    "令：\n",
    "$$\n",
    "X \\ = \\ \n",
    "\\begin{pmatrix}\n",
    "x_0^{(1)} & x_1^{(1)} & x_2^{(1)} & \\cdots & x_n^{(1)} \\\\\n",
    "x_0^{(2)} & x_1^{(2)} & x_2^{(2)} & \\cdots & x_n^{(2)} \\\\\n",
    "x_0^{(3)} & x_1^{(3)} & x_2^{(3)} & \\cdots & x_n^{(3)} \\\\\n",
    "\\vdots & \\vdots & \\vdots & \\ddots & \\vdots \\\\\n",
    "x_0^{(m)} & x_1^{(m)} & x_2^{(m)} & \\cdots & x_n^{(m)} \\\\\n",
    "\\end{pmatrix}\n",
    "_{m \\times (n+1)}\n",
    "\\ \\ \\ \n",
    "y \\ = \\ \n",
    "\\begin{pmatrix}\n",
    "y^{(1)} \\\\\n",
    "y^{(2)} \\\\\n",
    "y^{(3)} \\\\\n",
    "\\vdots  \\\\\n",
    "y^{(m)} \\\\\n",
    "\\end{pmatrix}\n",
    "_{m \\times 1}\n",
    "\\ \\ \\ \n",
    "\\theta \\ = \\ \n",
    "\\begin{pmatrix}\n",
    "\\color{#F00}{\\theta_0} \\\\\n",
    "\\color{#F00}{\\theta_1} \\\\\n",
    "\\color{#F00}{\\theta_2} \\\\\n",
    "\\vdots  \\\\\n",
    "\\color{#F00}{\\theta_n} \\\\\n",
    "\\end{pmatrix}\n",
    "_{(n+1) \\times 1}\n",
    "$$\n",
    "\n",
    "则，正规方程组可以表示为：\n",
    "\n",
    "$$\n",
    "{X^T}{X}{\\theta} = {X^T}{y} \n",
    "$$\n",
    "\n",
    "经矩阵运算，得：\n",
    "$$ \n",
    "{X^T}{X}{\\theta} = {X^T}{y} \\Longrightarrow ({X^T}{X})^{-1}({X^T}{X}){\\theta} = ({X^T}{X})^{-1}{X^T}{y} \\Longrightarrow {\\theta} = ({X^T}{X})^{-1}{X^T}{y}\n",
    "$$\n",
    "\n",
    "因此，正规方程组的解为：\n",
    "\n",
    "$$\n",
    "\\color {#F00}{{\\theta} = ({X^T}{X})^{-1}{X^T}{y}}\n",
    "$$\n",
    "\n",
    "我们通过求解正规方程的方法，就可以求出最优参数。该方法不需要对数据进行归一化处理，因为参数 $\\theta$ 是直接通过原始数据计算而来。但是该方法时间复杂度较高（需要 $O(n^3)$，即使优化后也需要$O(n^{2.4})$；$n$可能是行数，也可能是列数，只要行数或列数其中一个较大，时间复杂度就较高）"
   ]
  },
  {
   "cell_type": "markdown",
   "metadata": {},
   "source": [
    "### （二）分步实现"
   ]
  },
  {
   "cell_type": "code",
   "execution_count": 32,
   "metadata": {
    "ExecuteTime": {
     "end_time": "2020-12-05T09:17:21.353815Z",
     "start_time": "2020-12-05T09:17:21.340892Z"
    }
   },
   "outputs": [
    {
     "data": {
      "text/plain": [
       "(490, 13)"
      ]
     },
     "execution_count": 32,
     "metadata": {},
     "output_type": "execute_result"
    },
    {
     "data": {
      "text/plain": [
       "(490,)"
      ]
     },
     "execution_count": 32,
     "metadata": {},
     "output_type": "execute_result"
    }
   ],
   "source": [
    "# 导入波士顿房价数据\n",
    "from sklearn import datasets\n",
    "\n",
    "boston = datasets.load_boston()\n",
    "\n",
    "# print(boston.DESCR)\n",
    "# boston.feature_names\n",
    "\n",
    "X = boston.data\n",
    "y = boston.target\n",
    "\n",
    "# 去除天花板值\n",
    "X = X[y < 50.0]\n",
    "y = y[y < 50.0]\n",
    "\n",
    "X.shape\n",
    "y.shape"
   ]
  },
  {
   "cell_type": "code",
   "execution_count": 37,
   "metadata": {
    "ExecuteTime": {
     "end_time": "2020-12-05T09:19:01.414132Z",
     "start_time": "2020-12-05T09:19:01.405156Z"
    }
   },
   "outputs": [
    {
     "data": {
      "text/plain": [
       "(392, 13)"
      ]
     },
     "execution_count": 37,
     "metadata": {},
     "output_type": "execute_result"
    },
    {
     "data": {
      "text/plain": [
       "(98, 13)"
      ]
     },
     "execution_count": 37,
     "metadata": {},
     "output_type": "execute_result"
    },
    {
     "data": {
      "text/plain": [
       "(392,)"
      ]
     },
     "execution_count": 37,
     "metadata": {},
     "output_type": "execute_result"
    },
    {
     "data": {
      "text/plain": [
       "(98,)"
      ]
     },
     "execution_count": 37,
     "metadata": {},
     "output_type": "execute_result"
    }
   ],
   "source": [
    "# 切分数据集\n",
    "from sklearn.model_selection import train_test_split\n",
    "\n",
    "X_train, X_test, y_train, y_test = train_test_split(X, y, test_size=0.2, random_state=400)\n",
    "\n",
    "X_train.shape\n",
    "X_test.shape\n",
    "y_train.shape\n",
    "y_test.shape"
   ]
  },
  {
   "cell_type": "code",
   "execution_count": 42,
   "metadata": {
    "ExecuteTime": {
     "end_time": "2020-12-05T09:29:16.876339Z",
     "start_time": "2020-12-05T09:29:16.866366Z"
    }
   },
   "outputs": [
    {
     "data": {
      "text/plain": [
       "array([ 2.91053474e+01, -9.93738067e-02,  2.99517383e-02, -3.06147752e-02,\n",
       "        2.31759244e-01, -1.26943936e+01,  4.21212878e+00, -3.02307029e-02,\n",
       "       -1.20552613e+00,  2.11076722e-01, -1.25987237e-02, -8.47404059e-01,\n",
       "        8.92955973e-03, -3.14279065e-01])"
      ]
     },
     "execution_count": 42,
     "metadata": {},
     "output_type": "execute_result"
    }
   ],
   "source": [
    "# 构造正规方程解中的矩阵X \n",
    "X_train_b = np.hstack([np.ones((len(X_train), 1)), X_train]) \n",
    "\n",
    "#            np.hstack([np.ones((len(X_train), 1)), X_train])\n",
    "\n",
    "# 求解\n",
    "theta = np.linalg.inv(X_train_b.T.dot(X_train_b)).dot(X_train_b.T).dot(y_train)\n",
    "theta"
   ]
  },
  {
   "cell_type": "markdown",
   "metadata": {},
   "source": [
    "### （三）封装"
   ]
  },
  {
   "cell_type": "code",
   "execution_count": 26,
   "metadata": {
    "ExecuteTime": {
     "end_time": "2020-12-05T09:12:13.251742Z",
     "start_time": "2020-12-05T09:12:13.245758Z"
    }
   },
   "outputs": [],
   "source": [
    "import numpy as np\n",
    "\n",
    "# 使用for循环\n",
    "class MY_LinearRegression:\n",
    "    \n",
    "    def __init__(self):\n",
    "        \n",
    "        self.intercept_ = None\n",
    "        self.coef_ = None\n",
    "        self._theta =None\n",
    "        \n",
    "    def fit_nomal(self, x_train, y_train):\n",
    "        '''使用正规方程方法训练'''\n",
    "        assert x_train.shape[0] == y_train.shape[0], 'x_train 和 y_train 的行数要一致'\n",
    "        \n",
    "        \n",
    "    \n",
    "    \n"
   ]
  },
  {
   "cell_type": "code",
   "execution_count": null,
   "metadata": {},
   "outputs": [],
   "source": []
  },
  {
   "cell_type": "code",
   "execution_count": null,
   "metadata": {},
   "outputs": [],
   "source": []
  }
 ],
 "metadata": {
  "kernelspec": {
   "display_name": "Python 3",
   "language": "python",
   "name": "python3"
  },
  "language_info": {
   "codemirror_mode": {
    "name": "ipython",
    "version": 3
   },
   "file_extension": ".py",
   "mimetype": "text/x-python",
   "name": "python",
   "nbconvert_exporter": "python",
   "pygments_lexer": "ipython3",
   "version": "3.7.3"
  }
 },
 "nbformat": 4,
 "nbformat_minor": 2
}
