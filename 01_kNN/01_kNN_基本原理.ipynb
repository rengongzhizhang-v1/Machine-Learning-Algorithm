{
 "cells": [
  {
   "cell_type": "code",
   "execution_count": 1,
   "metadata": {
    "ExecuteTime": {
     "end_time": "2020-11-29T05:15:20.525743Z",
     "start_time": "2020-11-29T05:15:20.330218Z"
    }
   },
   "outputs": [],
   "source": [
    "# 导入基本包\n",
    "import numpy as np\n",
    "import matplotlib.pyplot as plt\n",
    "\n",
    "# 显示所有过程结果\n",
    "from IPython.core.interactiveshell import InteractiveShell\n",
    "InteractiveShell.ast_node_interactivity = 'all'\n",
    "\n",
    "plt.rcParams['font.sans-serif']=['SimHei']  # 用来正常显示中文标签\n",
    "plt.rcParams['axes.unicode_minus']=False  # 用来正常显示负号"
   ]
  },
  {
   "cell_type": "markdown",
   "metadata": {},
   "source": [
    "## 一、kNN算法实现"
   ]
  },
  {
   "cell_type": "markdown",
   "metadata": {},
   "source": [
    "### （一）基本原理"
   ]
  },
  {
   "cell_type": "code",
   "execution_count": 2,
   "metadata": {
    "ExecuteTime": {
     "end_time": "2020-11-29T05:15:20.751135Z",
     "start_time": "2020-11-29T05:15:20.526693Z"
    },
    "scrolled": false
   },
   "outputs": [
    {
     "data": {
      "text/plain": [
       "<matplotlib.collections.PathCollection at 0x1acc3b85d68>"
      ]
     },
     "execution_count": 2,
     "metadata": {},
     "output_type": "execute_result"
    },
    {
     "data": {
      "text/plain": [
       "<matplotlib.collections.PathCollection at 0x1acc3e836a0>"
      ]
     },
     "execution_count": 2,
     "metadata": {},
     "output_type": "execute_result"
    },
    {
     "data": {
      "text/plain": [
       "<matplotlib.collections.PathCollection at 0x1acc3e83ac8>"
      ]
     },
     "execution_count": 2,
     "metadata": {},
     "output_type": "execute_result"
    },
    {
     "data": {
      "text/plain": [
       "Text(1.0, 1.0, '1')"
      ]
     },
     "execution_count": 2,
     "metadata": {},
     "output_type": "execute_result"
    },
    {
     "data": {
      "text/plain": [
       "Text(0.9, 1.4, '2')"
      ]
     },
     "execution_count": 2,
     "metadata": {},
     "output_type": "execute_result"
    },
    {
     "data": {
      "text/plain": [
       "Text(1.3, 1.0, '3')"
      ]
     },
     "execution_count": 2,
     "metadata": {},
     "output_type": "execute_result"
    },
    {
     "data": {
      "text/plain": [
       "Text(1.8, 1.6, '4')"
      ]
     },
     "execution_count": 2,
     "metadata": {},
     "output_type": "execute_result"
    },
    {
     "data": {
      "text/plain": [
       "Text(1.6, 1.9, '5')"
      ]
     },
     "execution_count": 2,
     "metadata": {},
     "output_type": "execute_result"
    },
    {
     "data": {
      "text/plain": [
       "Text(1.5, 1.5, '6')"
      ]
     },
     "execution_count": 2,
     "metadata": {},
     "output_type": "execute_result"
    },
    {
     "data": {
      "text/plain": [
       "Text(2.1, 1.9, '7')"
      ]
     },
     "execution_count": 2,
     "metadata": {},
     "output_type": "execute_result"
    },
    {
     "data": {
      "text/plain": [
       "<matplotlib.quiver.Quiver at 0x1acc3ea6b70>"
      ]
     },
     "execution_count": 2,
     "metadata": {},
     "output_type": "execute_result"
    },
    {
     "data": {
      "text/plain": [
       "<matplotlib.quiver.Quiver at 0x1acc3e835f8>"
      ]
     },
     "execution_count": 2,
     "metadata": {},
     "output_type": "execute_result"
    },
    {
     "data": {
      "text/plain": [
       "<matplotlib.quiver.Quiver at 0x1acc3ea6ac8>"
      ]
     },
     "execution_count": 2,
     "metadata": {},
     "output_type": "execute_result"
    },
    {
     "data": {
      "text/plain": [
       "<matplotlib.quiver.Quiver at 0x1acc3ea6dd8>"
      ]
     },
     "execution_count": 2,
     "metadata": {},
     "output_type": "execute_result"
    },
    {
     "data": {
      "text/plain": [
       "<matplotlib.quiver.Quiver at 0x1acc3eae668>"
      ]
     },
     "execution_count": 2,
     "metadata": {},
     "output_type": "execute_result"
    },
    {
     "data": {
      "text/plain": [
       "<matplotlib.quiver.Quiver at 0x1acc3eae908>"
      ]
     },
     "execution_count": 2,
     "metadata": {},
     "output_type": "execute_result"
    },
    {
     "data": {
      "text/plain": [
       "<matplotlib.quiver.Quiver at 0x1acc3eaeba8>"
      ]
     },
     "execution_count": 2,
     "metadata": {},
     "output_type": "execute_result"
    },
    {
     "data": {
      "text/plain": [
       "<matplotlib.patches.Circle at 0x1acc3eaef60>"
      ]
     },
     "execution_count": 2,
     "metadata": {},
     "output_type": "execute_result"
    },
    {
     "data": {
      "text/plain": [
       "(0.7796637185282114,\n",
       " 2.6222713741508428,\n",
       " 0.8789322464683207,\n",
       " 2.3032585871060753)"
      ]
     },
     "execution_count": 2,
     "metadata": {},
     "output_type": "execute_result"
    },
    {
     "data": {
      "text/plain": [
       "Text(0.5, 0, 'X1: 直径')"
      ]
     },
     "execution_count": 2,
     "metadata": {},
     "output_type": "execute_result"
    },
    {
     "data": {
      "text/plain": [
       "Text(0, 0.5, 'X2: 厚度')"
      ]
     },
     "execution_count": 2,
     "metadata": {},
     "output_type": "execute_result"
    },
    {
     "data": {
      "image/png": "[encoded data removed]",
      "text/plain": [
       "<Figure size 432x288 with 1 Axes>"
      ]
     },
     "metadata": {
      "needs_background": "light"
     },
     "output_type": "display_data"
    }
   ],
   "source": [
    "# 导入示范数据\n",
    "X_samp = np.array([[1.0, 1.0], [0.9, 1.4], [1.3, 1.0], [1.8, 1.6], [1.6, 1.9], [1.5, 1.5], [2.1, 1.9]])  # 样本X\n",
    "y_samp = np.array([0, 0, 0, 0, 1, 1, 1])  # 样本y\n",
    "x_to_predict = np.array([2.0, 1.7])  # 预测x\n",
    "\n",
    "# 生成绘图区域\n",
    "fig = plt.subplot(1,1,1)\n",
    "\n",
    "# 绘制样本点与预测点\n",
    "plt.scatter(X_samp[y_samp == 0, 0], X_samp[y_samp == 0, 1], color='steelblue', s=600)  # 画出y=0的样本点\n",
    "plt.scatter(X_samp[y_samp == 1, 0], X_samp[y_samp == 1, 1], color='indianred', s=600)  # 画出y=1的样本点\n",
    "plt.scatter(x_to_predict[0], x_to_predict[1], color='lime', s=600)  # 画出预测点\n",
    "\n",
    "# 给样本点标记序号\n",
    "for i in range(len(y_samp)):\n",
    "    plt.text(x=X_samp[i, 0], y=X_samp[i, 1], s=i+1, ha='center', va='center', color='white')  \n",
    "    \n",
    "# 绘制预测点到样本点的距离箭头\n",
    "for i in range(len(X_samp)):\n",
    "    plt.quiver(x_to_predict[0],\n",
    "               x_to_predict[1],\n",
    "               X_samp[i, 0] - x_to_predict[0],\n",
    "               X_samp[i, 1] - x_to_predict[1],\n",
    "               angles = 'xy',\n",
    "               scale = 1,\n",
    "               scale_units = 'xy',\n",
    "               width = 0.005,\n",
    "               alpha = 0.4)  \n",
    "\n",
    "# 计算预测点到样本点的欧拉距离\n",
    "distances = [np.sqrt(np.sum((x - x_to_predict) ** 2)) for x in X_samp]  \n",
    "\n",
    "# 绘制以预测点为圆心，以离预测点最近的4个点的最大距离为半径，绘制圆形区域，框住的4个样本点即为预测点的4个最近邻\n",
    "cir1 = plt.Circle(xy = (x_to_predict[0], x_to_predict[1]), radius = np.sort(distances)[3] , alpha = 0.3, color = 'silver') \n",
    "fig.add_patch(cir1)  \n",
    "\n",
    "# 保证绘制出的圆形是正圆\n",
    "plt.axis('equal')\n",
    "\n",
    "plt.xlabel('X1: 直径')\n",
    "plt.ylabel('X2: 厚度')\n",
    "\n",
    "plt.show()"
   ]
  },
  {
   "cell_type": "markdown",
   "metadata": {},
   "source": [
    "如上图所示，假如图中反映的是肿瘤患者样本，红色代表恶性（y=1），蓝色代表良性（y=0），两个基本观测特征为X1：直径，X2：厚度。现在有一个新的患者（绿色点），分别观测到两个特征X1：直径和X2：厚度的数据，现在要预测该患者的肿瘤是良性还是恶性。则kNN的基本原理可以解释如下：\n",
    "\n",
    "求出预测点（绿色点）到样本点的距离（以欧拉距离为例），并找出与预测点最近的k个点（k近邻）的类别，以k个最近邻频率最高的的类别作为预测点的类别。\n",
    "\n",
    "上图中与预测点最近的4个点（k=4）序号分别为4，5，6，7，这四个点中出现频率最高的类别为恶性（红色：y=1），则这位新患者的肿瘤很大概率上可能是恶性（红色：y=1），则预测绿色点的类别为恶性（红色：y=1）。\n",
    "\n",
    "#### 欧拉距离\n",
    "\n",
    "#### 1. 二维平面中点a与点b的距离\n",
    "$$ \n",
    "\\sqrt{(x^{(a)}-x^{(b)})^2 + (y^{(a)}-y^{(b)})^2}\n",
    "$$\n",
    "\n",
    "#### 2. 三维空间中点a与点b的距离\n",
    "$$ \n",
    "\\sqrt{(x^{(a)}-x^{(b)})^2 + (y^{(a)}-y^{(b)})^2 + (z^{(a)}-z^{(b)})^2}\n",
    "$$\n",
    "\n",
    "#### 3. n维空间中点a与点b的距离\n",
    "$$ \n",
    "\\sqrt{(X_1^{(a)}-X_1^{(b)})^2 + (X_2^{(a)}-X_2^{(b)})^2 + ... + (X_n^{(a)}-X_n^{(b)})^2}\n",
    "$$\n",
    "\n",
    "$$ \n",
    "即： \\sqrt{\\sum_{i=1}^{n}(X_i^{(a)}-X_i^{(b)})^2}\n",
    "$$"
   ]
  },
  {
   "cell_type": "markdown",
   "metadata": {},
   "source": [
    "### （二）分步实现"
   ]
  },
  {
   "cell_type": "code",
   "execution_count": 3,
   "metadata": {
    "ExecuteTime": {
     "end_time": "2020-11-29T05:15:20.763061Z",
     "start_time": "2020-11-29T05:15:20.752090Z"
    }
   },
   "outputs": [
    {
     "data": {
      "text/plain": [
       "array([[3.19353321, 2.33127338],\n",
       "       [3.11007348, 1.78153964],\n",
       "       [1.34380883, 3.36836095],\n",
       "       [3.58229404, 4.67917911],\n",
       "       [2.28036244, 2.86699026],\n",
       "       [7.42343694, 4.69652288],\n",
       "       [5.745052  , 3.5339898 ],\n",
       "       [9.17216862, 2.51110105],\n",
       "       [7.79278348, 3.42408894],\n",
       "       [7.93982082, 0.79163723]])"
      ]
     },
     "execution_count": 3,
     "metadata": {},
     "output_type": "execute_result"
    },
    {
     "data": {
      "text/plain": [
       "array([0, 0, 0, 0, 0, 1, 1, 1, 1, 1])"
      ]
     },
     "execution_count": 3,
     "metadata": {},
     "output_type": "execute_result"
    },
    {
     "data": {
      "text/plain": [
       "array([9.09360732, 3.36573151])"
      ]
     },
     "execution_count": 3,
     "metadata": {},
     "output_type": "execute_result"
    }
   ],
   "source": [
    "# 生成案例样本数据\n",
    "X_train = np.array([[3.193533211, 2.331273381], \n",
    "                    [3.110073483, 1.781539638],\n",
    "                    [1.343808831, 3.368360954], \n",
    "                    [3.582294042, 4.679179110],\n",
    "                    [2.280362439, 2.866990263], \n",
    "                    [7.423436942, 4.696522875],\n",
    "                    [5.745051997, 3.533989803], \n",
    "                    [9.172168622, 2.511101045],\n",
    "                    [7.792783481, 3.424088941], \n",
    "                    [7.939820817, 0.791637231]])\n",
    "y_train = np.array([0, 0, 0, 0, 0, 1, 1, 1, 1, 1])\n",
    "\n",
    "x = np.array([9.093607318, 3.365731514])\n",
    "\n",
    "X_train\n",
    "y_train\n",
    "x"
   ]
  },
  {
   "cell_type": "code",
   "execution_count": 4,
   "metadata": {
    "ExecuteTime": {
     "end_time": "2020-11-29T05:15:20.778069Z",
     "start_time": "2020-11-29T05:15:20.764058Z"
    }
   },
   "outputs": [
    {
     "data": {
      "text/plain": [
       "array([3.19353321, 2.33127338])"
      ]
     },
     "execution_count": 4,
     "metadata": {},
     "output_type": "execute_result"
    },
    {
     "data": {
      "text/plain": [
       "array([9.09360732, 3.36573151])"
      ]
     },
     "execution_count": 4,
     "metadata": {},
     "output_type": "execute_result"
    },
    {
     "data": {
      "text/plain": [
       "array([-5.90007411, -1.03445813])"
      ]
     },
     "execution_count": 4,
     "metadata": {},
     "output_type": "execute_result"
    },
    {
     "data": {
      "text/plain": [
       "array([34.81087447,  1.07010363])"
      ]
     },
     "execution_count": 4,
     "metadata": {},
     "output_type": "execute_result"
    },
    {
     "data": {
      "text/plain": [
       "35.88097809702169"
      ]
     },
     "execution_count": 4,
     "metadata": {},
     "output_type": "execute_result"
    },
    {
     "data": {
      "text/plain": [
       "5.990073296464884"
      ]
     },
     "execution_count": 4,
     "metadata": {},
     "output_type": "execute_result"
    },
    {
     "data": {
      "text/plain": [
       "[5.990073296464884,\n",
       " 6.189696362066091,\n",
       " 7.74979893307318,\n",
       " 5.665661357127871,\n",
       " 6.8314748493036825,\n",
       " 2.1355268041821,\n",
       " 3.35277997930294,\n",
       " 0.8582337193500033,\n",
       " 1.3021321915203017,\n",
       " 2.8208482177641367]"
      ]
     },
     "execution_count": 4,
     "metadata": {},
     "output_type": "execute_result"
    }
   ],
   "source": [
    "# 计算预测点x与各个已知点的欧拉距离（语法1）\n",
    "# 分步拆分计算\n",
    "X_train[0]\n",
    "x\n",
    "X_train[0] - x\n",
    "(X_train[0] - x) ** 2\n",
    "np.sum((X_train[0] - x) ** 2)\n",
    "np.sqrt(np.sum((X_train[0] - x) ** 2))\n",
    "\n",
    "distances = []\n",
    "for x_train in X_train:\n",
    "    d = np.sqrt(np.sum((x_train - x) ** 2))\n",
    "    distances.append(d)\n",
    "    \n",
    "distances"
   ]
  },
  {
   "cell_type": "code",
   "execution_count": 5,
   "metadata": {
    "ExecuteTime": {
     "end_time": "2020-11-29T05:15:20.785066Z",
     "start_time": "2020-11-29T05:15:20.779020Z"
    }
   },
   "outputs": [
    {
     "data": {
      "text/plain": [
       "[5.990073296464884,\n",
       " 6.189696362066091,\n",
       " 7.74979893307318,\n",
       " 5.665661357127871,\n",
       " 6.8314748493036825,\n",
       " 2.1355268041821,\n",
       " 3.35277997930294,\n",
       " 0.8582337193500033,\n",
       " 1.3021321915203017,\n",
       " 2.8208482177641367]"
      ]
     },
     "execution_count": 5,
     "metadata": {},
     "output_type": "execute_result"
    }
   ],
   "source": [
    "# 计算预测点x与各个已知点的欧拉距离（语法2）\n",
    "distances = [np.sqrt(np.sum((x_train - x) ** 2)) for x_train in X_train]\n",
    "\n",
    "distances "
   ]
  },
  {
   "cell_type": "code",
   "execution_count": 6,
   "metadata": {
    "ExecuteTime": {
     "end_time": "2020-11-29T05:15:20.797026Z",
     "start_time": "2020-11-29T05:15:20.786996Z"
    }
   },
   "outputs": [
    {
     "data": {
      "text/plain": [
       "array([0.85823372, 1.30213219, 2.1355268 , 2.82084822, 3.35277998,\n",
       "       5.66566136, 5.9900733 , 6.18969636, 6.83147485, 7.74979893])"
      ]
     },
     "execution_count": 6,
     "metadata": {},
     "output_type": "execute_result"
    },
    {
     "data": {
      "text/plain": [
       "array([7, 8, 5, 9, 6, 3, 0, 1, 4, 2], dtype=int64)"
      ]
     },
     "execution_count": 6,
     "metadata": {},
     "output_type": "execute_result"
    },
    {
     "data": {
      "text/plain": [
       "array([7, 8, 5, 9, 6, 3], dtype=int64)"
      ]
     },
     "execution_count": 6,
     "metadata": {},
     "output_type": "execute_result"
    },
    {
     "data": {
      "text/plain": [
       "[1, 1, 1, 1, 1, 0]"
      ]
     },
     "execution_count": 6,
     "metadata": {},
     "output_type": "execute_result"
    }
   ],
   "source": [
    "# 找出k（k=6）近邻\n",
    "np.sort(distances)\n",
    "nearest = np.argsort(distances)  # 找到排序前的元素索引\n",
    "nearest\n",
    "\n",
    "k = 6\n",
    "nearest[:k]\n",
    "\n",
    "topK_y = [y_train[neighbor] for neighbor in nearest[:k]]\n",
    "topK_y"
   ]
  },
  {
   "cell_type": "code",
   "execution_count": 7,
   "metadata": {
    "ExecuteTime": {
     "end_time": "2020-11-29T05:15:20.803986Z",
     "start_time": "2020-11-29T05:15:20.797968Z"
    }
   },
   "outputs": [
    {
     "data": {
      "text/plain": [
       "Counter({1: 5, 0: 1})"
      ]
     },
     "execution_count": 7,
     "metadata": {},
     "output_type": "execute_result"
    },
    {
     "data": {
      "text/plain": [
       "[(1, 5)]"
      ]
     },
     "execution_count": 7,
     "metadata": {},
     "output_type": "execute_result"
    }
   ],
   "source": [
    "# 找出k（k=6）近邻中频率最高的类别\n",
    "from collections import Counter\n",
    "votes = Counter(topK_y)  # 分类计数\n",
    "votes\n",
    "votes.most_common(1)  # 找出计数排第1的类"
   ]
  },
  {
   "cell_type": "code",
   "execution_count": 8,
   "metadata": {
    "ExecuteTime": {
     "end_time": "2020-11-29T05:15:20.808973Z",
     "start_time": "2020-11-29T05:15:20.804949Z"
    }
   },
   "outputs": [
    {
     "data": {
      "text/plain": [
       "1"
      ]
     },
     "execution_count": 8,
     "metadata": {},
     "output_type": "execute_result"
    }
   ],
   "source": [
    "# 预测y\n",
    "predict_y = votes.most_common(1)[0][0]\n",
    "predict_y"
   ]
  },
  {
   "cell_type": "code",
   "execution_count": 9,
   "metadata": {
    "ExecuteTime": {
     "end_time": "2020-11-29T05:15:20.997434Z",
     "start_time": "2020-11-29T05:15:20.809936Z"
    },
    "scrolled": false
   },
   "outputs": [
    {
     "data": {
      "text/plain": [
       "<matplotlib.collections.PathCollection at 0x1acc3f74048>"
      ]
     },
     "execution_count": 9,
     "metadata": {},
     "output_type": "execute_result"
    },
    {
     "data": {
      "text/plain": [
       "<matplotlib.collections.PathCollection at 0x1acc3f07668>"
      ]
     },
     "execution_count": 9,
     "metadata": {},
     "output_type": "execute_result"
    },
    {
     "data": {
      "text/plain": [
       "<matplotlib.collections.PathCollection at 0x1acc3bf5b00>"
      ]
     },
     "execution_count": 9,
     "metadata": {},
     "output_type": "execute_result"
    },
    {
     "data": {
      "text/plain": [
       "Text(9.172168622, 2.511101045, '7')"
      ]
     },
     "execution_count": 9,
     "metadata": {},
     "output_type": "execute_result"
    },
    {
     "data": {
      "text/plain": [
       "Text(7.792783481, 3.424088941, '8')"
      ]
     },
     "execution_count": 9,
     "metadata": {},
     "output_type": "execute_result"
    },
    {
     "data": {
      "text/plain": [
       "Text(7.423436942, 4.696522875, '5')"
      ]
     },
     "execution_count": 9,
     "metadata": {},
     "output_type": "execute_result"
    },
    {
     "data": {
      "text/plain": [
       "Text(7.939820817, 0.791637231, '9')"
      ]
     },
     "execution_count": 9,
     "metadata": {},
     "output_type": "execute_result"
    },
    {
     "data": {
      "text/plain": [
       "Text(5.745051997, 3.533989803, '6')"
      ]
     },
     "execution_count": 9,
     "metadata": {},
     "output_type": "execute_result"
    },
    {
     "data": {
      "text/plain": [
       "Text(3.582294042, 4.67917911, '3')"
      ]
     },
     "execution_count": 9,
     "metadata": {},
     "output_type": "execute_result"
    },
    {
     "data": {
      "text/plain": [
       "Text(3.193533211, 2.331273381, '0')"
      ]
     },
     "execution_count": 9,
     "metadata": {},
     "output_type": "execute_result"
    },
    {
     "data": {
      "text/plain": [
       "Text(3.110073483, 1.781539638, '1')"
      ]
     },
     "execution_count": 9,
     "metadata": {},
     "output_type": "execute_result"
    },
    {
     "data": {
      "text/plain": [
       "Text(2.280362439, 2.866990263, '4')"
      ]
     },
     "execution_count": 9,
     "metadata": {},
     "output_type": "execute_result"
    },
    {
     "data": {
      "text/plain": [
       "Text(1.343808831, 3.368360954, '2')"
      ]
     },
     "execution_count": 9,
     "metadata": {},
     "output_type": "execute_result"
    },
    {
     "data": {
      "text/plain": [
       "<matplotlib.quiver.Quiver at 0x1acc3f81e10>"
      ]
     },
     "execution_count": 9,
     "metadata": {},
     "output_type": "execute_result"
    },
    {
     "data": {
      "text/plain": [
       "<matplotlib.quiver.Quiver at 0x1acc3f743c8>"
      ]
     },
     "execution_count": 9,
     "metadata": {},
     "output_type": "execute_result"
    },
    {
     "data": {
      "text/plain": [
       "<matplotlib.quiver.Quiver at 0x1acc3f74780>"
      ]
     },
     "execution_count": 9,
     "metadata": {},
     "output_type": "execute_result"
    },
    {
     "data": {
      "text/plain": [
       "<matplotlib.quiver.Quiver at 0x1acc3f81e80>"
      ]
     },
     "execution_count": 9,
     "metadata": {},
     "output_type": "execute_result"
    },
    {
     "data": {
      "text/plain": [
       "<matplotlib.quiver.Quiver at 0x1acc3f8a898>"
      ]
     },
     "execution_count": 9,
     "metadata": {},
     "output_type": "execute_result"
    },
    {
     "data": {
      "text/plain": [
       "<matplotlib.quiver.Quiver at 0x1acc3f8ab38>"
      ]
     },
     "execution_count": 9,
     "metadata": {},
     "output_type": "execute_result"
    },
    {
     "data": {
      "text/plain": [
       "<matplotlib.quiver.Quiver at 0x1acc3f8ae10>"
      ]
     },
     "execution_count": 9,
     "metadata": {},
     "output_type": "execute_result"
    },
    {
     "data": {
      "text/plain": [
       "<matplotlib.quiver.Quiver at 0x1acc3f8add8>"
      ]
     },
     "execution_count": 9,
     "metadata": {},
     "output_type": "execute_result"
    },
    {
     "data": {
      "text/plain": [
       "<matplotlib.quiver.Quiver at 0x1acc3f920f0>"
      ]
     },
     "execution_count": 9,
     "metadata": {},
     "output_type": "execute_result"
    },
    {
     "data": {
      "text/plain": [
       "<matplotlib.quiver.Quiver at 0x1acc3f92a58>"
      ]
     },
     "execution_count": 9,
     "metadata": {},
     "output_type": "execute_result"
    },
    {
     "data": {
      "text/plain": [
       "<matplotlib.patches.Circle at 0x1acc3f6afd0>"
      ]
     },
     "execution_count": 9,
     "metadata": {},
     "output_type": "execute_result"
    },
    {
     "data": {
      "text/plain": [
       "Text(0.5, 0, 'x1')"
      ]
     },
     "execution_count": 9,
     "metadata": {},
     "output_type": "execute_result"
    },
    {
     "data": {
      "text/plain": [
       "Text(0, 0.5, 'x2')"
      ]
     },
     "execution_count": 9,
     "metadata": {},
     "output_type": "execute_result"
    },
    {
     "data": {
      "image/png": "[encoded data removed]",
      "text/plain": [
       "<Figure size 432x288 with 1 Axes>"
      ]
     },
     "metadata": {
      "needs_background": "light"
     },
     "output_type": "display_data"
    }
   ],
   "source": [
    "fig = plt.subplot(1,1,1)\n",
    "\n",
    "# 绘图\n",
    "plt.scatter(X_train[y_train == 0, 0], X_train[y_train == 0, 1], color = 'steelblue', s=600)\n",
    "plt.scatter(X_train[y_train == 1, 0], X_train[y_train == 1, 1], color = 'indianred', s=600)\n",
    "plt.scatter(x[0], x[1], color = 'lime', s=600)\n",
    "\n",
    "# 给样本点按照距离远近标记序号\n",
    "for i in nearest:\n",
    "    plt.text(x=X_train[i, 0], y=X_train[i, 1], s=i, ha='center', va='center', color='white') \n",
    "\n",
    "for i in range(len(X_train)):\n",
    "    plt.quiver(x[0],\n",
    "               x[1],\n",
    "               X_train[i, 0] - x[0],\n",
    "               X_train[i, 1] - x[1],\n",
    "               angles = 'xy',\n",
    "               scale = 1,\n",
    "               scale_units = 'xy',\n",
    "               width = 0.004,\n",
    "               alpha = 0.4)\n",
    "    \n",
    "cir1 = plt.Circle(xy = (x[0], x[1]), radius = np.sort(distances)[5], alpha = 0.3, color = 'silver') \n",
    "fig.add_patch(cir1)\n",
    "\n",
    "plt.xlabel('x1')\n",
    "plt.ylabel('x2')\n",
    "# plt.axis('equal')\n",
    "plt.show()"
   ]
  },
  {
   "cell_type": "markdown",
   "metadata": {},
   "source": [
    "### （三）封装（模拟scikit-learn封装逻辑）"
   ]
  },
  {
   "cell_type": "code",
   "execution_count": 10,
   "metadata": {
    "ExecuteTime": {
     "end_time": "2020-11-29T05:15:21.006452Z",
     "start_time": "2020-11-29T05:15:20.998432Z"
    }
   },
   "outputs": [],
   "source": [
    "import numpy as np\n",
    "from collections import Counter\n",
    "\n",
    "class MY_KNNClassifier:\n",
    "    \n",
    "    def __init__(self, k):\n",
    "        '''初始化'''\n",
    "        assert k >= 1, 'k必须大于等于1'\n",
    "        \n",
    "        self.k = k\n",
    "        self._X_train = None\n",
    "        self._y_train = None\n",
    "        \n",
    "    def fit(self, X_train, y_train):\n",
    "        '''开始训练'''\n",
    "        assert X_train.shape[0] == y_train.shape[0], 'X的行数必须与y的行数相等'\n",
    "        assert X_train.shape[0] >= self.k, 'X的行数必须大于等于k'\n",
    "        \n",
    "        self._X_train = X_train\n",
    "        self._y_train = y_train\n",
    "        \n",
    "        return self\n",
    "    \n",
    "    def _predict(self, x):\n",
    "        '''单个预测'''\n",
    "        assert x.shape[0] == self._X_train.shape[1], '预测的x的列数必须与训练X的列数相等'\n",
    "        \n",
    "        distances = [np.sqrt(np.sum((x_train - x) ** 2)) for  x_train in self._X_train]\n",
    "        nearest = np.argsort(distances)\n",
    "        topK_y = [y_train[neighbor] for neighbor in nearest[:self.k]]\n",
    "        votes = Counter(topK_y)\n",
    "        \n",
    "        return votes.most_common(1)[0][0]\n",
    "    \n",
    "    def predict(self, X_predict):\n",
    "        '''多个预测'''\n",
    "        assert X_predict.shape[1] == self._X_train.shape[1], '预测的X的列数必须与训练X的列数相等'\n",
    "        assert self._X_train is not None and self._y_train is not None, '请确保已经完成训练'\n",
    "        \n",
    "        y_predict = [self._predict(x) for x in X_predict]\n",
    "        \n",
    "        return np.array(y_predict)\n",
    "    \n",
    "    '''这里将准确度直接封装到KNN内部，但是需要调用后续的my_accuracy_score，如果按顺序运行会报错，因此注释掉。\n",
    "    \n",
    "    def score(self, X_test, y_test):\n",
    "        y_predict = self.predict(X_test)\n",
    "        return my_accuracy_score(y_test, y_predict)\n",
    "        \n",
    "    '''\n",
    "    \n",
    "    def __repr__(self):\n",
    "        return 'KNN(k={})'.format(self.k)"
   ]
  },
  {
   "cell_type": "code",
   "execution_count": 11,
   "metadata": {
    "ExecuteTime": {
     "end_time": "2020-11-29T05:15:21.014422Z",
     "start_time": "2020-11-29T05:15:21.007408Z"
    }
   },
   "outputs": [
    {
     "data": {
      "text/plain": [
       "KNN(k=6)"
      ]
     },
     "execution_count": 11,
     "metadata": {},
     "output_type": "execute_result"
    },
    {
     "data": {
      "text/plain": [
       "array([1])"
      ]
     },
     "execution_count": 11,
     "metadata": {},
     "output_type": "execute_result"
    }
   ],
   "source": [
    "my_knn = MY_KNNClassifier(k=6)\n",
    "my_knn.fit(X_train, y_train)\n",
    "my_knn.predict(x.reshape(1,-1))"
   ]
  },
  {
   "cell_type": "markdown",
   "metadata": {},
   "source": [
    "### （四）scikit - learn 中的 kNN"
   ]
  },
  {
   "cell_type": "code",
   "execution_count": 12,
   "metadata": {
    "ExecuteTime": {
     "end_time": "2020-11-29T05:15:21.289653Z",
     "start_time": "2020-11-29T05:15:21.015386Z"
    }
   },
   "outputs": [
    {
     "data": {
      "text/plain": [
       "KNeighborsClassifier(n_neighbors=6)"
      ]
     },
     "execution_count": 12,
     "metadata": {},
     "output_type": "execute_result"
    },
    {
     "data": {
      "text/plain": [
       "array([1])"
      ]
     },
     "execution_count": 12,
     "metadata": {},
     "output_type": "execute_result"
    }
   ],
   "source": [
    "from sklearn.neighbors import KNeighborsClassifier as S_KNN\n",
    "\n",
    "s_knn = S_KNN(6)\n",
    "s_knn.fit(X_train, y_train)\n",
    "\n",
    "s_knn.predict(x.reshape(1, -1))"
   ]
  },
  {
   "cell_type": "markdown",
   "metadata": {},
   "source": [
    "## 二、训练集与测试集"
   ]
  },
  {
   "cell_type": "markdown",
   "metadata": {},
   "source": [
    "### （一）分步实现"
   ]
  },
  {
   "cell_type": "code",
   "execution_count": 13,
   "metadata": {
    "ExecuteTime": {
     "end_time": "2020-11-29T05:15:21.323562Z",
     "start_time": "2020-11-29T05:15:21.290650Z"
    }
   },
   "outputs": [
    {
     "data": {
      "text/plain": [
       "dict_keys(['data', 'target', 'frame', 'target_names', 'DESCR', 'feature_names', 'filename'])"
      ]
     },
     "execution_count": 13,
     "metadata": {},
     "output_type": "execute_result"
    }
   ],
   "source": [
    "from sklearn import datasets\n",
    "\n",
    "iris = datasets.load_iris()\n",
    "iris.keys()"
   ]
  },
  {
   "cell_type": "code",
   "execution_count": 14,
   "metadata": {
    "ExecuteTime": {
     "end_time": "2020-11-29T05:15:21.331540Z",
     "start_time": "2020-11-29T05:15:21.326554Z"
    }
   },
   "outputs": [
    {
     "data": {
      "text/plain": [
       "(150, 4)"
      ]
     },
     "execution_count": 14,
     "metadata": {},
     "output_type": "execute_result"
    },
    {
     "data": {
      "text/plain": [
       "(150,)"
      ]
     },
     "execution_count": 14,
     "metadata": {},
     "output_type": "execute_result"
    }
   ],
   "source": [
    "# iris.DESCR\n",
    "iris.data.shape\n",
    "iris.target.shape"
   ]
  },
  {
   "cell_type": "code",
   "execution_count": 15,
   "metadata": {
    "ExecuteTime": {
     "end_time": "2020-11-29T05:15:21.336569Z",
     "start_time": "2020-11-29T05:15:21.334533Z"
    }
   },
   "outputs": [],
   "source": [
    "X_iris = iris.data\n",
    "y_iris = iris.target"
   ]
  },
  {
   "cell_type": "code",
   "execution_count": 16,
   "metadata": {
    "ExecuteTime": {
     "end_time": "2020-11-29T05:15:21.343540Z",
     "start_time": "2020-11-29T05:15:21.337524Z"
    }
   },
   "outputs": [
    {
     "data": {
      "text/plain": [
       "array([ 94, 110,  16,  74,  49,  54, 138,  96,  73, 141, 135, 109, 144,\n",
       "        97,  44, 139,   1, 100,  36,  72,  88,  78, 129,  17,  92,  42,\n",
       "        69,  89,  33, 101, 119, 137,  18, 117, 132,  31, 133, 148,  99,\n",
       "        70, 108, 116, 140, 112,  52,  39,  64,  25, 123, 111,  86,  57,\n",
       "         8,  77,  48,  19,  29, 127,   5, 126, 136, 146,  23, 115,  60,\n",
       "        80, 104,  83,  58,   2,  91,  35, 130, 103, 120,  38,   3,  30,\n",
       "         6,  90,  50,  82,  84, 147,  85,  76,  56,  95,   9,  32,  66,\n",
       "        40,  24, 128,   4, 107,  62,   0,  12,  11,  10,  43, 113, 122,\n",
       "       142, 143, 134, 118, 114,  55,  46,  21,  59,  65, 145, 149,  81,\n",
       "       125,  93,  68,  37,  53, 124,  47,  13,  45,  61,  27,  98,  20,\n",
       "        28,  79, 106,   7,  67,  87,  34,  41,  63,  75, 102,  14,  26,\n",
       "        51,  71, 131,  22,  15, 121, 105])"
      ]
     },
     "execution_count": 16,
     "metadata": {},
     "output_type": "execute_result"
    }
   ],
   "source": [
    "shuffled_indexes = np.random.permutation(len(X_iris))\n",
    "shuffled_indexes"
   ]
  },
  {
   "cell_type": "code",
   "execution_count": 17,
   "metadata": {
    "ExecuteTime": {
     "end_time": "2020-11-29T05:15:21.355541Z",
     "start_time": "2020-11-29T05:15:21.344519Z"
    }
   },
   "outputs": [
    {
     "data": {
      "text/plain": [
       "45"
      ]
     },
     "execution_count": 17,
     "metadata": {},
     "output_type": "execute_result"
    },
    {
     "data": {
      "text/plain": [
       "(105, 4)"
      ]
     },
     "execution_count": 17,
     "metadata": {},
     "output_type": "execute_result"
    },
    {
     "data": {
      "text/plain": [
       "(105,)"
      ]
     },
     "execution_count": 17,
     "metadata": {},
     "output_type": "execute_result"
    },
    {
     "data": {
      "text/plain": [
       "(45, 4)"
      ]
     },
     "execution_count": 17,
     "metadata": {},
     "output_type": "execute_result"
    },
    {
     "data": {
      "text/plain": [
       "(45,)"
      ]
     },
     "execution_count": 17,
     "metadata": {},
     "output_type": "execute_result"
    }
   ],
   "source": [
    "test_radio = 0.3\n",
    "test_size = int(len(X_iris) * test_radio)\n",
    "test_size \n",
    "\n",
    "test_indexes = shuffled_indexes[:test_size]\n",
    "train_indexes = shuffled_indexes[test_size:]\n",
    "\n",
    "X_iris_train = X_iris[train_indexes]\n",
    "y_iris_train = y_iris[train_indexes]\n",
    "\n",
    "X_iris_test = X_iris[test_indexes]\n",
    "y_iris_test = y_iris[test_indexes]\n",
    "\n",
    "X_iris_train.shape\n",
    "y_iris_train.shape\n",
    "\n",
    "X_iris_test.shape\n",
    "y_iris_test.shape"
   ]
  },
  {
   "cell_type": "markdown",
   "metadata": {},
   "source": [
    "### （二）封装（模拟scikit-learn封装逻辑）"
   ]
  },
  {
   "cell_type": "code",
   "execution_count": 18,
   "metadata": {
    "ExecuteTime": {
     "end_time": "2020-11-29T05:15:21.362458Z",
     "start_time": "2020-11-29T05:15:21.356475Z"
    }
   },
   "outputs": [],
   "source": [
    "import numpy as np\n",
    "\n",
    "def my_train_test_split(X, y, test_size=0.2, random_state=None):\n",
    "    '''将X, y 按照test_radio切分成训练集（X_train、y_train）和测试集（X_test、y_test）'''\n",
    "    assert X.shape[0] == y.shape[0], 'X的行数必须与y的行数相等'\n",
    "    assert 0 <= test_radio <= 1.0, 'test_radio必须介于0到1之间'\n",
    "    \n",
    "    # 设定随机种子\n",
    "    if random_state:\n",
    "        np.random.seed(random_state)\n",
    "        \n",
    "    shuffled_indexes = np.random.permutation(len(X))\n",
    "    test_size = int(len(X) * test_radio)\n",
    "    train_indexes = shuffled_indexes[test_size:]\n",
    "    test_indexes = shuffled_indexes[:test_size]\n",
    "    \n",
    "    \n",
    "    X_train = X[train_indexes]\n",
    "    y_train = y[train_indexes]\n",
    "    \n",
    "    X_test = X[test_indexes]\n",
    "    y_test = y[test_indexes]\n",
    "    \n",
    "    return X_train, X_test, y_train, y_test"
   ]
  },
  {
   "cell_type": "code",
   "execution_count": 19,
   "metadata": {
    "ExecuteTime": {
     "end_time": "2020-11-29T05:15:21.378416Z",
     "start_time": "2020-11-29T05:15:21.365450Z"
    }
   },
   "outputs": [
    {
     "data": {
      "text/plain": [
       "(105, 4)"
      ]
     },
     "execution_count": 19,
     "metadata": {},
     "output_type": "execute_result"
    },
    {
     "data": {
      "text/plain": [
       "(45, 4)"
      ]
     },
     "execution_count": 19,
     "metadata": {},
     "output_type": "execute_result"
    },
    {
     "data": {
      "text/plain": [
       "(105,)"
      ]
     },
     "execution_count": 19,
     "metadata": {},
     "output_type": "execute_result"
    },
    {
     "data": {
      "text/plain": [
       "(45,)"
      ]
     },
     "execution_count": 19,
     "metadata": {},
     "output_type": "execute_result"
    }
   ],
   "source": [
    "X_train, X_test, y_train, y_test = my_train_test_split(X_iris, y_iris, test_size=0.3, random_state=400)\n",
    "\n",
    "X_train.shape\n",
    "X_test.shape\n",
    "y_train.shape\n",
    "y_test.shape"
   ]
  },
  {
   "cell_type": "code",
   "execution_count": 20,
   "metadata": {
    "ExecuteTime": {
     "end_time": "2020-11-29T05:15:21.413322Z",
     "start_time": "2020-11-29T05:15:21.379412Z"
    }
   },
   "outputs": [
    {
     "data": {
      "text/plain": [
       "KNN(k=6)"
      ]
     },
     "execution_count": 20,
     "metadata": {},
     "output_type": "execute_result"
    },
    {
     "data": {
      "text/plain": [
       "0.9777777777777777"
      ]
     },
     "execution_count": 20,
     "metadata": {},
     "output_type": "execute_result"
    }
   ],
   "source": [
    "my_knn = MY_KNNClassifier(k=6)\n",
    "my_knn.fit(X_train, y_train)\n",
    "y_predict = my_knn.predict(X_test)\n",
    "\n",
    "# 计算准确度accuracy\n",
    "accuracy = np.sum(y_predict == y_test)/len(y_test)\n",
    "accuracy"
   ]
  },
  {
   "cell_type": "markdown",
   "metadata": {},
   "source": [
    "### （三）scikit - learn 中的 train_test_split"
   ]
  },
  {
   "cell_type": "code",
   "execution_count": 21,
   "metadata": {
    "ExecuteTime": {
     "end_time": "2020-11-29T05:15:21.424329Z",
     "start_time": "2020-11-29T05:15:21.414319Z"
    }
   },
   "outputs": [
    {
     "data": {
      "text/plain": [
       "KNeighborsClassifier(n_neighbors=6)"
      ]
     },
     "execution_count": 21,
     "metadata": {},
     "output_type": "execute_result"
    },
    {
     "data": {
      "text/plain": [
       "0.9777777777777777"
      ]
     },
     "execution_count": 21,
     "metadata": {},
     "output_type": "execute_result"
    }
   ],
   "source": [
    "from sklearn.neighbors import KNeighborsClassifier as S_KNN\n",
    "from sklearn.model_selection import train_test_split\n",
    "\n",
    "X_train, X_test, y_train, y_test = train_test_split(X_iris, y_iris, test_size=0.3, random_state=400)\n",
    "\n",
    "s_knn = S_KNN(6)\n",
    "s_knn.fit(X_train, y_train)\n",
    "y_predict = s_knn.predict(X_test)\n",
    "\n",
    "accuracy = np.sum(y_test == y_predict)/len(y_test)\n",
    "accuracy"
   ]
  },
  {
   "cell_type": "markdown",
   "metadata": {},
   "source": [
    "## 三、算法评价 - 准确度（Accuracy）"
   ]
  },
  {
   "cell_type": "markdown",
   "metadata": {},
   "source": [
    "### （一）分步实现"
   ]
  },
  {
   "cell_type": "code",
   "execution_count": 22,
   "metadata": {
    "ExecuteTime": {
     "end_time": "2020-11-29T05:15:21.521034Z",
     "start_time": "2020-11-29T05:15:21.425290Z"
    }
   },
   "outputs": [
    {
     "data": {
      "text/plain": [
       "dict_keys(['data', 'target', 'frame', 'feature_names', 'target_names', 'images', 'DESCR'])"
      ]
     },
     "execution_count": 22,
     "metadata": {},
     "output_type": "execute_result"
    },
    {
     "data": {
      "text/plain": [
       "(1797, 64)"
      ]
     },
     "execution_count": 22,
     "metadata": {},
     "output_type": "execute_result"
    },
    {
     "data": {
      "text/plain": [
       "(1797,)"
      ]
     },
     "execution_count": 22,
     "metadata": {},
     "output_type": "execute_result"
    },
    {
     "data": {
      "text/plain": [
       "array([ 0.,  0.,  0., 12., 13.,  5.,  0.,  0.,  0.,  0.,  0., 11., 16.,\n",
       "        9.,  0.,  0.,  0.,  0.,  3., 15., 16.,  6.,  0.,  0.,  0.,  7.,\n",
       "       15., 16., 16.,  2.,  0.,  0.,  0.,  0.,  1., 16., 16.,  3.,  0.,\n",
       "        0.,  0.,  0.,  1., 16., 16.,  6.,  0.,  0.,  0.,  0.,  1., 16.,\n",
       "       16.,  6.,  0.,  0.,  0.,  0.,  0., 11., 16., 10.,  0.,  0.])"
      ]
     },
     "execution_count": 22,
     "metadata": {},
     "output_type": "execute_result"
    },
    {
     "data": {
      "text/plain": [
       "1"
      ]
     },
     "execution_count": 22,
     "metadata": {},
     "output_type": "execute_result"
    }
   ],
   "source": [
    "# 数据展示\n",
    "import sklearn.datasets\n",
    "digits = datasets.load_digits()\n",
    "\n",
    "digits.keys()\n",
    "\n",
    "X_digits = digits.data\n",
    "y_digits = digits.target\n",
    "\n",
    "X_digits.shape\n",
    "y_digits.shape\n",
    "\n",
    "X_digits[1]\n",
    "y_digits[1]"
   ]
  },
  {
   "cell_type": "code",
   "execution_count": 23,
   "metadata": {
    "ExecuteTime": {
     "end_time": "2020-11-29T05:15:21.611834Z",
     "start_time": "2020-11-29T05:15:21.522033Z"
    }
   },
   "outputs": [
    {
     "data": {
      "text/plain": [
       "<matplotlib.image.AxesImage at 0x1acc664a128>"
      ]
     },
     "execution_count": 23,
     "metadata": {},
     "output_type": "execute_result"
    },
    {
     "data": {
      "image/png": "[encoded data removed]",
      "text/plain": [
       "<Figure size 432x288 with 1 Axes>"
      ]
     },
     "metadata": {
      "needs_background": "light"
     },
     "output_type": "display_data"
    }
   ],
   "source": [
    "# 绘图\n",
    "import matplotlib\n",
    "\n",
    "digits_1_image = X_digits[1].reshape(8,8)\n",
    "plt.imshow(digits_1_image, cmap=matplotlib.cm.binary)\n",
    "plt.show()"
   ]
  },
  {
   "cell_type": "code",
   "execution_count": 24,
   "metadata": {
    "ExecuteTime": {
     "end_time": "2020-11-29T05:15:25.530179Z",
     "start_time": "2020-11-29T05:15:21.612789Z"
    }
   },
   "outputs": [
    {
     "data": {
      "text/plain": [
       "KNN(k=6)"
      ]
     },
     "execution_count": 24,
     "metadata": {},
     "output_type": "execute_result"
    },
    {
     "data": {
      "text/plain": [
       "0.9851576994434137"
      ]
     },
     "execution_count": 24,
     "metadata": {},
     "output_type": "execute_result"
    }
   ],
   "source": [
    "# 训练并计算准确度\n",
    "X_train, X_test, y_train, y_test = my_train_test_split(X_digits, y_digits, test_size=0.3, random_state=400)\n",
    "\n",
    "d_knn = MY_KNNClassifier(6)\n",
    "d_knn.fit(X_train, y_train)\n",
    "y_predict = d_knn.predict(X_test)\n",
    "\n",
    "accuracy = np.sum(y_test == y_predict)/len(y_test)\n",
    "accuracy"
   ]
  },
  {
   "cell_type": "markdown",
   "metadata": {},
   "source": [
    "### （二）封装"
   ]
  },
  {
   "cell_type": "code",
   "execution_count": 25,
   "metadata": {
    "ExecuteTime": {
     "end_time": "2020-11-29T05:15:25.535165Z",
     "start_time": "2020-11-29T05:15:25.531176Z"
    }
   },
   "outputs": [],
   "source": [
    "def my_accuracy_score(y_true, y_predict):\n",
    "    '''计算准确度'''\n",
    "    assert y_true.shape[0]== y_predict.shape[0], 'y_true与y_predict的行要相等'\n",
    "    \n",
    "    return np.sum(y_true == y_predict)/len(y_test)"
   ]
  },
  {
   "cell_type": "code",
   "execution_count": 26,
   "metadata": {
    "ExecuteTime": {
     "end_time": "2020-11-29T05:15:25.542189Z",
     "start_time": "2020-11-29T05:15:25.536163Z"
    }
   },
   "outputs": [
    {
     "data": {
      "text/plain": [
       "0.9851576994434137"
      ]
     },
     "execution_count": 26,
     "metadata": {},
     "output_type": "execute_result"
    }
   ],
   "source": [
    "my_accuracy_score(y_test, y_predict)"
   ]
  },
  {
   "cell_type": "markdown",
   "metadata": {},
   "source": [
    "### （三）scikit - learn 中的 accuracy_score"
   ]
  },
  {
   "cell_type": "code",
   "execution_count": 27,
   "metadata": {
    "ExecuteTime": {
     "end_time": "2020-11-29T05:15:25.549199Z",
     "start_time": "2020-11-29T05:15:25.543145Z"
    }
   },
   "outputs": [
    {
     "data": {
      "text/plain": [
       "0.9851576994434137"
      ]
     },
     "execution_count": 27,
     "metadata": {},
     "output_type": "execute_result"
    }
   ],
   "source": [
    "from sklearn.metrics import accuracy_score\n",
    "\n",
    "accuracy_score(y_test, y_predict)"
   ]
  },
  {
   "cell_type": "markdown",
   "metadata": {},
   "source": [
    "## 四、超参数"
   ]
  },
  {
   "cell_type": "code",
   "execution_count": 28,
   "metadata": {
    "ExecuteTime": {
     "end_time": "2020-11-29T05:15:25.614954Z",
     "start_time": "2020-11-29T05:15:25.550126Z"
    }
   },
   "outputs": [],
   "source": [
    "import sklearn.datasets\n",
    "from sklearn.neighbors import KNeighborsClassifier as S_KNN\n",
    "from sklearn.model_selection import train_test_split\n",
    "\n",
    "digits = datasets.load_digits()\n",
    "\n",
    "X_digits = digits.data\n",
    "y_digits = digits.target\n",
    "\n",
    "X_train, X_test, y_train, y_test = train_test_split(X_digits, y_digits, test_size=0.3, random_state=400)"
   ]
  },
  {
   "cell_type": "markdown",
   "metadata": {},
   "source": [
    "### （一）寻找最优的近邻个数 - n_neighbors参数"
   ]
  },
  {
   "cell_type": "code",
   "execution_count": 29,
   "metadata": {
    "ExecuteTime": {
     "end_time": "2020-11-29T05:15:26.449765Z",
     "start_time": "2020-11-29T05:15:25.616947Z"
    }
   },
   "outputs": [
    {
     "data": {
      "text/plain": [
       "KNeighborsClassifier(n_neighbors=1)"
      ]
     },
     "execution_count": 29,
     "metadata": {},
     "output_type": "execute_result"
    },
    {
     "data": {
      "text/plain": [
       "KNeighborsClassifier(n_neighbors=2)"
      ]
     },
     "execution_count": 29,
     "metadata": {},
     "output_type": "execute_result"
    },
    {
     "data": {
      "text/plain": [
       "KNeighborsClassifier(n_neighbors=3)"
      ]
     },
     "execution_count": 29,
     "metadata": {},
     "output_type": "execute_result"
    },
    {
     "data": {
      "text/plain": [
       "KNeighborsClassifier(n_neighbors=4)"
      ]
     },
     "execution_count": 29,
     "metadata": {},
     "output_type": "execute_result"
    },
    {
     "data": {
      "text/plain": [
       "KNeighborsClassifier()"
      ]
     },
     "execution_count": 29,
     "metadata": {},
     "output_type": "execute_result"
    },
    {
     "data": {
      "text/plain": [
       "KNeighborsClassifier(n_neighbors=6)"
      ]
     },
     "execution_count": 29,
     "metadata": {},
     "output_type": "execute_result"
    },
    {
     "data": {
      "text/plain": [
       "KNeighborsClassifier(n_neighbors=7)"
      ]
     },
     "execution_count": 29,
     "metadata": {},
     "output_type": "execute_result"
    },
    {
     "data": {
      "text/plain": [
       "KNeighborsClassifier(n_neighbors=8)"
      ]
     },
     "execution_count": 29,
     "metadata": {},
     "output_type": "execute_result"
    },
    {
     "data": {
      "text/plain": [
       "KNeighborsClassifier(n_neighbors=9)"
      ]
     },
     "execution_count": 29,
     "metadata": {},
     "output_type": "execute_result"
    },
    {
     "data": {
      "text/plain": [
       "[<matplotlib.lines.Line2D at 0x1acc55bba90>]"
      ]
     },
     "execution_count": 29,
     "metadata": {},
     "output_type": "execute_result"
    },
    {
     "data": {
      "image/png": "[encoded data removed]",
      "text/plain": [
       "<Figure size 432x288 with 1 Axes>"
      ]
     },
     "metadata": {
      "needs_background": "light"
     },
     "output_type": "display_data"
    },
    {
     "name": "stdout",
     "output_type": "stream",
     "text": [
      "最好的参数k为1\n",
      "最好的分数为0.9925925925925926\n"
     ]
    }
   ],
   "source": [
    "# 寻找最优k\n",
    "best_score = 0.0\n",
    "best_k = -1\n",
    "k_list = []\n",
    "score_list = []\n",
    "\n",
    "\n",
    "for k in range(1,10):\n",
    "    \n",
    "    s_knn = S_KNN(k)\n",
    "    s_knn.fit(X_train, y_train)\n",
    "    score = s_knn.score(X_test, y_test)\n",
    "    \n",
    "    k_list.append(k)\n",
    "    score_list.append(score)\n",
    "    \n",
    "    if score > best_score:\n",
    "        best_score = score\n",
    "        best_k = k\n",
    "        \n",
    "plt.plot(k_list, score_list, color='steelblue')\n",
    "plt.show()\n",
    "\n",
    "print('最好的参数k为{}'.format(best_k))\n",
    "print('最好的分数为{}'.format(best_score))"
   ]
  },
  {
   "cell_type": "markdown",
   "metadata": {},
   "source": [
    "### （二）是否考虑距离权重 - weights参数"
   ]
  },
  {
   "cell_type": "markdown",
   "metadata": {},
   "source": [
    "![png](pic_1.png)\n",
    "\n",
    "到目前为止，我们在实现kNN算法时，都只考虑了离预测点最近k个样本的类别频率，而忽略了预测点离样本的距离权重。\n",
    "\n",
    "例如上图中，预测点（绿色点）实际上离4号样本点更近，我们如果完全只考虑类别频率，那么预测点k个近邻中，更多的是恶性样本（红色：y = 1），而忽略了更近的4号样本点（良性 - 蓝色：y = 0），则有可能造成误判。\n",
    "\n",
    "因此，我们似乎有必要在进行预测时，考虑距离的权重。\n",
    "\n",
    "scikit - learn 中的kNN为我们提供了选择距离权重的参数weights：不考虑距离权重：'uniform'；考虑距离权重：'distance'"
   ]
  },
  {
   "cell_type": "code",
   "execution_count": 30,
   "metadata": {
    "ExecuteTime": {
     "end_time": "2020-11-29T05:15:27.978634Z",
     "start_time": "2020-11-29T05:15:26.450721Z"
    },
    "scrolled": false
   },
   "outputs": [
    {
     "data": {
      "text/plain": [
       "KNeighborsClassifier(n_neighbors=1)"
      ]
     },
     "execution_count": 30,
     "metadata": {},
     "output_type": "execute_result"
    },
    {
     "data": {
      "text/plain": [
       "KNeighborsClassifier(n_neighbors=2)"
      ]
     },
     "execution_count": 30,
     "metadata": {},
     "output_type": "execute_result"
    },
    {
     "data": {
      "text/plain": [
       "KNeighborsClassifier(n_neighbors=3)"
      ]
     },
     "execution_count": 30,
     "metadata": {},
     "output_type": "execute_result"
    },
    {
     "data": {
      "text/plain": [
       "KNeighborsClassifier(n_neighbors=4)"
      ]
     },
     "execution_count": 30,
     "metadata": {},
     "output_type": "execute_result"
    },
    {
     "data": {
      "text/plain": [
       "KNeighborsClassifier()"
      ]
     },
     "execution_count": 30,
     "metadata": {},
     "output_type": "execute_result"
    },
    {
     "data": {
      "text/plain": [
       "KNeighborsClassifier(n_neighbors=6)"
      ]
     },
     "execution_count": 30,
     "metadata": {},
     "output_type": "execute_result"
    },
    {
     "data": {
      "text/plain": [
       "KNeighborsClassifier(n_neighbors=7)"
      ]
     },
     "execution_count": 30,
     "metadata": {},
     "output_type": "execute_result"
    },
    {
     "data": {
      "text/plain": [
       "KNeighborsClassifier(n_neighbors=8)"
      ]
     },
     "execution_count": 30,
     "metadata": {},
     "output_type": "execute_result"
    },
    {
     "data": {
      "text/plain": [
       "KNeighborsClassifier(n_neighbors=9)"
      ]
     },
     "execution_count": 30,
     "metadata": {},
     "output_type": "execute_result"
    },
    {
     "data": {
      "text/plain": [
       "[<matplotlib.lines.Line2D at 0x1acc543a470>]"
      ]
     },
     "execution_count": 30,
     "metadata": {},
     "output_type": "execute_result"
    },
    {
     "data": {
      "text/plain": [
       "KNeighborsClassifier(n_neighbors=1, weights='distance')"
      ]
     },
     "execution_count": 30,
     "metadata": {},
     "output_type": "execute_result"
    },
    {
     "data": {
      "text/plain": [
       "KNeighborsClassifier(n_neighbors=2, weights='distance')"
      ]
     },
     "execution_count": 30,
     "metadata": {},
     "output_type": "execute_result"
    },
    {
     "data": {
      "text/plain": [
       "KNeighborsClassifier(n_neighbors=3, weights='distance')"
      ]
     },
     "execution_count": 30,
     "metadata": {},
     "output_type": "execute_result"
    },
    {
     "data": {
      "text/plain": [
       "KNeighborsClassifier(n_neighbors=4, weights='distance')"
      ]
     },
     "execution_count": 30,
     "metadata": {},
     "output_type": "execute_result"
    },
    {
     "data": {
      "text/plain": [
       "KNeighborsClassifier(weights='distance')"
      ]
     },
     "execution_count": 30,
     "metadata": {},
     "output_type": "execute_result"
    },
    {
     "data": {
      "text/plain": [
       "KNeighborsClassifier(n_neighbors=6, weights='distance')"
      ]
     },
     "execution_count": 30,
     "metadata": {},
     "output_type": "execute_result"
    },
    {
     "data": {
      "text/plain": [
       "KNeighborsClassifier(n_neighbors=7, weights='distance')"
      ]
     },
     "execution_count": 30,
     "metadata": {},
     "output_type": "execute_result"
    },
    {
     "data": {
      "text/plain": [
       "KNeighborsClassifier(n_neighbors=8, weights='distance')"
      ]
     },
     "execution_count": 30,
     "metadata": {},
     "output_type": "execute_result"
    },
    {
     "data": {
      "text/plain": [
       "KNeighborsClassifier(n_neighbors=9, weights='distance')"
      ]
     },
     "execution_count": 30,
     "metadata": {},
     "output_type": "execute_result"
    },
    {
     "data": {
      "text/plain": [
       "[<matplotlib.lines.Line2D at 0x1acc5440358>]"
      ]
     },
     "execution_count": 30,
     "metadata": {},
     "output_type": "execute_result"
    },
    {
     "data": {
      "text/plain": [
       "<matplotlib.legend.Legend at 0x1acc55e1550>"
      ]
     },
     "execution_count": 30,
     "metadata": {},
     "output_type": "execute_result"
    },
    {
     "data": {
      "image/png": "[encoded data removed]",
      "text/plain": [
       "<Figure size 432x288 with 1 Axes>"
      ]
     },
     "metadata": {
      "needs_background": "light"
     },
     "output_type": "display_data"
    },
    {
     "name": "stdout",
     "output_type": "stream",
     "text": [
      "最好的参数k为1\n",
      "最好的参数weights为'uniform'\n",
      "最好的分数为0.9925925925925926\n"
     ]
    }
   ],
   "source": [
    "# 进一步加入权重搜索\n",
    "from matplotlib import colors\n",
    "color_list = [color for color in colors.XKCD_COLORS.values()]\n",
    "\n",
    "best_score = 0.0\n",
    "best_k = -1\n",
    "best_weight = ''\n",
    "k_list = []\n",
    "score_list = []\n",
    "\n",
    "for weight in ['uniform', 'distance']:\n",
    "    for k in range(1,10):\n",
    "        s_knn = S_KNN(n_neighbors=k, weights=weight)\n",
    "        s_knn.fit(X_train, y_train)\n",
    "        score = s_knn.score(X_test, y_test)\n",
    "        \n",
    "        k_list.append(k)\n",
    "        score_list.append(score)\n",
    "        \n",
    "        if score > best_score:\n",
    "            best_score = score\n",
    "            best_k = k\n",
    "            best_weight = weight\n",
    "                 \n",
    "    plt.plot(k_list, score_list, color=np.random.choice(color_list), label=weight)\n",
    "    k_list = []\n",
    "    score_list = []\n",
    "        \n",
    "plt.legend()\n",
    "plt.show()\n",
    "\n",
    "print('最好的参数k为{}'.format(best_k))\n",
    "print('最好的参数weights为\\'{}\\''.format(best_weight))\n",
    "print('最好的分数为{}'.format(best_score))"
   ]
  },
  {
   "cell_type": "code",
   "execution_count": 31,
   "metadata": {
    "ExecuteTime": {
     "end_time": "2020-11-29T05:15:27.984620Z",
     "start_time": "2020-11-29T05:15:27.979632Z"
    },
    "scrolled": false
   },
   "outputs": [
    {
     "data": {
      "text/plain": [
       "'#acc2d9'"
      ]
     },
     "execution_count": 31,
     "metadata": {},
     "output_type": "execute_result"
    }
   ],
   "source": [
    "# 拓展 - 将list转化成迭代器\n",
    "from matplotlib import colors\n",
    "next(iter([color for color in colors.XKCD_COLORS.values()]))"
   ]
  },
  {
   "cell_type": "markdown",
   "metadata": {},
   "source": [
    "### （三）明可夫斯基距离 - p参数"
   ]
  },
  {
   "cell_type": "markdown",
   "metadata": {},
   "source": [
    "对于两点间的距离，有不同的定义：\n",
    "\n",
    "#### 1、欧拉距离\n",
    "$$\n",
    "\\sqrt{\\sum_{i=1}^{n}(X_i^{(a)}-X_i^{(b)})^2}\n",
    "$$\n",
    "\n",
    "$$\n",
    "即：(\\sum_{i=1}^{n}\\mid X_i^{(a)}-X_i^{(b)}\\mid^2)^{1/2}\n",
    "$$\n",
    "\n",
    "#### 2、曼哈顿距离\n",
    "$$\n",
    "\\sum_{i=1}^{n}\\mid X_i^{(a)}-X_i^{(b)}\\mid\n",
    "$$\n",
    "\n",
    "$$\n",
    "即：(\\sum_{i=1}^{n}\\mid X_i^{(a)}-X_i^{(b)}\\mid)^{1/1}\n",
    "$$\n",
    "\n",
    "#### 3、明可夫斯基距离\n",
    "$$\n",
    "(\\sum_{i=1}^{n}\\mid X_i^{(a)}-X_i^{(b)}\\mid^p)^{1/p}\n",
    "$$"
   ]
  },
  {
   "cell_type": "code",
   "execution_count": 32,
   "metadata": {
    "ExecuteTime": {
     "end_time": "2020-11-29T05:15:48.437957Z",
     "start_time": "2020-11-29T05:15:27.985616Z"
    },
    "scrolled": false
   },
   "outputs": [
    {
     "data": {
      "text/plain": [
       "KNeighborsClassifier(n_neighbors=1, p=1, weights='distance')"
      ]
     },
     "execution_count": 32,
     "metadata": {},
     "output_type": "execute_result"
    },
    {
     "data": {
      "text/plain": [
       "KNeighborsClassifier(n_neighbors=2, p=1, weights='distance')"
      ]
     },
     "execution_count": 32,
     "metadata": {},
     "output_type": "execute_result"
    },
    {
     "data": {
      "text/plain": [
       "KNeighborsClassifier(n_neighbors=3, p=1, weights='distance')"
      ]
     },
     "execution_count": 32,
     "metadata": {},
     "output_type": "execute_result"
    },
    {
     "data": {
      "text/plain": [
       "KNeighborsClassifier(n_neighbors=4, p=1, weights='distance')"
      ]
     },
     "execution_count": 32,
     "metadata": {},
     "output_type": "execute_result"
    },
    {
     "data": {
      "text/plain": [
       "KNeighborsClassifier(p=1, weights='distance')"
      ]
     },
     "execution_count": 32,
     "metadata": {},
     "output_type": "execute_result"
    },
    {
     "data": {
      "text/plain": [
       "KNeighborsClassifier(n_neighbors=6, p=1, weights='distance')"
      ]
     },
     "execution_count": 32,
     "metadata": {},
     "output_type": "execute_result"
    },
    {
     "data": {
      "text/plain": [
       "KNeighborsClassifier(n_neighbors=7, p=1, weights='distance')"
      ]
     },
     "execution_count": 32,
     "metadata": {},
     "output_type": "execute_result"
    },
    {
     "data": {
      "text/plain": [
       "KNeighborsClassifier(n_neighbors=8, p=1, weights='distance')"
      ]
     },
     "execution_count": 32,
     "metadata": {},
     "output_type": "execute_result"
    },
    {
     "data": {
      "text/plain": [
       "KNeighborsClassifier(n_neighbors=9, p=1, weights='distance')"
      ]
     },
     "execution_count": 32,
     "metadata": {},
     "output_type": "execute_result"
    },
    {
     "data": {
      "text/plain": [
       "[<matplotlib.lines.Line2D at 0x1acc54fe5c0>]"
      ]
     },
     "execution_count": 32,
     "metadata": {},
     "output_type": "execute_result"
    },
    {
     "data": {
      "text/plain": [
       "KNeighborsClassifier(n_neighbors=1, weights='distance')"
      ]
     },
     "execution_count": 32,
     "metadata": {},
     "output_type": "execute_result"
    },
    {
     "data": {
      "text/plain": [
       "KNeighborsClassifier(n_neighbors=2, weights='distance')"
      ]
     },
     "execution_count": 32,
     "metadata": {},
     "output_type": "execute_result"
    },
    {
     "data": {
      "text/plain": [
       "KNeighborsClassifier(n_neighbors=3, weights='distance')"
      ]
     },
     "execution_count": 32,
     "metadata": {},
     "output_type": "execute_result"
    },
    {
     "data": {
      "text/plain": [
       "KNeighborsClassifier(n_neighbors=4, weights='distance')"
      ]
     },
     "execution_count": 32,
     "metadata": {},
     "output_type": "execute_result"
    },
    {
     "data": {
      "text/plain": [
       "KNeighborsClassifier(weights='distance')"
      ]
     },
     "execution_count": 32,
     "metadata": {},
     "output_type": "execute_result"
    },
    {
     "data": {
      "text/plain": [
       "KNeighborsClassifier(n_neighbors=6, weights='distance')"
      ]
     },
     "execution_count": 32,
     "metadata": {},
     "output_type": "execute_result"
    },
    {
     "data": {
      "text/plain": [
       "KNeighborsClassifier(n_neighbors=7, weights='distance')"
      ]
     },
     "execution_count": 32,
     "metadata": {},
     "output_type": "execute_result"
    },
    {
     "data": {
      "text/plain": [
       "KNeighborsClassifier(n_neighbors=8, weights='distance')"
      ]
     },
     "execution_count": 32,
     "metadata": {},
     "output_type": "execute_result"
    },
    {
     "data": {
      "text/plain": [
       "KNeighborsClassifier(n_neighbors=9, weights='distance')"
      ]
     },
     "execution_count": 32,
     "metadata": {},
     "output_type": "execute_result"
    },
    {
     "data": {
      "text/plain": [
       "[<matplotlib.lines.Line2D at 0x1acc55075f8>]"
      ]
     },
     "execution_count": 32,
     "metadata": {},
     "output_type": "execute_result"
    },
    {
     "data": {
      "text/plain": [
       "KNeighborsClassifier(n_neighbors=1, p=3, weights='distance')"
      ]
     },
     "execution_count": 32,
     "metadata": {},
     "output_type": "execute_result"
    },
    {
     "data": {
      "text/plain": [
       "KNeighborsClassifier(n_neighbors=2, p=3, weights='distance')"
      ]
     },
     "execution_count": 32,
     "metadata": {},
     "output_type": "execute_result"
    },
    {
     "data": {
      "text/plain": [
       "KNeighborsClassifier(n_neighbors=3, p=3, weights='distance')"
      ]
     },
     "execution_count": 32,
     "metadata": {},
     "output_type": "execute_result"
    },
    {
     "data": {
      "text/plain": [
       "KNeighborsClassifier(n_neighbors=4, p=3, weights='distance')"
      ]
     },
     "execution_count": 32,
     "metadata": {},
     "output_type": "execute_result"
    },
    {
     "data": {
      "text/plain": [
       "KNeighborsClassifier(p=3, weights='distance')"
      ]
     },
     "execution_count": 32,
     "metadata": {},
     "output_type": "execute_result"
    },
    {
     "data": {
      "text/plain": [
       "KNeighborsClassifier(n_neighbors=6, p=3, weights='distance')"
      ]
     },
     "execution_count": 32,
     "metadata": {},
     "output_type": "execute_result"
    },
    {
     "data": {
      "text/plain": [
       "KNeighborsClassifier(n_neighbors=7, p=3, weights='distance')"
      ]
     },
     "execution_count": 32,
     "metadata": {},
     "output_type": "execute_result"
    },
    {
     "data": {
      "text/plain": [
       "KNeighborsClassifier(n_neighbors=8, p=3, weights='distance')"
      ]
     },
     "execution_count": 32,
     "metadata": {},
     "output_type": "execute_result"
    },
    {
     "data": {
      "text/plain": [
       "KNeighborsClassifier(n_neighbors=9, p=3, weights='distance')"
      ]
     },
     "execution_count": 32,
     "metadata": {},
     "output_type": "execute_result"
    },
    {
     "data": {
      "text/plain": [
       "[<matplotlib.lines.Line2D at 0x1acc551e5f8>]"
      ]
     },
     "execution_count": 32,
     "metadata": {},
     "output_type": "execute_result"
    },
    {
     "data": {
      "text/plain": [
       "KNeighborsClassifier(n_neighbors=1, p=4, weights='distance')"
      ]
     },
     "execution_count": 32,
     "metadata": {},
     "output_type": "execute_result"
    },
    {
     "data": {
      "text/plain": [
       "KNeighborsClassifier(n_neighbors=2, p=4, weights='distance')"
      ]
     },
     "execution_count": 32,
     "metadata": {},
     "output_type": "execute_result"
    },
    {
     "data": {
      "text/plain": [
       "KNeighborsClassifier(n_neighbors=3, p=4, weights='distance')"
      ]
     },
     "execution_count": 32,
     "metadata": {},
     "output_type": "execute_result"
    },
    {
     "data": {
      "text/plain": [
       "KNeighborsClassifier(n_neighbors=4, p=4, weights='distance')"
      ]
     },
     "execution_count": 32,
     "metadata": {},
     "output_type": "execute_result"
    },
    {
     "data": {
      "text/plain": [
       "KNeighborsClassifier(p=4, weights='distance')"
      ]
     },
     "execution_count": 32,
     "metadata": {},
     "output_type": "execute_result"
    },
    {
     "data": {
      "text/plain": [
       "KNeighborsClassifier(n_neighbors=6, p=4, weights='distance')"
      ]
     },
     "execution_count": 32,
     "metadata": {},
     "output_type": "execute_result"
    },
    {
     "data": {
      "text/plain": [
       "KNeighborsClassifier(n_neighbors=7, p=4, weights='distance')"
      ]
     },
     "execution_count": 32,
     "metadata": {},
     "output_type": "execute_result"
    },
    {
     "data": {
      "text/plain": [
       "KNeighborsClassifier(n_neighbors=8, p=4, weights='distance')"
      ]
     },
     "execution_count": 32,
     "metadata": {},
     "output_type": "execute_result"
    },
    {
     "data": {
      "text/plain": [
       "KNeighborsClassifier(n_neighbors=9, p=4, weights='distance')"
      ]
     },
     "execution_count": 32,
     "metadata": {},
     "output_type": "execute_result"
    },
    {
     "data": {
      "text/plain": [
       "[<matplotlib.lines.Line2D at 0x1acc5507b70>]"
      ]
     },
     "execution_count": 32,
     "metadata": {},
     "output_type": "execute_result"
    },
    {
     "data": {
      "text/plain": [
       "KNeighborsClassifier(n_neighbors=1, p=5, weights='distance')"
      ]
     },
     "execution_count": 32,
     "metadata": {},
     "output_type": "execute_result"
    },
    {
     "data": {
      "text/plain": [
       "KNeighborsClassifier(n_neighbors=2, p=5, weights='distance')"
      ]
     },
     "execution_count": 32,
     "metadata": {},
     "output_type": "execute_result"
    },
    {
     "data": {
      "text/plain": [
       "KNeighborsClassifier(n_neighbors=3, p=5, weights='distance')"
      ]
     },
     "execution_count": 32,
     "metadata": {},
     "output_type": "execute_result"
    },
    {
     "data": {
      "text/plain": [
       "KNeighborsClassifier(n_neighbors=4, p=5, weights='distance')"
      ]
     },
     "execution_count": 32,
     "metadata": {},
     "output_type": "execute_result"
    },
    {
     "data": {
      "text/plain": [
       "KNeighborsClassifier(p=5, weights='distance')"
      ]
     },
     "execution_count": 32,
     "metadata": {},
     "output_type": "execute_result"
    },
    {
     "data": {
      "text/plain": [
       "KNeighborsClassifier(n_neighbors=6, p=5, weights='distance')"
      ]
     },
     "execution_count": 32,
     "metadata": {},
     "output_type": "execute_result"
    },
    {
     "data": {
      "text/plain": [
       "KNeighborsClassifier(n_neighbors=7, p=5, weights='distance')"
      ]
     },
     "execution_count": 32,
     "metadata": {},
     "output_type": "execute_result"
    },
    {
     "data": {
      "text/plain": [
       "KNeighborsClassifier(n_neighbors=8, p=5, weights='distance')"
      ]
     },
     "execution_count": 32,
     "metadata": {},
     "output_type": "execute_result"
    },
    {
     "data": {
      "text/plain": [
       "KNeighborsClassifier(n_neighbors=9, p=5, weights='distance')"
      ]
     },
     "execution_count": 32,
     "metadata": {},
     "output_type": "execute_result"
    },
    {
     "data": {
      "text/plain": [
       "[<matplotlib.lines.Line2D at 0x1acc54fecf8>]"
      ]
     },
     "execution_count": 32,
     "metadata": {},
     "output_type": "execute_result"
    },
    {
     "data": {
      "text/plain": [
       "<matplotlib.legend.Legend at 0x1acc54b8ef0>"
      ]
     },
     "execution_count": 32,
     "metadata": {},
     "output_type": "execute_result"
    },
    {
     "data": {
      "image/png": "[encoded data removed]",
      "text/plain": [
       "<Figure size 432x288 with 1 Axes>"
      ]
     },
     "metadata": {
      "needs_background": "light"
     },
     "output_type": "display_data"
    },
    {
     "name": "stdout",
     "output_type": "stream",
     "text": [
      "最好的参数k为1\n",
      "最好的参数p为'3'\n",
      "最好的分数为0.9944444444444445\n"
     ]
    }
   ],
   "source": [
    "# 加入p参数搜索\n",
    "from matplotlib import colors\n",
    "color_list = [color for color in colors.XKCD_COLORS.values()]\n",
    "\n",
    "best_score = 0.0\n",
    "best_k = -1\n",
    "best_p = -1\n",
    "k_list = []\n",
    "score_list = []\n",
    "\n",
    "for p in range(1,6):\n",
    "    for k in range(1,10):\n",
    "        s_knn = S_KNN(n_neighbors=k, weights='distance', p=p)\n",
    "        s_knn.fit(X_train, y_train)\n",
    "        score = s_knn.score(X_test, y_test)\n",
    "        \n",
    "        k_list.append(k)\n",
    "        score_list.append(score)\n",
    "            \n",
    "        if score > best_score:\n",
    "            best_score = score\n",
    "            best_k = k\n",
    "            best_p = p\n",
    "            \n",
    "    plt.plot(k_list, score_list, color=np.random.choice(color_list), label='p = {}'.format(p))\n",
    "    k_list = []\n",
    "    score_list = []\n",
    "        \n",
    "plt.legend()\n",
    "plt.show()\n",
    "\n",
    "print('最好的参数k为{}'.format(best_k))\n",
    "print('最好的参数p为\\'{}\\''.format(best_p))\n",
    "print('最好的分数为{}'.format(best_score))"
   ]
  },
  {
   "cell_type": "markdown",
   "metadata": {},
   "source": [
    "### （四）超参数搜索 - 网格搜索 - Grid Search"
   ]
  },
  {
   "cell_type": "code",
   "execution_count": 33,
   "metadata": {
    "ExecuteTime": {
     "end_time": "2020-11-29T05:15:48.443900Z",
     "start_time": "2020-11-29T05:15:48.438912Z"
    }
   },
   "outputs": [],
   "source": [
    "from sklearn.neighbors import KNeighborsClassifier as S_KNN\n",
    "from sklearn.model_selection import GridSearchCV \n",
    "\n",
    "# 定义需要进行搜索的超参数list\n",
    "param_grid = [\n",
    "    {\n",
    "        'weights': ['uniform'],\n",
    "        'n_neighbors': [k for k in range(1,11)]\n",
    "    },\n",
    "    {\n",
    "        'weights': ['distance'],\n",
    "        'n_neighbors': [k for k in range(1,11)],\n",
    "        'p': [p for p in range(1,6)]\n",
    "    }\n",
    "]"
   ]
  },
  {
   "cell_type": "code",
   "execution_count": 34,
   "metadata": {
    "ExecuteTime": {
     "end_time": "2020-11-29T05:15:55.413823Z",
     "start_time": "2020-11-29T05:15:48.444923Z"
    }
   },
   "outputs": [
    {
     "name": "stdout",
     "output_type": "stream",
     "text": [
      "Fitting 5 folds for each of 60 candidates, totalling 300 fits\n"
     ]
    },
    {
     "name": "stderr",
     "output_type": "stream",
     "text": [
      "[Parallel(n_jobs=-1)]: Using backend LokyBackend with 12 concurrent workers.\n",
      "[Parallel(n_jobs=-1)]: Done  17 tasks      | elapsed:    0.9s\n",
      "[Parallel(n_jobs=-1)]: Done 204 tasks      | elapsed:    4.5s\n",
      "[Parallel(n_jobs=-1)]: Done 300 out of 300 | elapsed:    6.8s finished\n"
     ]
    },
    {
     "data": {
      "text/plain": [
       "GridSearchCV(estimator=KNeighborsClassifier(), n_jobs=-1,\n",
       "             param_grid=[{'n_neighbors': [1, 2, 3, 4, 5, 6, 7, 8, 9, 10],\n",
       "                          'weights': ['uniform']},\n",
       "                         {'n_neighbors': [1, 2, 3, 4, 5, 6, 7, 8, 9, 10],\n",
       "                          'p': [1, 2, 3, 4, 5], 'weights': ['distance']}],\n",
       "             verbose=2)"
      ]
     },
     "execution_count": 34,
     "metadata": {},
     "output_type": "execute_result"
    }
   ],
   "source": [
    "s_knn = S_KNN()\n",
    "# 参数n_jobs调用多核处理，提高搜索效率；参数verbose是搜索时能够实时显示搜索信息\n",
    "grid_search = GridSearchCV(s_knn, param_grid, n_jobs=-1, verbose=2)\n",
    "grid_search.fit(X_train, y_train)"
   ]
  },
  {
   "cell_type": "code",
   "execution_count": 35,
   "metadata": {
    "ExecuteTime": {
     "end_time": "2020-11-29T05:15:56.118528Z",
     "start_time": "2020-11-29T05:15:55.414821Z"
    }
   },
   "outputs": [
    {
     "data": {
      "text/plain": [
       "KNeighborsClassifier(n_neighbors=4, p=4, weights='distance')"
      ]
     },
     "execution_count": 35,
     "metadata": {},
     "output_type": "execute_result"
    },
    {
     "data": {
      "text/plain": [
       "0.9840985265288055"
      ]
     },
     "execution_count": 35,
     "metadata": {},
     "output_type": "execute_result"
    },
    {
     "data": {
      "text/plain": [
       "{'n_neighbors': 4, 'p': 4, 'weights': 'distance'}"
      ]
     },
     "execution_count": 35,
     "metadata": {},
     "output_type": "execute_result"
    },
    {
     "data": {
      "text/plain": [
       "0.9907407407407407"
      ]
     },
     "execution_count": 35,
     "metadata": {},
     "output_type": "execute_result"
    }
   ],
   "source": [
    "# 找出最优超参数组合下的分类器\n",
    "grid_search.best_estimator_  # 这里得出的最优组合似乎跟我们前文的组合不太一样，原因是因为GridSearchCV采用的是交叉验证方法，后文会详细解释\n",
    "# 查看最优超参数组合下的得分\n",
    "grid_search.best_score_  \n",
    "# 找出最优超参数组合\n",
    "grid_search.best_params_\n",
    "\n",
    "# 用最优的分类器进行预测\n",
    "s_knn = grid_search.best_estimator_\n",
    "s_knn.score(X_test, y_test)"
   ]
  },
  {
   "cell_type": "markdown",
   "metadata": {},
   "source": [
    "*其他超参数*\n",
    "\n",
    "metrics: [http://scikit-learn.org/stable/modules/generated/sklearn.neighbors.DistanceMetric.html](http://scikit-learn.org/stable/modules/generated/sklearn.neighbors.DistanceMetric.html)"
   ]
  },
  {
   "cell_type": "markdown",
   "metadata": {},
   "source": [
    "## 五、数据归一化"
   ]
  },
  {
   "cell_type": "markdown",
   "metadata": {},
   "source": [
    "以肿瘤分类为例：\n",
    "\n",
    "|肿瘤大小（cm）|存在时长（天）|\n",
    "|--------|--------|\n",
    "|4|200|\n",
    "|3|150|\n",
    "|6|230|\n",
    "|4|190|\n",
    "\n",
    "在进行预测时，我们计算的是预测点到各个观测样本点的距离，由于特征“存在时长”数值量级较大，这样就会导致这个距离完全由特征“存在时长”主导了。\n",
    "\n",
    "因此我们需要对特征“存在时长”进行归一化。\n",
    "\n",
    "常见的归一化方法有：\n",
    "\n",
    "#### 1、最值归一化\n",
    "$$\n",
    "X_{scale} = \\frac{(X-X_{min})}{(X_{max}-X_{min})}\n",
    "$$\n",
    "\n",
    "最值归一化适用于边界明显的数据，但是容易受到极端值的影响。\n",
    "\n",
    "#### 2、均值方差归一化\n",
    "$$\n",
    "X_{scale} = \\frac{(X-X_{mean})}{X_{std}} \n",
    "\\\\其中：X_{std}为标准差\n",
    "$$\n",
    "\n",
    "均值方差归一化将数据归一到均值为0，方差为1的分布中，适用于没有明显边界的数据，不受极端值的影响。"
   ]
  },
  {
   "cell_type": "markdown",
   "metadata": {},
   "source": [
    "### （一）分步实现"
   ]
  },
  {
   "cell_type": "markdown",
   "metadata": {},
   "source": [
    "#### 1、最值归一化"
   ]
  },
  {
   "cell_type": "code",
   "execution_count": 36,
   "metadata": {
    "ExecuteTime": {
     "end_time": "2020-11-29T05:15:56.127499Z",
     "start_time": "2020-11-29T05:15:56.119484Z"
    }
   },
   "outputs": [
    {
     "data": {
      "text/plain": [
       "array([92, 79, 62, 57, 12, 23,  6,  8, 63, 70, 27, 31, 34,  1, 39, 14, 81,\n",
       "       69, 50, 23, 21, 78,  4, 99, 49, 14, 52, 49, 67, 73, 33, 84, 90, 22,\n",
       "       29, 44, 76,  1, 37,  5, 37, 36, 67, 74, 88, 46, 64, 33, 84, 84, 53,\n",
       "        6, 43, 50, 79, 90, 18, 83, 93, 23, 89,  3, 15, 52, 84,  0, 85, 73,\n",
       "       95, 16, 92, 81, 98, 16, 70, 42, 23, 23, 80, 34, 71, 78, 12, 31, 31,\n",
       "       42, 72, 80,  3, 84, 30, 87, 90, 77, 32, 58, 17, 90,  2, 37])"
      ]
     },
     "execution_count": 36,
     "metadata": {},
     "output_type": "execute_result"
    },
    {
     "data": {
      "text/plain": [
       "array([0.92929293, 0.7979798 , 0.62626263, 0.57575758, 0.12121212,\n",
       "       0.23232323, 0.06060606, 0.08080808, 0.63636364, 0.70707071,\n",
       "       0.27272727, 0.31313131, 0.34343434, 0.01010101, 0.39393939,\n",
       "       0.14141414, 0.81818182, 0.6969697 , 0.50505051, 0.23232323,\n",
       "       0.21212121, 0.78787879, 0.04040404, 1.        , 0.49494949,\n",
       "       0.14141414, 0.52525253, 0.49494949, 0.67676768, 0.73737374,\n",
       "       0.33333333, 0.84848485, 0.90909091, 0.22222222, 0.29292929,\n",
       "       0.44444444, 0.76767677, 0.01010101, 0.37373737, 0.05050505,\n",
       "       0.37373737, 0.36363636, 0.67676768, 0.74747475, 0.88888889,\n",
       "       0.46464646, 0.64646465, 0.33333333, 0.84848485, 0.84848485,\n",
       "       0.53535354, 0.06060606, 0.43434343, 0.50505051, 0.7979798 ,\n",
       "       0.90909091, 0.18181818, 0.83838384, 0.93939394, 0.23232323,\n",
       "       0.8989899 , 0.03030303, 0.15151515, 0.52525253, 0.84848485,\n",
       "       0.        , 0.85858586, 0.73737374, 0.95959596, 0.16161616,\n",
       "       0.92929293, 0.81818182, 0.98989899, 0.16161616, 0.70707071,\n",
       "       0.42424242, 0.23232323, 0.23232323, 0.80808081, 0.34343434,\n",
       "       0.71717172, 0.78787879, 0.12121212, 0.31313131, 0.31313131,\n",
       "       0.42424242, 0.72727273, 0.80808081, 0.03030303, 0.84848485,\n",
       "       0.3030303 , 0.87878788, 0.90909091, 0.77777778, 0.32323232,\n",
       "       0.58585859, 0.17171717, 0.90909091, 0.02020202, 0.37373737])"
      ]
     },
     "execution_count": 36,
     "metadata": {},
     "output_type": "execute_result"
    }
   ],
   "source": [
    "# 单个特征\n",
    "np.random.seed(400)\n",
    "x = np.random.randint(0, 100, size=100)\n",
    "x\n",
    "\n",
    "x_scale = (x - np.min(x))/(np.max(x) - np.min(x))\n",
    "x_scale "
   ]
  },
  {
   "cell_type": "code",
   "execution_count": 37,
   "metadata": {
    "ExecuteTime": {
     "end_time": "2020-11-29T05:15:56.139430Z",
     "start_time": "2020-11-29T05:15:56.128460Z"
    }
   },
   "outputs": [
    {
     "data": {
      "text/plain": [
       "array([[20., 93.],\n",
       "       [ 3., 97.],\n",
       "       [55.,  9.],\n",
       "       [51., 18.],\n",
       "       [ 4., 41.]])"
      ]
     },
     "execution_count": 37,
     "metadata": {},
     "output_type": "execute_result"
    },
    {
     "data": {
      "text/plain": [
       "array([0.19587629, 0.02061856, 0.55670103, 0.51546392, 0.03092784])"
      ]
     },
     "execution_count": 37,
     "metadata": {},
     "output_type": "execute_result"
    },
    {
     "data": {
      "text/plain": [
       "array([0.93877551, 0.97959184, 0.08163265, 0.17346939, 0.40816327])"
      ]
     },
     "execution_count": 37,
     "metadata": {},
     "output_type": "execute_result"
    }
   ],
   "source": [
    "# 多个特征\n",
    "X = np.array(np.random.randint(1,100, size=(50,2)),dtype=float)\n",
    "X[:5]\n",
    "\n",
    "X1_scale = (X[:,0] - np.min(X[:,0]))/(np.max(X[:,0]) - np.min(X[:,0]))\n",
    "X1_scale[:5]\n",
    "\n",
    "X2_scale = (X[:,1] - np.min(X[:,1]))/(np.max(X[:,1]) - np.min(X[:,1]))\n",
    "X2_scale[:5]"
   ]
  },
  {
   "cell_type": "code",
   "execution_count": 38,
   "metadata": {
    "ExecuteTime": {
     "end_time": "2020-11-29T05:15:56.236216Z",
     "start_time": "2020-11-29T05:15:56.140428Z"
    }
   },
   "outputs": [
    {
     "data": {
      "text/plain": [
       "<matplotlib.collections.PathCollection at 0x1acc5665fd0>"
      ]
     },
     "execution_count": 38,
     "metadata": {},
     "output_type": "execute_result"
    },
    {
     "data": {
      "image/png": "[encoded data removed]",
      "text/plain": [
       "<Figure size 432x288 with 1 Axes>"
      ]
     },
     "metadata": {
      "needs_background": "light"
     },
     "output_type": "display_data"
    }
   ],
   "source": [
    "# 绘制散点图\n",
    "plt.scatter(X1_scale, X2_scale)"
   ]
  },
  {
   "cell_type": "markdown",
   "metadata": {},
   "source": [
    "#### 2、均值方差归一化"
   ]
  },
  {
   "cell_type": "code",
   "execution_count": 39,
   "metadata": {
    "ExecuteTime": {
     "end_time": "2020-11-29T05:15:56.247149Z",
     "start_time": "2020-11-29T05:15:56.237170Z"
    }
   },
   "outputs": [
    {
     "data": {
      "text/plain": [
       "array([[93., 80.],\n",
       "       [63., 58.],\n",
       "       [13., 24.],\n",
       "       [ 7.,  9.],\n",
       "       [64., 71.]])"
      ]
     },
     "execution_count": 39,
     "metadata": {},
     "output_type": "execute_result"
    },
    {
     "data": {
      "text/plain": [
       "array([ 1.57607457,  0.5428089 , -1.17930055, -1.38595369,  0.57725109])"
      ]
     },
     "execution_count": 39,
     "metadata": {},
     "output_type": "execute_result"
    },
    {
     "data": {
      "text/plain": [
       "array([ 0.8875221 ,  0.15237578, -0.98375943, -1.48499556,  0.58678042])"
      ]
     },
     "execution_count": 39,
     "metadata": {},
     "output_type": "execute_result"
    }
   ],
   "source": [
    "# 多个特征\n",
    "np.random.seed(400)\n",
    "X = np.array(np.random.randint(1,100, size=(50,2)),dtype=float)\n",
    "X[:5]\n",
    "\n",
    "X1_scale = (X[:,0] - np.mean(X[:,0]))/(np.std(X[:,0]))\n",
    "X1_scale[:5]\n",
    "\n",
    "X2_scale = (X[:,1] - np.mean(X[:,1]))/(np.std(X[:,1]))\n",
    "X2_scale[:5]"
   ]
  },
  {
   "cell_type": "code",
   "execution_count": 40,
   "metadata": {
    "ExecuteTime": {
     "end_time": "2020-11-29T05:15:56.347873Z",
     "start_time": "2020-11-29T05:15:56.248156Z"
    }
   },
   "outputs": [
    {
     "data": {
      "text/plain": [
       "<matplotlib.collections.PathCollection at 0x1acc56158d0>"
      ]
     },
     "execution_count": 40,
     "metadata": {},
     "output_type": "execute_result"
    },
    {
     "data": {
      "image/png": "[encoded data removed]",
      "text/plain": [
       "<Figure size 432x288 with 1 Axes>"
      ]
     },
     "metadata": {
      "needs_background": "light"
     },
     "output_type": "display_data"
    }
   ],
   "source": [
    "# 绘制散点图\n",
    "plt.scatter(X1_scale, X2_scale)"
   ]
  },
  {
   "cell_type": "code",
   "execution_count": 41,
   "metadata": {
    "ExecuteTime": {
     "end_time": "2020-11-29T05:15:56.356877Z",
     "start_time": "2020-11-29T05:15:56.350865Z"
    }
   },
   "outputs": [
    {
     "data": {
      "text/plain": [
       "-7.105427357601002e-17"
      ]
     },
     "execution_count": 41,
     "metadata": {},
     "output_type": "execute_result"
    },
    {
     "data": {
      "text/plain": [
       "1.0"
      ]
     },
     "execution_count": 41,
     "metadata": {},
     "output_type": "execute_result"
    },
    {
     "data": {
      "text/plain": [
       "7.105427357601002e-17"
      ]
     },
     "execution_count": 41,
     "metadata": {},
     "output_type": "execute_result"
    },
    {
     "data": {
      "text/plain": [
       "1.0"
      ]
     },
     "execution_count": 41,
     "metadata": {},
     "output_type": "execute_result"
    }
   ],
   "source": [
    "np.mean(X1_scale)\n",
    "np.std(X1_scale)\n",
    "\n",
    "np.mean(X2_scale)\n",
    "np.std(X2_scale)"
   ]
  },
  {
   "cell_type": "markdown",
   "metadata": {},
   "source": [
    "### （二）封装（以均值方差归一化为例）"
   ]
  },
  {
   "cell_type": "markdown",
   "metadata": {},
   "source": [
    "#### 1、一个注意事项"
   ]
  },
  {
   "cell_type": "markdown",
   "metadata": {},
   "source": [
    "在对训练集和测试集进行归一化处理时，要特别注意二者进行归一化的参数要统一，即应该用训练集的相关参数去归一化测试集。\n",
    "\n",
    "比如，我们在进行均值方差归一化时，首先在训练集上计算出训练集的均值：X_train_mean和标准差：X_train_std，然后对训练集进行归一化。\n",
    "\n",
    "$$\n",
    "即：X\\_train_{scale} = \\frac{(X\\_train-X\\_train\\_mean)}{X\\_train\\_std} \n",
    "$$\n",
    "\n",
    "在对测试集进行归一化时，我们应该采用在训练集上计算出来的均值：X_train_mean和标准差：X_train_std来对测试集进行归一化。\n",
    "\n",
    "$$\n",
    "即：X\\_test_{scale} = \\frac{(X\\_test-X\\_train\\_mean)}{X\\_train\\_std}  (√）\n",
    "$$\n",
    "\n",
    "$$\n",
    "而不是：X\\_test_{scale} = \\frac{(X\\_test-X\\_test\\_mean)}{X\\_test\\_std}  (×)\n",
    "$$\n",
    "\n",
    "这样做的原因主要在于：\n",
    "\n",
    "（1）真实环境中，我们无法获得所有测试数据的均值和标准差；\n",
    "\n",
    "（2）对数据的归一化也是算法的一部分。"
   ]
  },
  {
   "cell_type": "markdown",
   "metadata": {},
   "source": [
    "#### 2、封装"
   ]
  },
  {
   "cell_type": "code",
   "execution_count": 42,
   "metadata": {
    "ExecuteTime": {
     "end_time": "2020-11-29T05:15:56.365825Z",
     "start_time": "2020-11-29T05:15:56.358844Z"
    }
   },
   "outputs": [],
   "source": [
    "import numpy as np\n",
    "\n",
    "class MY_StandardScaler:\n",
    "    \n",
    "    def __init__(self):\n",
    "        self.mean_ = None\n",
    "        self.std_ = None\n",
    "        \n",
    "    def fit(self, X):\n",
    "        '''根据训练集获得数据均值和标准差'''\n",
    "        assert X.ndim == 2, '矩阵必须是二维'\n",
    "        \n",
    "        self.mean_ = np.array([np.mean(X[:,i]) for i in range(X.shape[1])])\n",
    "        self.std_ = np.array([np.std(X[:,i]) for i in range(X.shape[1])])\n",
    "        \n",
    "        return self\n",
    "    \n",
    "    def transform(self, X):\n",
    "        '''将X进行归一化'''\n",
    "        assert X.ndim == 2, '矩阵必须是二维'\n",
    "        assert self.mean_ is not None and self.std_ is not None, '请确保已经完成训练'\n",
    "        assert X.shape[1] == len(self.mean_), 'X的列数必须与均值和方差的宽度相等'\n",
    "        \n",
    "        resX = np.empty(shape=X.shape, dtype=float)\n",
    "        for col in range(X.shape[1]):\n",
    "            resX[:,col] = (X[:,col] - self.mean_[col])/self.std_[col]\n",
    "            \n",
    "        return resX"
   ]
  },
  {
   "cell_type": "code",
   "execution_count": 43,
   "metadata": {
    "ExecuteTime": {
     "end_time": "2020-11-29T05:15:56.485546Z",
     "start_time": "2020-11-29T05:15:56.366823Z"
    }
   },
   "outputs": [
    {
     "data": {
      "text/plain": [
       "<__main__.MY_StandardScaler at 0x1acc503f898>"
      ]
     },
     "execution_count": 43,
     "metadata": {},
     "output_type": "execute_result"
    },
    {
     "data": {
      "text/plain": [
       "array([5.73142857, 3.04666667, 3.54952381, 1.10095238])"
      ]
     },
     "execution_count": 43,
     "metadata": {},
     "output_type": "execute_result"
    },
    {
     "data": {
      "text/plain": [
       "array([0.84394925, 0.44251805, 1.7769489 , 0.7529618 ])"
      ]
     },
     "execution_count": 43,
     "metadata": {},
     "output_type": "execute_result"
    },
    {
     "data": {
      "text/plain": [
       "<matplotlib.collections.PathCollection at 0x1acc6692128>"
      ]
     },
     "execution_count": 43,
     "metadata": {},
     "output_type": "execute_result"
    },
    {
     "data": {
      "text/plain": [
       "<matplotlib.collections.PathCollection at 0x1acc664a470>"
      ]
     },
     "execution_count": 43,
     "metadata": {},
     "output_type": "execute_result"
    },
    {
     "data": {
      "text/plain": [
       "<matplotlib.legend.Legend at 0x1acc53ccc88>"
      ]
     },
     "execution_count": 43,
     "metadata": {},
     "output_type": "execute_result"
    },
    {
     "data": {
      "image/png": "[encoded data removed]",
      "text/plain": [
       "<Figure size 432x288 with 1 Axes>"
      ]
     },
     "metadata": {
      "needs_background": "light"
     },
     "output_type": "display_data"
    }
   ],
   "source": [
    "# 应用\n",
    "from sklearn import datasets\n",
    "iris = datasets.load_iris()\n",
    "\n",
    "X_iris = iris.data\n",
    "y_iris = iris.target\n",
    "\n",
    "X_iris_trian, X_iris_test, y_iris_train, y_iris_test = my_train_test_split(X_iris, y_iris, test_size=0.2, random_state=400)\n",
    "\n",
    "# fit\n",
    "my_scaler = MY_StandardScaler()\n",
    "my_scaler.fit(X_iris_train)\n",
    "\n",
    "# 查看fit后的“参数”\n",
    "my_scaler.mean_\n",
    "my_scaler.std_\n",
    "\n",
    "# 对训练集进行归一化\n",
    "X_train_scale = my_scaler.transform(X_iris_trian)\n",
    "plt.scatter(X_train_scale[:,1], X_train_scale[:,3], c='steelblue', label='训练集')\n",
    "\n",
    "# 对测试集进行归一化\n",
    "X_test_scale = my_scaler.transform(X_iris_test)\n",
    "plt.scatter(X_test_scale[:,1], X_test_scale[:,3], c='indianred', label='测试集')\n",
    "\n",
    "plt.legend()\n",
    "plt.show()"
   ]
  },
  {
   "cell_type": "markdown",
   "metadata": {},
   "source": [
    "### （三）scikit - learn 中的 StandardScaler"
   ]
  },
  {
   "cell_type": "code",
   "execution_count": 44,
   "metadata": {
    "ExecuteTime": {
     "end_time": "2020-11-29T05:15:56.601195Z",
     "start_time": "2020-11-29T05:15:56.486504Z"
    }
   },
   "outputs": [
    {
     "data": {
      "text/plain": [
       "StandardScaler()"
      ]
     },
     "execution_count": 44,
     "metadata": {},
     "output_type": "execute_result"
    },
    {
     "data": {
      "text/plain": [
       "array([5.73142857, 3.04666667, 3.54952381, 1.10095238])"
      ]
     },
     "execution_count": 44,
     "metadata": {},
     "output_type": "execute_result"
    },
    {
     "data": {
      "text/plain": [
       "array([0.84394925, 0.44251805, 1.7769489 , 0.7529618 ])"
      ]
     },
     "execution_count": 44,
     "metadata": {},
     "output_type": "execute_result"
    },
    {
     "data": {
      "text/plain": [
       "<matplotlib.collections.PathCollection at 0x1acc6732780>"
      ]
     },
     "execution_count": 44,
     "metadata": {},
     "output_type": "execute_result"
    },
    {
     "data": {
      "text/plain": [
       "<matplotlib.collections.PathCollection at 0x1acc52174e0>"
      ]
     },
     "execution_count": 44,
     "metadata": {},
     "output_type": "execute_result"
    },
    {
     "data": {
      "text/plain": [
       "<matplotlib.legend.Legend at 0x1acc1d4a9e8>"
      ]
     },
     "execution_count": 44,
     "metadata": {},
     "output_type": "execute_result"
    },
    {
     "data": {
      "image/png": "[encoded data removed]",
      "text/plain": [
       "<Figure size 432x288 with 1 Axes>"
      ]
     },
     "metadata": {
      "needs_background": "light"
     },
     "output_type": "display_data"
    }
   ],
   "source": [
    "from sklearn.preprocessing import StandardScaler\n",
    "\n",
    "# fit\n",
    "s_scaler = StandardScaler()\n",
    "s_scaler.fit(X_iris_train)\n",
    "\n",
    "# 查看fit后的“参数”\n",
    "s_scaler.mean_\n",
    "s_scaler.scale_\n",
    "\n",
    "# 对训练集进行归一化\n",
    "X_train_scale_s = s_scaler.transform(X_iris_train)\n",
    "plt.scatter(X_train_scale_s[:,1], X_train_scale_s[:,3], c='steelblue', label='训练集')\n",
    "\n",
    "# 对测试集进行归一化\n",
    "X_test_scale_s = s_scaler.transform(X_iris_test)\n",
    "plt.scatter(X_test_scale_s[:,1], X_test_scale_s[:,3], c='indianred', label='测试集')\n",
    "\n",
    "plt.legend()\n",
    "plt.show()"
   ]
  },
  {
   "cell_type": "markdown",
   "metadata": {},
   "source": [
    "## 六、总结"
   ]
  },
  {
   "cell_type": "markdown",
   "metadata": {},
   "source": [
    "#### 1、基本思想\n",
    "KNN算法的基本思想是：计算预测点与样本点之间的距离，选取k个近邻中频数最多的类别作为预测点的类别。\n",
    "\n",
    "#### 2、处理问题\n",
    "它既能处理分类问题（二分类、多分类），也能处理回归问题。\n",
    "\n",
    "#### 3、主要优点：\n",
    "1、思想简单，效果强大；\n",
    "2、二分类、多分类、回归问题都能解决。\n",
    "\n",
    "#### 4、主要缺点：\n",
    "1、训练效率低下。如果训练集有m个样本，n个特征，则预测每一个新的数据，都需要O(m\\*n)的时间复杂度（优化：KD-tree、Ball-tree）；\n",
    "\n",
    "2、高度数据相关。对极端值极为敏感，例如：k = 3时，如果预测点附近出现2个极端值，则就会导致预测错误，极端值会对预测产生较大的错误引导；\n",
    "\n",
    "3、预测结果可解释性差；\n",
    "\n",
    "4、维度灾难。随着维度增加，超空间越张越大，导致训练样本在整个超空间中变得极为稀疏，这样就会导致在超空间中抓到的k个近邻，实际上与预测点本身并没有那么“相似”，从而导致预测错误。（参考：https://www.cnblogs.com/datahunter/p/3808252.html）"
   ]
  }
 ],
 "metadata": {
  "kernelspec": {
   "display_name": "Python 3",
   "language": "python",
   "name": "python3"
  },
  "language_info": {
   "codemirror_mode": {
    "name": "ipython",
    "version": 3
   },
   "file_extension": ".py",
   "mimetype": "text/x-python",
   "name": "python",
   "nbconvert_exporter": "python",
   "pygments_lexer": "ipython3",
   "version": "3.7.3"
  }
 },
 "nbformat": 4,
 "nbformat_minor": 2
}
